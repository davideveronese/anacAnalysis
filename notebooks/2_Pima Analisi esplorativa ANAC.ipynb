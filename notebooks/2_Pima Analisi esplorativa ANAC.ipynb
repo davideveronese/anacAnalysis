{
 "cells": [
  {
   "cell_type": "markdown",
   "metadata": {},
   "source": [
    "Questo notebook integra i dati di ANAC con quelli di IndicePA e contiene una serie di analisi descrittive. \n",
    "\n",
    "Output: *data/anac/anac_indicepa.tsv* contiene tutti i bandi di gara avvenuti nel 2017 da parte di PA censite in indicePA.\n",
    "\n",
    "**Note**\n",
    "1. Sono stati estratti un totale di 3913440 gare, di cui 1842313 avvenute nell'anno 2017. Si procede all'analisi descrittiva di quest'ultimi bandi.\n",
    "2. Molti data record contengono valori inconsistenti dovuti a typo (e.g. date con valori errate - 202/02/2016) o ad omissioni da parte delle PA (e.g. codici fiscali di strutture proponenti aventi valori nulli o uguali a *0*, codici fiscali di aggiudicatari offuscati o inesistenti). \n"
   ]
  },
  {
   "cell_type": "code",
   "execution_count": 1,
   "metadata": {},
   "outputs": [],
   "source": [
    "import pandas as pd\n",
    "import numpy\n",
    "import csv"
   ]
  },
  {
   "cell_type": "code",
   "execution_count": 2,
   "metadata": {},
   "outputs": [
    {
     "name": "stderr",
     "output_type": "stream",
     "text": [
      "/Users/fabiana/anaconda3/lib/python3.6/site-packages/IPython/core/interactiveshell.py:2728: DtypeWarning: Columns (1) have mixed types. Specify dtype option on import or set low_memory=False.\n",
      "  interactivity=interactivity, compiler=compiler, result=result)\n"
     ]
    }
   ],
   "source": [
    "f_anac = \"data/anac/anacDataset_1522836870094_postprocessed2.tsv\"\n",
    "#df = pd.read_csv(f_anac, sep=\"\\t\", error_bad_lines=False, parse_dates=True)\n",
    "df = pd.read_csv(f_anac, sep=\"\\t\", parse_dates=True)"
   ]
  },
  {
   "cell_type": "code",
   "execution_count": 3,
   "metadata": {},
   "outputs": [
    {
     "name": "stdout",
     "output_type": "stream",
     "text": [
      "<class 'pandas.core.frame.DataFrame'>\n",
      "RangeIndex: 3913440 entries, 0 to 3913439\n",
      "Data columns (total 17 columns):\n",
      "cig                                  object\n",
      "cfStrutturaProponente                object\n",
      "denominazioneStrutturaProponente     object\n",
      "oggetto                              object\n",
      "sceltaContraente                     object\n",
      "importoAggiudicazione                float64\n",
      "importoSommeLiquidate                float64\n",
      "dataInizio                           datetime64[ns]\n",
      "dataUltimazione                      datetime64[ns]\n",
      "jsonPartecipanti                     object\n",
      "jsonAggiudicatari                    object\n",
      "totalePartecipanti                   int64\n",
      "totaleAggiudicatari                  int64\n",
      "totaleRaggruppamentopartecipanti     int64\n",
      "totaleRaggruppamentoAggiudicatari    int64\n",
      "cfPrimoaggiudicatario                object\n",
      "denominazionePrimoaggiudicatario     object\n",
      "dtypes: datetime64[ns](2), float64(2), int64(4), object(9)\n",
      "memory usage: 507.6+ MB\n"
     ]
    }
   ],
   "source": [
    "#ci sono typo in alcune date (e.g. 202/02/2016)\n",
    "df['dataInizio'] = pd.to_datetime(df['dataInizio'], errors='coerce', format=\"%d/%m/%Y\")\n",
    "df['dataUltimazione'] = pd.to_datetime(df['dataUltimazione'], errors='coerce', format=\"%d/%m/%Y\")\n",
    "df.info()"
   ]
  },
  {
   "cell_type": "markdown",
   "metadata": {},
   "source": [
    "## Analisi gare 2017"
   ]
  },
  {
   "cell_type": "code",
   "execution_count": 43,
   "metadata": {},
   "outputs": [
    {
     "data": {
      "text/plain": [
       "(303747, 17)"
      ]
     },
     "execution_count": 43,
     "metadata": {},
     "output_type": "execute_result"
    }
   ],
   "source": [
    "is_2017 = (df['dataInizio'] >= '01/01/2017') & (df['dataInizio'] <= '31/12/2017')\n",
    "df_2017 = df.loc[is_2017]\n",
    "df_2017.shape"
   ]
  },
  {
   "cell_type": "code",
   "execution_count": 44,
   "metadata": {},
   "outputs": [
    {
     "ename": "KeyError",
     "evalue": "\"['cfStrutturaProponente'] not in index\"",
     "output_type": "error",
     "traceback": [
      "\u001b[0;31m---------------------------------------------------------------------------\u001b[0m",
      "\u001b[0;31mKeyError\u001b[0m                                  Traceback (most recent call last)",
      "\u001b[0;32m<ipython-input-44-3007493a6be2>\u001b[0m in \u001b[0;36m<module>\u001b[0;34m()\u001b[0m\n\u001b[0;32m----> 1\u001b[0;31m \u001b[0mdf_cfPrimoaggiudicatario_count\u001b[0m \u001b[0;34m=\u001b[0m \u001b[0mdf_2017\u001b[0m\u001b[0;34m[\u001b[0m\u001b[0;34m[\u001b[0m\u001b[0;34m\"cfStrutturaProponente\"\u001b[0m\u001b[0;34m,\u001b[0m \u001b[0;34m\"cfPrimoaggiudicatario\"\u001b[0m\u001b[0;34m]\u001b[0m\u001b[0;34m]\u001b[0m\u001b[0;34m.\u001b[0m\u001b[0mgroupby\u001b[0m\u001b[0;34m(\u001b[0m\u001b[0;34m[\u001b[0m\u001b[0;34m\"cfPrimoaggiudicatario\"\u001b[0m\u001b[0;34m]\u001b[0m\u001b[0;34m)\u001b[0m\u001b[0;34m[\u001b[0m\u001b[0;34m\"cfPrimoaggiudicatario\"\u001b[0m\u001b[0;34m]\u001b[0m\u001b[0;34m.\u001b[0m\u001b[0magg\u001b[0m\u001b[0;34m(\u001b[0m\u001b[0;34m[\u001b[0m\u001b[0;34m\"count\"\u001b[0m\u001b[0;34m]\u001b[0m\u001b[0;34m)\u001b[0m\u001b[0;34m.\u001b[0m\u001b[0mreset_index\u001b[0m\u001b[0;34m(\u001b[0m\u001b[0;36m0\u001b[0m\u001b[0;34m)\u001b[0m\u001b[0;34m\u001b[0m\u001b[0m\n\u001b[0m\u001b[1;32m      2\u001b[0m \u001b[0;31m#df_cfPrimoaggiudicatario_count.head(3)\u001b[0m\u001b[0;34m\u001b[0m\u001b[0;34m\u001b[0m\u001b[0m\n\u001b[1;32m      3\u001b[0m \u001b[0mdf_cfPrimoaggiudicatario_sum\u001b[0m \u001b[0;34m=\u001b[0m \u001b[0mdf_2017\u001b[0m\u001b[0;34m[\u001b[0m\u001b[0;34m[\u001b[0m\u001b[0;34m\"importoSommeLiquidate\"\u001b[0m\u001b[0;34m,\u001b[0m\u001b[0;34m\"importoAggiudicazione\"\u001b[0m\u001b[0;34m,\u001b[0m \u001b[0;34m\"cfPrimoaggiudicatario\"\u001b[0m\u001b[0;34m]\u001b[0m\u001b[0;34m]\u001b[0m\u001b[0;34m.\u001b[0m\u001b[0mgroupby\u001b[0m\u001b[0;34m(\u001b[0m\u001b[0;34m[\u001b[0m\u001b[0;34m\"cfPrimoaggiudicatario\"\u001b[0m\u001b[0;34m]\u001b[0m\u001b[0;34m)\u001b[0m\u001b[0;34m.\u001b[0m\u001b[0msum\u001b[0m\u001b[0;34m(\u001b[0m\u001b[0;34m)\u001b[0m\u001b[0;34m.\u001b[0m\u001b[0mreset_index\u001b[0m\u001b[0;34m(\u001b[0m\u001b[0;34m)\u001b[0m\u001b[0;34m\u001b[0m\u001b[0m\n\u001b[1;32m      4\u001b[0m \u001b[0;31m#df_cfPrimoaggiudicatario_sum.head(3)\u001b[0m\u001b[0;34m\u001b[0m\u001b[0;34m\u001b[0m\u001b[0m\n",
      "\u001b[0;32m~/anaconda3/lib/python3.6/site-packages/pandas/core/frame.py\u001b[0m in \u001b[0;36m__getitem__\u001b[0;34m(self, key)\u001b[0m\n\u001b[1;32m   2131\u001b[0m         \u001b[0;32mif\u001b[0m \u001b[0misinstance\u001b[0m\u001b[0;34m(\u001b[0m\u001b[0mkey\u001b[0m\u001b[0;34m,\u001b[0m \u001b[0;34m(\u001b[0m\u001b[0mSeries\u001b[0m\u001b[0;34m,\u001b[0m \u001b[0mnp\u001b[0m\u001b[0;34m.\u001b[0m\u001b[0mndarray\u001b[0m\u001b[0;34m,\u001b[0m \u001b[0mIndex\u001b[0m\u001b[0;34m,\u001b[0m \u001b[0mlist\u001b[0m\u001b[0;34m)\u001b[0m\u001b[0;34m)\u001b[0m\u001b[0;34m:\u001b[0m\u001b[0;34m\u001b[0m\u001b[0m\n\u001b[1;32m   2132\u001b[0m             \u001b[0;31m# either boolean or fancy integer index\u001b[0m\u001b[0;34m\u001b[0m\u001b[0;34m\u001b[0m\u001b[0m\n\u001b[0;32m-> 2133\u001b[0;31m             \u001b[0;32mreturn\u001b[0m \u001b[0mself\u001b[0m\u001b[0;34m.\u001b[0m\u001b[0m_getitem_array\u001b[0m\u001b[0;34m(\u001b[0m\u001b[0mkey\u001b[0m\u001b[0;34m)\u001b[0m\u001b[0;34m\u001b[0m\u001b[0m\n\u001b[0m\u001b[1;32m   2134\u001b[0m         \u001b[0;32melif\u001b[0m \u001b[0misinstance\u001b[0m\u001b[0;34m(\u001b[0m\u001b[0mkey\u001b[0m\u001b[0;34m,\u001b[0m \u001b[0mDataFrame\u001b[0m\u001b[0;34m)\u001b[0m\u001b[0;34m:\u001b[0m\u001b[0;34m\u001b[0m\u001b[0m\n\u001b[1;32m   2135\u001b[0m             \u001b[0;32mreturn\u001b[0m \u001b[0mself\u001b[0m\u001b[0;34m.\u001b[0m\u001b[0m_getitem_frame\u001b[0m\u001b[0;34m(\u001b[0m\u001b[0mkey\u001b[0m\u001b[0;34m)\u001b[0m\u001b[0;34m\u001b[0m\u001b[0m\n",
      "\u001b[0;32m~/anaconda3/lib/python3.6/site-packages/pandas/core/frame.py\u001b[0m in \u001b[0;36m_getitem_array\u001b[0;34m(self, key)\u001b[0m\n\u001b[1;32m   2175\u001b[0m             \u001b[0;32mreturn\u001b[0m \u001b[0mself\u001b[0m\u001b[0;34m.\u001b[0m\u001b[0m_take\u001b[0m\u001b[0;34m(\u001b[0m\u001b[0mindexer\u001b[0m\u001b[0;34m,\u001b[0m \u001b[0maxis\u001b[0m\u001b[0;34m=\u001b[0m\u001b[0;36m0\u001b[0m\u001b[0;34m,\u001b[0m \u001b[0mconvert\u001b[0m\u001b[0;34m=\u001b[0m\u001b[0;32mFalse\u001b[0m\u001b[0;34m)\u001b[0m\u001b[0;34m\u001b[0m\u001b[0m\n\u001b[1;32m   2176\u001b[0m         \u001b[0;32melse\u001b[0m\u001b[0;34m:\u001b[0m\u001b[0;34m\u001b[0m\u001b[0m\n\u001b[0;32m-> 2177\u001b[0;31m             \u001b[0mindexer\u001b[0m \u001b[0;34m=\u001b[0m \u001b[0mself\u001b[0m\u001b[0;34m.\u001b[0m\u001b[0mloc\u001b[0m\u001b[0;34m.\u001b[0m\u001b[0m_convert_to_indexer\u001b[0m\u001b[0;34m(\u001b[0m\u001b[0mkey\u001b[0m\u001b[0;34m,\u001b[0m \u001b[0maxis\u001b[0m\u001b[0;34m=\u001b[0m\u001b[0;36m1\u001b[0m\u001b[0;34m)\u001b[0m\u001b[0;34m\u001b[0m\u001b[0m\n\u001b[0m\u001b[1;32m   2178\u001b[0m             \u001b[0;32mreturn\u001b[0m \u001b[0mself\u001b[0m\u001b[0;34m.\u001b[0m\u001b[0m_take\u001b[0m\u001b[0;34m(\u001b[0m\u001b[0mindexer\u001b[0m\u001b[0;34m,\u001b[0m \u001b[0maxis\u001b[0m\u001b[0;34m=\u001b[0m\u001b[0;36m1\u001b[0m\u001b[0;34m,\u001b[0m \u001b[0mconvert\u001b[0m\u001b[0;34m=\u001b[0m\u001b[0;32mTrue\u001b[0m\u001b[0;34m)\u001b[0m\u001b[0;34m\u001b[0m\u001b[0m\n\u001b[1;32m   2179\u001b[0m \u001b[0;34m\u001b[0m\u001b[0m\n",
      "\u001b[0;32m~/anaconda3/lib/python3.6/site-packages/pandas/core/indexing.py\u001b[0m in \u001b[0;36m_convert_to_indexer\u001b[0;34m(self, obj, axis, is_setter)\u001b[0m\n\u001b[1;32m   1267\u001b[0m                 \u001b[0;32mif\u001b[0m \u001b[0mmask\u001b[0m\u001b[0;34m.\u001b[0m\u001b[0many\u001b[0m\u001b[0;34m(\u001b[0m\u001b[0;34m)\u001b[0m\u001b[0;34m:\u001b[0m\u001b[0;34m\u001b[0m\u001b[0m\n\u001b[1;32m   1268\u001b[0m                     raise KeyError('{mask} not in index'\n\u001b[0;32m-> 1269\u001b[0;31m                                    .format(mask=objarr[mask]))\n\u001b[0m\u001b[1;32m   1270\u001b[0m \u001b[0;34m\u001b[0m\u001b[0m\n\u001b[1;32m   1271\u001b[0m                 \u001b[0;32mreturn\u001b[0m \u001b[0m_values_from_object\u001b[0m\u001b[0;34m(\u001b[0m\u001b[0mindexer\u001b[0m\u001b[0;34m)\u001b[0m\u001b[0;34m\u001b[0m\u001b[0m\n",
      "\u001b[0;31mKeyError\u001b[0m: \"['cfStrutturaProponente'] not in index\""
     ]
    }
   ],
   "source": [
    "df_cfPrimoaggiudicatario_count = df_2017[[\"cfStrutturaProponente\", \"cfPrimoaggiudicatario\"]].groupby([\"cfPrimoaggiudicatario\"])[\"cfPrimoaggiudicatario\"].agg([\"count\"]).reset_index(0)\n",
    "#df_cfPrimoaggiudicatario_count.head(3)\n",
    "df_cfPrimoaggiudicatario_sum = df_2017[[\"importoSommeLiquidate\",\"importoAggiudicazione\", \"cfPrimoaggiudicatario\"]].groupby([\"cfPrimoaggiudicatario\"]).sum().reset_index()\n",
    "#df_cfPrimoaggiudicatario_sum.head(3)"
   ]
  },
  {
   "cell_type": "code",
   "execution_count": 7,
   "metadata": {},
   "outputs": [
    {
     "name": "stdout",
     "output_type": "stream",
     "text": [
      "df_cfPrimoaggiudicatario_count (315276, 2)\n",
      "df_cfPrimoaggiudicatario_sum (315276, 3)\n"
     ]
    }
   ],
   "source": [
    "print(\"df_cfPrimoaggiudicatario_count\", df_cfPrimoaggiudicatario_count.shape)\n",
    "print(\"df_cfPrimoaggiudicatario_sum\", df_cfPrimoaggiudicatario_sum.shape)"
   ]
  },
  {
   "cell_type": "code",
   "execution_count": 8,
   "metadata": {},
   "outputs": [],
   "source": [
    "df_denominazione_aggiudicatario = df_2017[[\"cfPrimoaggiudicatario\",\"denominazionePrimoaggiudicatario\"]]\n",
    "df_denominazione_aggiudicatario = df_denominazione_aggiudicatario.set_index(\"cfPrimoaggiudicatario\")\n",
    "df_denominazione_aggiudicatario = df_denominazione_aggiudicatario[~df_denominazione_aggiudicatario.index.duplicated(keep='first')]\n",
    "#df_denominazione_aggiudicatario.head(3)"
   ]
  },
  {
   "cell_type": "code",
   "execution_count": 9,
   "metadata": {},
   "outputs": [
    {
     "data": {
      "text/plain": [
       "(315276, 3)"
      ]
     },
     "execution_count": 9,
     "metadata": {},
     "output_type": "execute_result"
    }
   ],
   "source": [
    "df_join = df_cfPrimoaggiudicatario_count.set_index('cfPrimoaggiudicatario').join(df_cfPrimoaggiudicatario_sum.set_index('cfPrimoaggiudicatario'))\n",
    "#df_join.head(3)\n",
    "df_join.shape"
   ]
  },
  {
   "cell_type": "code",
   "execution_count": 10,
   "metadata": {},
   "outputs": [
    {
     "data": {
      "text/plain": [
       "(315277, 1)"
      ]
     },
     "execution_count": 10,
     "metadata": {},
     "output_type": "execute_result"
    }
   ],
   "source": [
    "#Elimino i duplicati dalle denominazioni\n",
    "df_denominazione_aggiudicatario = df_denominazione_aggiudicatario[~df_denominazione_aggiudicatario.index.duplicated(keep='first')]\n",
    "df_denominazione_aggiudicatario.shape"
   ]
  },
  {
   "cell_type": "code",
   "execution_count": 11,
   "metadata": {},
   "outputs": [
    {
     "data": {
      "text/plain": [
       "(315276, 4)"
      ]
     },
     "execution_count": 11,
     "metadata": {},
     "output_type": "execute_result"
    }
   ],
   "source": [
    "final_df = pd.merge(df_denominazione_aggiudicatario, df_join, left_index=True, right_index=True, how='inner')\n",
    "final_df.shape"
   ]
  },
  {
   "cell_type": "code",
   "execution_count": 42,
   "metadata": {},
   "outputs": [
    {
     "data": {
      "text/html": [
       "<div>\n",
       "<style scoped>\n",
       "    .dataframe tbody tr th:only-of-type {\n",
       "        vertical-align: middle;\n",
       "    }\n",
       "\n",
       "    .dataframe tbody tr th {\n",
       "        vertical-align: top;\n",
       "    }\n",
       "\n",
       "    .dataframe thead th {\n",
       "        text-align: right;\n",
       "    }\n",
       "</style>\n",
       "<table border=\"1\" class=\"dataframe\">\n",
       "  <thead>\n",
       "    <tr style=\"text-align: right;\">\n",
       "      <th></th>\n",
       "      <th>denominazionePrimoaggiudicatario</th>\n",
       "      <th>count</th>\n",
       "      <th>importoSommeLiquidate</th>\n",
       "      <th>importoAggiudicazione</th>\n",
       "    </tr>\n",
       "    <tr>\n",
       "      <th>cfPrimoaggiudicatario</th>\n",
       "      <th></th>\n",
       "      <th></th>\n",
       "      <th></th>\n",
       "      <th></th>\n",
       "    </tr>\n",
       "  </thead>\n",
       "  <tbody>\n",
       "    <tr>\n",
       "      <th>09606050962</th>\n",
       "      <td>Kresco Group Multibrand srl</td>\n",
       "      <td>1</td>\n",
       "      <td>2.005000e+04</td>\n",
       "      <td>2.005000e+04</td>\n",
       "    </tr>\n",
       "    <tr>\n",
       "      <th>Raggruppamento</th>\n",
       "      <td>Raggruppamento</td>\n",
       "      <td>74668</td>\n",
       "      <td>1.290753e+09</td>\n",
       "      <td>5.298415e+09</td>\n",
       "    </tr>\n",
       "  </tbody>\n",
       "</table>\n",
       "</div>"
      ],
      "text/plain": [
       "                      denominazionePrimoaggiudicatario  count  \\\n",
       "cfPrimoaggiudicatario                                           \n",
       "09606050962                Kresco Group Multibrand srl      1   \n",
       "Raggruppamento                          Raggruppamento  74668   \n",
       "\n",
       "                       importoSommeLiquidate  importoAggiudicazione  \n",
       "cfPrimoaggiudicatario                                                \n",
       "09606050962                     2.005000e+04           2.005000e+04  \n",
       "Raggruppamento                  1.290753e+09           5.298415e+09  "
      ]
     },
     "execution_count": 42,
     "metadata": {},
     "output_type": "execute_result"
    }
   ],
   "source": [
    "final_df.head(2)"
   ]
  },
  {
   "cell_type": "markdown",
   "metadata": {},
   "source": [
    "## Top aziende, nel 2017, aggiudicatare in termini di gare vinte e importo aggiudicazione \n",
    "\n",
    "**Note**\n",
    "\n",
    "1. Gli aggiudicatari dei bandi di gara possono essere sia singole aziende che raggruppamenti. In quest'ultimo caso il campo *cfPrimoaggiudicatario* e il campo *denominazionePrimoaggiudicatario* avranno valore *Raggruppamento*;\n",
    "2. Ci sono 74668 bandi di gara vinti da raggruppamenti. Si dedica a questi data record una successiva analisi."
   ]
  },
  {
   "cell_type": "code",
   "execution_count": 13,
   "metadata": {
    "scrolled": true
   },
   "outputs": [
    {
     "data": {
      "text/html": [
       "<div>\n",
       "<style scoped>\n",
       "    .dataframe tbody tr th:only-of-type {\n",
       "        vertical-align: middle;\n",
       "    }\n",
       "\n",
       "    .dataframe tbody tr th {\n",
       "        vertical-align: top;\n",
       "    }\n",
       "\n",
       "    .dataframe thead th {\n",
       "        text-align: right;\n",
       "    }\n",
       "</style>\n",
       "<table border=\"1\" class=\"dataframe\">\n",
       "  <thead>\n",
       "    <tr style=\"text-align: right;\">\n",
       "      <th></th>\n",
       "      <th>denominazionePrimoaggiudicatario</th>\n",
       "      <th>count</th>\n",
       "      <th>importoSommeLiquidate</th>\n",
       "      <th>importoAggiudicazione</th>\n",
       "    </tr>\n",
       "    <tr>\n",
       "      <th>cfPrimoaggiudicatario</th>\n",
       "      <th></th>\n",
       "      <th></th>\n",
       "      <th></th>\n",
       "      <th></th>\n",
       "    </tr>\n",
       "  </thead>\n",
       "  <tbody>\n",
       "    <tr>\n",
       "      <th>Raggruppamento</th>\n",
       "      <td>Raggruppamento</td>\n",
       "      <td>74668</td>\n",
       "      <td>1.290753e+09</td>\n",
       "      <td>5.298415e+09</td>\n",
       "    </tr>\n",
       "    <tr>\n",
       "      <th>00150470342</th>\n",
       "      <td>Gruppo Spaggiari Parma SpA</td>\n",
       "      <td>14857</td>\n",
       "      <td>7.373984e+06</td>\n",
       "      <td>8.166934e+06</td>\n",
       "    </tr>\n",
       "    <tr>\n",
       "      <th>00488410010</th>\n",
       "      <td>TELECOM ITALIA SpA</td>\n",
       "      <td>10502</td>\n",
       "      <td>3.060910e+07</td>\n",
       "      <td>1.156872e+08</td>\n",
       "    </tr>\n",
       "    <tr>\n",
       "      <th>02027040019</th>\n",
       "      <td>CDATABORGIONE CENTRO DIDATTICO SRL</td>\n",
       "      <td>7522</td>\n",
       "      <td>3.413943e+06</td>\n",
       "      <td>3.970015e+06</td>\n",
       "    </tr>\n",
       "    <tr>\n",
       "      <th>03222970406</th>\n",
       "      <td>MyO Srl</td>\n",
       "      <td>7002</td>\n",
       "      <td>3.963308e+06</td>\n",
       "      <td>7.912744e+06</td>\n",
       "    </tr>\n",
       "  </tbody>\n",
       "</table>\n",
       "</div>"
      ],
      "text/plain": [
       "                          denominazionePrimoaggiudicatario  count  \\\n",
       "cfPrimoaggiudicatario                                               \n",
       "Raggruppamento                              Raggruppamento  74668   \n",
       "00150470342                     Gruppo Spaggiari Parma SpA  14857   \n",
       "00488410010                             TELECOM ITALIA SpA  10502   \n",
       "02027040019             CDATABORGIONE CENTRO DIDATTICO SRL   7522   \n",
       "03222970406                                        MyO Srl   7002   \n",
       "\n",
       "                       importoSommeLiquidate  importoAggiudicazione  \n",
       "cfPrimoaggiudicatario                                                \n",
       "Raggruppamento                  1.290753e+09           5.298415e+09  \n",
       "00150470342                     7.373984e+06           8.166934e+06  \n",
       "00488410010                     3.060910e+07           1.156872e+08  \n",
       "02027040019                     3.413943e+06           3.970015e+06  \n",
       "03222970406                     3.963308e+06           7.912744e+06  "
      ]
     },
     "execution_count": 13,
     "metadata": {},
     "output_type": "execute_result"
    }
   ],
   "source": [
    "top_aggiuficatari = final_df.sort_values(['count', \"importoAggiudicazione\"], ascending=False)\n",
    "top_aggiuficatari.head()"
   ]
  },
  {
   "cell_type": "markdown",
   "metadata": {},
   "source": [
    "## Integrazione dati ANAC con IndicePA\n",
    "\n",
    "Il file *\"data/indicePA/indicePA.tsv\"* è stato estratto a partire dal notebook *Analisi IndicePA*.\n",
    "\n",
    "**Note**\n",
    "\n",
    "- Anno 2017: Su 1.842.313 bandi di gara, solo 1.321.761 hanno codici fiscali di strutture proponenti validi. Questo è dovuto al fatto che alcuni codici fiscali sono errati, mentre altri sono codici fiscali di SPA (non censite in IndicePA). Il dataframe è salvato in *data/anac/anac_indicepa_2017.tsv*\n",
    "- Tutti gli anni: Su 3.913.440  bandi di gara, 2.682.931 hanno codici fiscali di strutture proponenti validi."
   ]
  },
  {
   "cell_type": "code",
   "execution_count": 14,
   "metadata": {},
   "outputs": [],
   "source": [
    "f_indicePA = \"data/indicePA/indicePA.tsv\"\n",
    "df_indicePA = pd.read_csv(f_indicePA, sep=\"\\t\")"
   ]
  },
  {
   "cell_type": "code",
   "execution_count": 15,
   "metadata": {},
   "outputs": [
    {
     "name": "stdout",
     "output_type": "stream",
     "text": [
      "<class 'pandas.core.frame.DataFrame'>\n",
      "RangeIndex: 13870 entries, 0 to 13869\n",
      "Data columns (total 8 columns):\n",
      "cfStrutturaProponente    13870 non-null int64\n",
      "cod_amm                  13870 non-null object\n",
      "regione                  13870 non-null object\n",
      "provincia                13423 non-null object\n",
      "comune                   13870 non-null object\n",
      "indirizzo                13870 non-null object\n",
      "tipologia_istat          13870 non-null object\n",
      "tipologia_amm            13870 non-null object\n",
      "dtypes: int64(1), object(7)\n",
      "memory usage: 867.0+ KB\n"
     ]
    }
   ],
   "source": [
    "df_indicePA = df_indicePA.rename(columns={'cf': 'cfStrutturaProponente'})\n",
    "df_indicePA.info()"
   ]
  },
  {
   "cell_type": "code",
   "execution_count": 16,
   "metadata": {},
   "outputs": [
    {
     "data": {
      "text/html": [
       "<div>\n",
       "<style scoped>\n",
       "    .dataframe tbody tr th:only-of-type {\n",
       "        vertical-align: middle;\n",
       "    }\n",
       "\n",
       "    .dataframe tbody tr th {\n",
       "        vertical-align: top;\n",
       "    }\n",
       "\n",
       "    .dataframe thead th {\n",
       "        text-align: right;\n",
       "    }\n",
       "</style>\n",
       "<table border=\"1\" class=\"dataframe\">\n",
       "  <thead>\n",
       "    <tr style=\"text-align: right;\">\n",
       "      <th></th>\n",
       "      <th>cfStrutturaProponente</th>\n",
       "      <th>cod_amm</th>\n",
       "      <th>regione</th>\n",
       "      <th>provincia</th>\n",
       "      <th>comune</th>\n",
       "      <th>indirizzo</th>\n",
       "      <th>tipologia_istat</th>\n",
       "      <th>tipologia_amm</th>\n",
       "    </tr>\n",
       "  </thead>\n",
       "  <tbody>\n",
       "    <tr>\n",
       "      <th>0</th>\n",
       "      <td>7640210964</td>\n",
       "      <td>amcma</td>\n",
       "      <td>Lombardia</td>\n",
       "      <td>MI</td>\n",
       "      <td>Cerro Maggiore</td>\n",
       "      <td>Piazza Aldo Moro,1</td>\n",
       "      <td>Altri Enti Locali</td>\n",
       "      <td>Pubbliche Amministrazioni</td>\n",
       "    </tr>\n",
       "    <tr>\n",
       "      <th>1</th>\n",
       "      <td>80010060277</td>\n",
       "      <td>m_inf</td>\n",
       "      <td>Lazio</td>\n",
       "      <td>RM</td>\n",
       "      <td>Roma</td>\n",
       "      <td>Piazzale Porta Pia, 1</td>\n",
       "      <td>Presidenza del Consiglio dei Ministri, Ministe...</td>\n",
       "      <td>Pubbliche Amministrazioni</td>\n",
       "    </tr>\n",
       "  </tbody>\n",
       "</table>\n",
       "</div>"
      ],
      "text/plain": [
       "   cfStrutturaProponente cod_amm    regione provincia          comune  \\\n",
       "0             7640210964   amcma  Lombardia        MI  Cerro Maggiore   \n",
       "1            80010060277   m_inf      Lazio        RM            Roma   \n",
       "\n",
       "               indirizzo                                    tipologia_istat  \\\n",
       "0     Piazza Aldo Moro,1                                  Altri Enti Locali   \n",
       "1  Piazzale Porta Pia, 1  Presidenza del Consiglio dei Ministri, Ministe...   \n",
       "\n",
       "               tipologia_amm  \n",
       "0  Pubbliche Amministrazioni  \n",
       "1  Pubbliche Amministrazioni  "
      ]
     },
     "execution_count": 16,
     "metadata": {},
     "output_type": "execute_result"
    }
   ],
   "source": [
    "df_indicePA.head(2)"
   ]
  },
  {
   "cell_type": "markdown",
   "metadata": {},
   "source": [
    "### ANNO 2017"
   ]
  },
  {
   "cell_type": "code",
   "execution_count": 17,
   "metadata": {},
   "outputs": [
    {
     "name": "stdout",
     "output_type": "stream",
     "text": [
      "(13870, 7)\n",
      "(1842313, 16)\n"
     ]
    }
   ],
   "source": [
    "df_indicePA = df_indicePA.set_index(\"cfStrutturaProponente\")\n",
    "df_2017 = df_2017.set_index(\"cfStrutturaProponente\")\n",
    "print(df_indicePA.shape)\n",
    "print(df_2017.shape)"
   ]
  },
  {
   "cell_type": "code",
   "execution_count": 18,
   "metadata": {},
   "outputs": [],
   "source": [
    "df_2017_indicePA = pd.merge(df_2017, df_indicePA, left_index=True, right_index=True, how='inner')\n",
    "#df_2017_indicePA.shape"
   ]
  },
  {
   "cell_type": "code",
   "execution_count": 19,
   "metadata": {},
   "outputs": [
    {
     "name": "stdout",
     "output_type": "stream",
     "text": [
      "Gare di PA non recensite su indicePA:  520552\n"
     ]
    }
   ],
   "source": [
    "diff = df_2017.shape[0] - df_2017_indicePA.shape[0]\n",
    "print(\"Gare di PA non recensite su indicePA: \", diff)"
   ]
  },
  {
   "cell_type": "code",
   "execution_count": 20,
   "metadata": {},
   "outputs": [
    {
     "data": {
      "text/html": [
       "<div>\n",
       "<style scoped>\n",
       "    .dataframe tbody tr th:only-of-type {\n",
       "        vertical-align: middle;\n",
       "    }\n",
       "\n",
       "    .dataframe tbody tr th {\n",
       "        vertical-align: top;\n",
       "    }\n",
       "\n",
       "    .dataframe thead th {\n",
       "        text-align: right;\n",
       "    }\n",
       "</style>\n",
       "<table border=\"1\" class=\"dataframe\">\n",
       "  <thead>\n",
       "    <tr style=\"text-align: right;\">\n",
       "      <th></th>\n",
       "      <th>cig</th>\n",
       "      <th>denominazioneStrutturaProponente</th>\n",
       "      <th>oggetto</th>\n",
       "      <th>sceltaContraente</th>\n",
       "      <th>importoAggiudicazione</th>\n",
       "      <th>importoSommeLiquidate</th>\n",
       "      <th>dataInizio</th>\n",
       "      <th>dataUltimazione</th>\n",
       "      <th>jsonPartecipanti</th>\n",
       "      <th>jsonAggiudicatari</th>\n",
       "      <th>...</th>\n",
       "      <th>totaleRaggruppamentoAggiudicatari</th>\n",
       "      <th>cfPrimoaggiudicatario</th>\n",
       "      <th>denominazionePrimoaggiudicatario</th>\n",
       "      <th>cod_amm</th>\n",
       "      <th>regione</th>\n",
       "      <th>provincia</th>\n",
       "      <th>comune</th>\n",
       "      <th>indirizzo</th>\n",
       "      <th>tipologia_istat</th>\n",
       "      <th>tipologia_amm</th>\n",
       "    </tr>\n",
       "    <tr>\n",
       "      <th>cfStrutturaProponente</th>\n",
       "      <th></th>\n",
       "      <th></th>\n",
       "      <th></th>\n",
       "      <th></th>\n",
       "      <th></th>\n",
       "      <th></th>\n",
       "      <th></th>\n",
       "      <th></th>\n",
       "      <th></th>\n",
       "      <th></th>\n",
       "      <th></th>\n",
       "      <th></th>\n",
       "      <th></th>\n",
       "      <th></th>\n",
       "      <th></th>\n",
       "      <th></th>\n",
       "      <th></th>\n",
       "      <th></th>\n",
       "      <th></th>\n",
       "      <th></th>\n",
       "      <th></th>\n",
       "    </tr>\n",
       "  </thead>\n",
       "  <tbody>\n",
       "    <tr>\n",
       "      <th>8010803</th>\n",
       "      <td>0000000000</td>\n",
       "      <td>COMUNE DI CINQUEFRONDI SERVIZI TECNICI</td>\n",
       "      <td>MANUTENZIONE RECINZIONE E MESSA IN SICUREZZA C...</td>\n",
       "      <td>06PROCEDURA NEGOZIATA SENZA PREVIA INDIZIONE D...</td>\n",
       "      <td>491.80</td>\n",
       "      <td>0.0</td>\n",
       "      <td>2017-12-20</td>\n",
       "      <td>NaT</td>\n",
       "      <td>{\"raggruppamento\":[],\"partecipante\":[]}</td>\n",
       "      <td>{\"aggiudicatarioRaggruppamento\":[],\"aggiudicat...</td>\n",
       "      <td>...</td>\n",
       "      <td>0</td>\n",
       "      <td>Raggruppamento</td>\n",
       "      <td>Raggruppamento</td>\n",
       "      <td>c_c710</td>\n",
       "      <td>Calabria</td>\n",
       "      <td>RC</td>\n",
       "      <td>Cinquefrondi</td>\n",
       "      <td>Corso Garibaldi 103</td>\n",
       "      <td>Comuni e loro Consorzi e Associazioni</td>\n",
       "      <td>Pubbliche Amministrazioni</td>\n",
       "    </tr>\n",
       "    <tr>\n",
       "      <th>8010803</th>\n",
       "      <td>0000000000</td>\n",
       "      <td>COMUNE DI CINQUEFRONDI SERVIZI TECNICI</td>\n",
       "      <td>MATERIALE VARIO PER MANUTENZIONE VERDE PUBBLICO</td>\n",
       "      <td>17AFFIDAMENTO DIRETTO EX ART 5 DELLA LEGGE N38191</td>\n",
       "      <td>423.08</td>\n",
       "      <td>0.0</td>\n",
       "      <td>2017-12-20</td>\n",
       "      <td>NaT</td>\n",
       "      <td>{\"raggruppamento\":[],\"partecipante\":[{\"codiceF...</td>\n",
       "      <td>{\"aggiudicatarioRaggruppamento\":[],\"aggiudicat...</td>\n",
       "      <td>...</td>\n",
       "      <td>0</td>\n",
       "      <td>00937680809</td>\n",
       "      <td>SARFSA</td>\n",
       "      <td>c_c710</td>\n",
       "      <td>Calabria</td>\n",
       "      <td>RC</td>\n",
       "      <td>Cinquefrondi</td>\n",
       "      <td>Corso Garibaldi 103</td>\n",
       "      <td>Comuni e loro Consorzi e Associazioni</td>\n",
       "      <td>Pubbliche Amministrazioni</td>\n",
       "    </tr>\n",
       "  </tbody>\n",
       "</table>\n",
       "<p>2 rows × 23 columns</p>\n",
       "</div>"
      ],
      "text/plain": [
       "                              cig        denominazioneStrutturaProponente  \\\n",
       "cfStrutturaProponente                                                       \n",
       "8010803                0000000000  COMUNE DI CINQUEFRONDI SERVIZI TECNICI   \n",
       "8010803                0000000000  COMUNE DI CINQUEFRONDI SERVIZI TECNICI   \n",
       "\n",
       "                                                                 oggetto  \\\n",
       "cfStrutturaProponente                                                      \n",
       "8010803                MANUTENZIONE RECINZIONE E MESSA IN SICUREZZA C...   \n",
       "8010803                  MATERIALE VARIO PER MANUTENZIONE VERDE PUBBLICO   \n",
       "\n",
       "                                                        sceltaContraente  \\\n",
       "cfStrutturaProponente                                                      \n",
       "8010803                06PROCEDURA NEGOZIATA SENZA PREVIA INDIZIONE D...   \n",
       "8010803                17AFFIDAMENTO DIRETTO EX ART 5 DELLA LEGGE N38191   \n",
       "\n",
       "                       importoAggiudicazione  importoSommeLiquidate  \\\n",
       "cfStrutturaProponente                                                 \n",
       "8010803                               491.80                    0.0   \n",
       "8010803                               423.08                    0.0   \n",
       "\n",
       "                      dataInizio dataUltimazione  \\\n",
       "cfStrutturaProponente                              \n",
       "8010803               2017-12-20             NaT   \n",
       "8010803               2017-12-20             NaT   \n",
       "\n",
       "                                                        jsonPartecipanti  \\\n",
       "cfStrutturaProponente                                                      \n",
       "8010803                          {\"raggruppamento\":[],\"partecipante\":[]}   \n",
       "8010803                {\"raggruppamento\":[],\"partecipante\":[{\"codiceF...   \n",
       "\n",
       "                                                       jsonAggiudicatari  \\\n",
       "cfStrutturaProponente                                                      \n",
       "8010803                {\"aggiudicatarioRaggruppamento\":[],\"aggiudicat...   \n",
       "8010803                {\"aggiudicatarioRaggruppamento\":[],\"aggiudicat...   \n",
       "\n",
       "                                 ...              \\\n",
       "cfStrutturaProponente            ...               \n",
       "8010803                          ...               \n",
       "8010803                          ...               \n",
       "\n",
       "                       totaleRaggruppamentoAggiudicatari  \\\n",
       "cfStrutturaProponente                                      \n",
       "8010803                                                0   \n",
       "8010803                                                0   \n",
       "\n",
       "                       cfPrimoaggiudicatario  \\\n",
       "cfStrutturaProponente                          \n",
       "8010803                       Raggruppamento   \n",
       "8010803                          00937680809   \n",
       "\n",
       "                       denominazionePrimoaggiudicatario  cod_amm   regione  \\\n",
       "cfStrutturaProponente                                                        \n",
       "8010803                                  Raggruppamento   c_c710  Calabria   \n",
       "8010803                                          SARFSA   c_c710  Calabria   \n",
       "\n",
       "                      provincia        comune            indirizzo  \\\n",
       "cfStrutturaProponente                                                \n",
       "8010803                      RC  Cinquefrondi  Corso Garibaldi 103   \n",
       "8010803                      RC  Cinquefrondi  Corso Garibaldi 103   \n",
       "\n",
       "                                             tipologia_istat  \\\n",
       "cfStrutturaProponente                                          \n",
       "8010803                Comuni e loro Consorzi e Associazioni   \n",
       "8010803                Comuni e loro Consorzi e Associazioni   \n",
       "\n",
       "                                   tipologia_amm  \n",
       "cfStrutturaProponente                             \n",
       "8010803                Pubbliche Amministrazioni  \n",
       "8010803                Pubbliche Amministrazioni  \n",
       "\n",
       "[2 rows x 23 columns]"
      ]
     },
     "execution_count": 20,
     "metadata": {},
     "output_type": "execute_result"
    }
   ],
   "source": [
    "df_2017_indicePA.head(2)"
   ]
  },
  {
   "cell_type": "code",
   "execution_count": 21,
   "metadata": {},
   "outputs": [],
   "source": [
    "df_2017_indicePA.to_csv(\"data/anac/anac_indicepa_2017.tsv\", sep=\"\\t\")"
   ]
  },
  {
   "cell_type": "markdown",
   "metadata": {},
   "source": [
    "### Tutti gli anni"
   ]
  },
  {
   "cell_type": "code",
   "execution_count": 22,
   "metadata": {},
   "outputs": [
    {
     "name": "stdout",
     "output_type": "stream",
     "text": [
      "Gare di PA non recensite su indicePA:  1230509\n"
     ]
    }
   ],
   "source": [
    "df = df.reset_index().set_index(\"cfStrutturaProponente\")\n",
    "df_all_indicePA = pd.merge(df, df_indicePA, left_index=True, right_index=True, how='inner')\n",
    "diff = df.shape[0] - df_all_indicePA.shape[0]\n",
    "print(\"Gare di PA non recensite su indicePA: \", diff)"
   ]
  },
  {
   "cell_type": "code",
   "execution_count": 23,
   "metadata": {},
   "outputs": [],
   "source": [
    "df_all_indicePA.to_csv(\"data/anac/anac_indicepa_all.tsv\", sep=\"\\t\")"
   ]
  },
  {
   "cell_type": "code",
   "execution_count": null,
   "metadata": {},
   "outputs": [],
   "source": []
  },
  {
   "cell_type": "code",
   "execution_count": null,
   "metadata": {},
   "outputs": [],
   "source": []
  }
 ],
 "metadata": {
  "kernelspec": {
   "display_name": "Python 3",
   "language": "python",
   "name": "python3"
  },
  "language_info": {
   "codemirror_mode": {
    "name": "ipython",
    "version": 3
   },
   "file_extension": ".py",
   "mimetype": "text/x-python",
   "name": "python",
   "nbconvert_exporter": "python",
   "pygments_lexer": "ipython3",
   "version": "3.6.4"
  }
 },
 "nbformat": 4,
 "nbformat_minor": 2
}
