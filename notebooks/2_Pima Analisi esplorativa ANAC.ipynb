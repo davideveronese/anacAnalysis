{
 "cells": [
  {
   "cell_type": "markdown",
   "metadata": {},
   "source": [
    "Questo notebook integra i dati di ANAC con quelli di IndicePA e contiene una serie di analisi descrittive. \n",
    "\n",
    "Output: *data/anac/anac_indicepa.tsv* contiene tutti i bandi di gara avvenuti nel 2017 da parte di PA censite in indicePA.\n",
    "\n",
    "**Note**\n",
    "1. Sono stati estratti un totale di 3913440 gare, di cui 1842313 avvenute nell'anno 2017. Si procede all'analisi descrittiva di quest'ultimi bandi.\n",
    "2. Molti data record contengono valori inconsistenti dovuti a typo (e.g. date con valori errate - 202/02/2016) o ad omissioni da parte delle PA (e.g. codici fiscali di strutture proponenti aventi valori nulli o uguali a *0*, codici fiscali di aggiudicatari offuscati o inesistenti). \n"
   ]
  },
  {
   "cell_type": "code",
   "execution_count": 1,
   "metadata": {},
   "outputs": [],
   "source": [
    "import pandas as pd\n",
    "import numpy as np\n",
    "import csv"
   ]
  },
  {
   "cell_type": "code",
   "execution_count": 2,
   "metadata": {},
   "outputs": [],
   "source": [
    "f_anac = \"data/anac/anacDataset_postprocessed.tsv\"\n",
    "#df = pd.read_csv(f_anac, sep=\"\\t\", error_bad_lines=False, parse_dates=True)\n",
    "df = pd.read_csv(f_anac, sep=\"\\t\", parse_dates=True, dtype= {\"cfStrutturaProponente\": str})"
   ]
  },
  {
   "cell_type": "code",
   "execution_count": 3,
   "metadata": {},
   "outputs": [
    {
     "name": "stdout",
     "output_type": "stream",
     "text": [
      "<class 'pandas.core.frame.DataFrame'>\n",
      "RangeIndex: 3913440 entries, 0 to 3913439\n",
      "Data columns (total 17 columns):\n",
      "cig                                  object\n",
      "cfStrutturaProponente                object\n",
      "denominazioneStrutturaProponente     object\n",
      "oggetto                              object\n",
      "sceltaContraente                     object\n",
      "importoAggiudicazione                float64\n",
      "importoSommeLiquidate                float64\n",
      "dataInizio                           datetime64[ns]\n",
      "dataUltimazione                      datetime64[ns]\n",
      "jsonPartecipanti                     object\n",
      "jsonAggiudicatari                    object\n",
      "totalePartecipanti                   int64\n",
      "totaleAggiudicatari                  int64\n",
      "totaleRaggruppamentopartecipanti     int64\n",
      "totaleRaggruppamentoAggiudicatari    int64\n",
      "cfPrimoaggiudicatario                object\n",
      "denominazionePrimoaggiudicatario     object\n",
      "dtypes: datetime64[ns](2), float64(2), int64(4), object(9)\n",
      "memory usage: 507.6+ MB\n"
     ]
    }
   ],
   "source": [
    "#ci sono typo in alcune date (e.g. 202/02/2016)\n",
    "df['dataInizio'] = pd.to_datetime(df['dataInizio'], errors='coerce', format=\"%d/%m/%Y\")\n",
    "df['dataUltimazione'] = pd.to_datetime(df['dataUltimazione'], errors='coerce', format=\"%d/%m/%Y\")\n",
    "df.info()"
   ]
  },
  {
   "cell_type": "markdown",
   "metadata": {},
   "source": [
    "## Analisi gare 2017"
   ]
  },
  {
   "cell_type": "code",
   "execution_count": 5,
   "metadata": {},
   "outputs": [
    {
     "data": {
      "text/plain": [
       "(1948850, 17)"
      ]
     },
     "execution_count": 5,
     "metadata": {},
     "output_type": "execute_result"
    }
   ],
   "source": [
    "is_2017 = (df['dataInizio'] >= '01/01/2017') & (df['dataInizio'] <= '31/12/2017')\n",
    "df_2017 = df.loc[is_2017]\n",
    "df_2017.shape"
   ]
  },
  {
   "cell_type": "code",
   "execution_count": 6,
   "metadata": {},
   "outputs": [],
   "source": [
    "df_cfPrimoaggiudicatario_count = df_2017[[\"cfStrutturaProponente\", \"cfPrimoaggiudicatario\"]].groupby([\"cfPrimoaggiudicatario\"])[\"cfPrimoaggiudicatario\"].agg([\"count\"]).reset_index(0)\n",
    "#df_cfPrimoaggiudicatario_count.head(3)\n",
    "df_cfPrimoaggiudicatario_sum = df_2017[[\"importoSommeLiquidate\",\"importoAggiudicazione\", \"cfPrimoaggiudicatario\"]].groupby([\"cfPrimoaggiudicatario\"]).sum().reset_index()\n",
    "#df_cfPrimoaggiudicatario_sum.head(3)"
   ]
  },
  {
   "cell_type": "code",
   "execution_count": 7,
   "metadata": {},
   "outputs": [
    {
     "name": "stdout",
     "output_type": "stream",
     "text": [
      "df_cfPrimoaggiudicatario_count (327702, 2)\n",
      "df_cfPrimoaggiudicatario_sum (327702, 3)\n"
     ]
    }
   ],
   "source": [
    "print(\"df_cfPrimoaggiudicatario_count\", df_cfPrimoaggiudicatario_count.shape)\n",
    "print(\"df_cfPrimoaggiudicatario_sum\", df_cfPrimoaggiudicatario_sum.shape)"
   ]
  },
  {
   "cell_type": "code",
   "execution_count": 8,
   "metadata": {},
   "outputs": [],
   "source": [
    "df_denominazione_aggiudicatario = df_2017[[\"cfPrimoaggiudicatario\",\"denominazionePrimoaggiudicatario\"]]\n",
    "df_denominazione_aggiudicatario = df_denominazione_aggiudicatario.set_index(\"cfPrimoaggiudicatario\")\n",
    "df_denominazione_aggiudicatario = df_denominazione_aggiudicatario[~df_denominazione_aggiudicatario.index.duplicated(keep='first')]\n",
    "#df_denominazione_aggiudicatario.head(3)"
   ]
  },
  {
   "cell_type": "code",
   "execution_count": 9,
   "metadata": {},
   "outputs": [
    {
     "data": {
      "text/plain": [
       "(327702, 3)"
      ]
     },
     "execution_count": 9,
     "metadata": {},
     "output_type": "execute_result"
    }
   ],
   "source": [
    "df_join = df_cfPrimoaggiudicatario_count.set_index('cfPrimoaggiudicatario').join(df_cfPrimoaggiudicatario_sum.set_index('cfPrimoaggiudicatario'))\n",
    "#df_join.head(3)\n",
    "df_join.shape"
   ]
  },
  {
   "cell_type": "code",
   "execution_count": 10,
   "metadata": {},
   "outputs": [
    {
     "data": {
      "text/plain": [
       "(327703, 1)"
      ]
     },
     "execution_count": 10,
     "metadata": {},
     "output_type": "execute_result"
    }
   ],
   "source": [
    "#Elimino i duplicati dalle denominazioni\n",
    "df_denominazione_aggiudicatario = df_denominazione_aggiudicatario[~df_denominazione_aggiudicatario.index.duplicated(keep='first')]\n",
    "df_denominazione_aggiudicatario.shape"
   ]
  },
  {
   "cell_type": "code",
   "execution_count": 11,
   "metadata": {},
   "outputs": [
    {
     "data": {
      "text/plain": [
       "(327702, 4)"
      ]
     },
     "execution_count": 11,
     "metadata": {},
     "output_type": "execute_result"
    }
   ],
   "source": [
    "final_df = pd.merge(df_denominazione_aggiudicatario, df_join, left_index=True, right_index=True, how='inner')\n",
    "final_df.shape"
   ]
  },
  {
   "cell_type": "code",
   "execution_count": 12,
   "metadata": {},
   "outputs": [
    {
     "data": {
      "text/html": [
       "<div>\n",
       "<style scoped>\n",
       "    .dataframe tbody tr th:only-of-type {\n",
       "        vertical-align: middle;\n",
       "    }\n",
       "\n",
       "    .dataframe tbody tr th {\n",
       "        vertical-align: top;\n",
       "    }\n",
       "\n",
       "    .dataframe thead th {\n",
       "        text-align: right;\n",
       "    }\n",
       "</style>\n",
       "<table border=\"1\" class=\"dataframe\">\n",
       "  <thead>\n",
       "    <tr style=\"text-align: right;\">\n",
       "      <th></th>\n",
       "      <th>denominazionePrimoaggiudicatario</th>\n",
       "      <th>count</th>\n",
       "      <th>importoSommeLiquidate</th>\n",
       "      <th>importoAggiudicazione</th>\n",
       "    </tr>\n",
       "    <tr>\n",
       "      <th>cfPrimoaggiudicatario</th>\n",
       "      <th></th>\n",
       "      <th></th>\n",
       "      <th></th>\n",
       "      <th></th>\n",
       "    </tr>\n",
       "  </thead>\n",
       "  <tbody>\n",
       "    <tr>\n",
       "      <th>09487440159</th>\n",
       "      <td>Sicond srl</td>\n",
       "      <td>1</td>\n",
       "      <td>650.0</td>\n",
       "      <td>650.0</td>\n",
       "    </tr>\n",
       "    <tr>\n",
       "      <th>09606050962</th>\n",
       "      <td>Kresco Group Multibrand srl</td>\n",
       "      <td>1</td>\n",
       "      <td>20050.0</td>\n",
       "      <td>20050.0</td>\n",
       "    </tr>\n",
       "  </tbody>\n",
       "</table>\n",
       "</div>"
      ],
      "text/plain": [
       "                      denominazionePrimoaggiudicatario  count  \\\n",
       "cfPrimoaggiudicatario                                           \n",
       "09487440159                                 Sicond srl      1   \n",
       "09606050962                Kresco Group Multibrand srl      1   \n",
       "\n",
       "                       importoSommeLiquidate  importoAggiudicazione  \n",
       "cfPrimoaggiudicatario                                                \n",
       "09487440159                            650.0                  650.0  \n",
       "09606050962                          20050.0                20050.0  "
      ]
     },
     "execution_count": 12,
     "metadata": {},
     "output_type": "execute_result"
    }
   ],
   "source": [
    "final_df.head(2)"
   ]
  },
  {
   "cell_type": "markdown",
   "metadata": {},
   "source": [
    "## Top aziende, nel 2017, aggiudicatare in termini di gare vinte e importo aggiudicazione \n",
    "\n",
    "**Note**\n",
    "\n",
    "1. Gli aggiudicatari dei bandi di gara possono essere sia singole aziende che raggruppamenti. In quest'ultimo caso il campo *cfPrimoaggiudicatario* e il campo *denominazionePrimoaggiudicatario* avranno valore *Raggruppamento*;\n",
    "2. Ci sono 74668 bandi di gara vinti da raggruppamenti. Si dedica a questi data record una successiva analisi."
   ]
  },
  {
   "cell_type": "code",
   "execution_count": 13,
   "metadata": {
    "scrolled": true
   },
   "outputs": [
    {
     "data": {
      "text/html": [
       "<div>\n",
       "<style scoped>\n",
       "    .dataframe tbody tr th:only-of-type {\n",
       "        vertical-align: middle;\n",
       "    }\n",
       "\n",
       "    .dataframe tbody tr th {\n",
       "        vertical-align: top;\n",
       "    }\n",
       "\n",
       "    .dataframe thead th {\n",
       "        text-align: right;\n",
       "    }\n",
       "</style>\n",
       "<table border=\"1\" class=\"dataframe\">\n",
       "  <thead>\n",
       "    <tr style=\"text-align: right;\">\n",
       "      <th></th>\n",
       "      <th>denominazionePrimoaggiudicatario</th>\n",
       "      <th>count</th>\n",
       "      <th>importoSommeLiquidate</th>\n",
       "      <th>importoAggiudicazione</th>\n",
       "    </tr>\n",
       "    <tr>\n",
       "      <th>cfPrimoaggiudicatario</th>\n",
       "      <th></th>\n",
       "      <th></th>\n",
       "      <th></th>\n",
       "      <th></th>\n",
       "    </tr>\n",
       "  </thead>\n",
       "  <tbody>\n",
       "    <tr>\n",
       "      <th>Raggruppamento</th>\n",
       "      <td>Raggruppamento</td>\n",
       "      <td>80132</td>\n",
       "      <td>1.430562e+09</td>\n",
       "      <td>6.056019e+09</td>\n",
       "    </tr>\n",
       "    <tr>\n",
       "      <th>00150470342</th>\n",
       "      <td>Gruppo Spaggiari Parma SpA</td>\n",
       "      <td>15047</td>\n",
       "      <td>7.601570e+06</td>\n",
       "      <td>8.399208e+06</td>\n",
       "    </tr>\n",
       "    <tr>\n",
       "      <th>00488410010</th>\n",
       "      <td>TELECOM ITALIA SpA</td>\n",
       "      <td>11842</td>\n",
       "      <td>3.750786e+07</td>\n",
       "      <td>1.265512e+08</td>\n",
       "    </tr>\n",
       "    <tr>\n",
       "      <th>02027040019</th>\n",
       "      <td>CDATABORGIONE CENTRO DIDATTICO SRL</td>\n",
       "      <td>7537</td>\n",
       "      <td>3.424255e+06</td>\n",
       "      <td>3.992890e+06</td>\n",
       "    </tr>\n",
       "    <tr>\n",
       "      <th>03222970406</th>\n",
       "      <td>MyO Srl</td>\n",
       "      <td>7206</td>\n",
       "      <td>4.166970e+06</td>\n",
       "      <td>8.217086e+06</td>\n",
       "    </tr>\n",
       "  </tbody>\n",
       "</table>\n",
       "</div>"
      ],
      "text/plain": [
       "                          denominazionePrimoaggiudicatario  count  \\\n",
       "cfPrimoaggiudicatario                                               \n",
       "Raggruppamento                              Raggruppamento  80132   \n",
       "00150470342                     Gruppo Spaggiari Parma SpA  15047   \n",
       "00488410010                             TELECOM ITALIA SpA  11842   \n",
       "02027040019             CDATABORGIONE CENTRO DIDATTICO SRL   7537   \n",
       "03222970406                                        MyO Srl   7206   \n",
       "\n",
       "                       importoSommeLiquidate  importoAggiudicazione  \n",
       "cfPrimoaggiudicatario                                                \n",
       "Raggruppamento                  1.430562e+09           6.056019e+09  \n",
       "00150470342                     7.601570e+06           8.399208e+06  \n",
       "00488410010                     3.750786e+07           1.265512e+08  \n",
       "02027040019                     3.424255e+06           3.992890e+06  \n",
       "03222970406                     4.166970e+06           8.217086e+06  "
      ]
     },
     "execution_count": 13,
     "metadata": {},
     "output_type": "execute_result"
    }
   ],
   "source": [
    "top_aggiuficatari = final_df.sort_values(['count', \"importoAggiudicazione\"], ascending=False)\n",
    "top_aggiuficatari.head()"
   ]
  },
  {
   "cell_type": "markdown",
   "metadata": {},
   "source": [
    "## Integrazione dati ANAC con IndicePA\n",
    "\n",
    "Il file *\"data/indicePA/indicePA.tsv\"* è stato estratto a partire dal notebook *Analisi IndicePA*.\n",
    "\n",
    "**Note**\n",
    "\n",
    "- Anno 2017: Su 1.842.313 bandi di gara, solo 1.321.761 hanno codici fiscali di strutture proponenti validi. Questo è dovuto al fatto che alcuni codici fiscali sono errati, mentre altri sono codici fiscali di SPA (non censite in IndicePA). Il dataframe è salvato in *data/anac/anac_indicepa_2017.tsv*\n",
    "- Tutti gli anni: Su 3.913.440  bandi di gara, 2.682.931 hanno codici fiscali di strutture proponenti validi."
   ]
  },
  {
   "cell_type": "code",
   "execution_count": 24,
   "metadata": {},
   "outputs": [],
   "source": [
    "f_indicePA = \"data/indicePA/indicePA.tsv\"\n",
    "#df_indicePA = pd.read_csv(f_indicePA, sep=\"\\t\")\n",
    "df_indicePA = pd.read_csv(f_indicePA, sep=\"\\t\",dtype={'cf': str})"
   ]
  },
  {
   "cell_type": "code",
   "execution_count": 25,
   "metadata": {},
   "outputs": [
    {
     "name": "stdout",
     "output_type": "stream",
     "text": [
      "<class 'pandas.core.frame.DataFrame'>\n",
      "RangeIndex: 13941 entries, 0 to 13940\n",
      "Data columns (total 8 columns):\n",
      "cfStrutturaProponente    13941 non-null object\n",
      "cod_amm                  13941 non-null object\n",
      "regione                  13941 non-null object\n",
      "provincia                13493 non-null object\n",
      "comune                   13941 non-null object\n",
      "indirizzo                13941 non-null object\n",
      "tipologia_istat          13941 non-null object\n",
      "tipologia_amm            13941 non-null object\n",
      "dtypes: object(8)\n",
      "memory usage: 871.4+ KB\n"
     ]
    }
   ],
   "source": [
    "df_indicePA = df_indicePA.rename(columns={'cf': 'cfStrutturaProponente'})\n",
    "df_indicePA.info()"
   ]
  },
  {
   "cell_type": "code",
   "execution_count": 27,
   "metadata": {},
   "outputs": [
    {
     "data": {
      "text/html": [
       "<div>\n",
       "<style scoped>\n",
       "    .dataframe tbody tr th:only-of-type {\n",
       "        vertical-align: middle;\n",
       "    }\n",
       "\n",
       "    .dataframe tbody tr th {\n",
       "        vertical-align: top;\n",
       "    }\n",
       "\n",
       "    .dataframe thead th {\n",
       "        text-align: right;\n",
       "    }\n",
       "</style>\n",
       "<table border=\"1\" class=\"dataframe\">\n",
       "  <thead>\n",
       "    <tr style=\"text-align: right;\">\n",
       "      <th></th>\n",
       "      <th>cfStrutturaProponente</th>\n",
       "      <th>cod_amm</th>\n",
       "      <th>regione</th>\n",
       "      <th>provincia</th>\n",
       "      <th>comune</th>\n",
       "      <th>indirizzo</th>\n",
       "      <th>tipologia_istat</th>\n",
       "      <th>tipologia_amm</th>\n",
       "    </tr>\n",
       "  </thead>\n",
       "  <tbody>\n",
       "    <tr>\n",
       "      <th>0</th>\n",
       "      <td>81002250892</td>\n",
       "      <td>istsc_srpc070006</td>\n",
       "      <td>Sicilia</td>\n",
       "      <td>SR</td>\n",
       "      <td>Augusta</td>\n",
       "      <td>Via Strazzulla, 10</td>\n",
       "      <td>Istituti di Istruzione Statale di Ogni Ordine ...</td>\n",
       "      <td>Pubbliche Amministrazioni</td>\n",
       "    </tr>\n",
       "    <tr>\n",
       "      <th>1</th>\n",
       "      <td>83002610844</td>\n",
       "      <td>istsc_agis021005</td>\n",
       "      <td>Sicilia</td>\n",
       "      <td>AG</td>\n",
       "      <td>Ribera</td>\n",
       "      <td>Piazza Zamenhof 1</td>\n",
       "      <td>Istituti di Istruzione Statale di Ogni Ordine ...</td>\n",
       "      <td>Pubbliche Amministrazioni</td>\n",
       "    </tr>\n",
       "  </tbody>\n",
       "</table>\n",
       "</div>"
      ],
      "text/plain": [
       "  cfStrutturaProponente           cod_amm  regione provincia   comune  \\\n",
       "0           81002250892  istsc_srpc070006  Sicilia        SR  Augusta   \n",
       "1           83002610844  istsc_agis021005  Sicilia        AG   Ribera   \n",
       "\n",
       "            indirizzo                                    tipologia_istat  \\\n",
       "0  Via Strazzulla, 10  Istituti di Istruzione Statale di Ogni Ordine ...   \n",
       "1   Piazza Zamenhof 1  Istituti di Istruzione Statale di Ogni Ordine ...   \n",
       "\n",
       "               tipologia_amm  \n",
       "0  Pubbliche Amministrazioni  \n",
       "1  Pubbliche Amministrazioni  "
      ]
     },
     "execution_count": 27,
     "metadata": {},
     "output_type": "execute_result"
    }
   ],
   "source": [
    "df_indicePA.head(2)"
   ]
  },
  {
   "cell_type": "markdown",
   "metadata": {},
   "source": [
    "### ANNO 2017"
   ]
  },
  {
   "cell_type": "code",
   "execution_count": 28,
   "metadata": {},
   "outputs": [
    {
     "name": "stdout",
     "output_type": "stream",
     "text": [
      "(13941, 7)\n",
      "(1948850, 16)\n"
     ]
    }
   ],
   "source": [
    "print(df_indicePA.shape)\n",
    "print(df_2017.shape)"
   ]
  },
  {
   "cell_type": "code",
   "execution_count": 33,
   "metadata": {},
   "outputs": [
    {
     "data": {
      "text/plain": [
       "(1713154, 24)"
      ]
     },
     "execution_count": 33,
     "metadata": {},
     "output_type": "execute_result"
    }
   ],
   "source": [
    "#df_2017_indicePA = pd.merge(df_2017, df_indicePA, left_index=True, right_index=True, how='inner')\n",
    "df_2017_indicePA = pd.merge(df_2017, df_indicePA, left_on=\"cfStrutturaProponente\", right_on=\"cfStrutturaProponente\", how='inner')\n",
    "df_2017_indicePA.shape"
   ]
  },
  {
   "cell_type": "code",
   "execution_count": 34,
   "metadata": {},
   "outputs": [
    {
     "name": "stdout",
     "output_type": "stream",
     "text": [
      "Gare di PA non recensite su indicePA:  235696\n"
     ]
    }
   ],
   "source": [
    "diff = df_2017.shape[0] - df_2017_indicePA.shape[0]\n",
    "print(\"Gare di PA non recensite su indicePA: \", diff)"
   ]
  },
  {
   "cell_type": "code",
   "execution_count": 49,
   "metadata": {},
   "outputs": [],
   "source": [
    "#df_2017_indicePA2 = pd.merge(df_2017, df_indicePA, left_on=\"cfStrutturaProponente\", right_on=\"cfStrutturaProponente\", how='left')\n",
    "#df_2017_indicePA2.head()"
   ]
  },
  {
   "cell_type": "code",
   "execution_count": 50,
   "metadata": {},
   "outputs": [
    {
     "data": {
      "text/html": [
       "<div>\n",
       "<style scoped>\n",
       "    .dataframe tbody tr th:only-of-type {\n",
       "        vertical-align: middle;\n",
       "    }\n",
       "\n",
       "    .dataframe tbody tr th {\n",
       "        vertical-align: top;\n",
       "    }\n",
       "\n",
       "    .dataframe thead th {\n",
       "        text-align: right;\n",
       "    }\n",
       "</style>\n",
       "<table border=\"1\" class=\"dataframe\">\n",
       "  <thead>\n",
       "    <tr style=\"text-align: right;\">\n",
       "      <th></th>\n",
       "      <th>cfStrutturaProponente</th>\n",
       "      <th>cig</th>\n",
       "      <th>denominazioneStrutturaProponente</th>\n",
       "      <th>oggetto</th>\n",
       "      <th>sceltaContraente</th>\n",
       "      <th>importoAggiudicazione</th>\n",
       "      <th>importoSommeLiquidate</th>\n",
       "      <th>dataInizio</th>\n",
       "      <th>dataUltimazione</th>\n",
       "      <th>jsonPartecipanti</th>\n",
       "      <th>...</th>\n",
       "      <th>totaleRaggruppamentoAggiudicatari</th>\n",
       "      <th>cfPrimoaggiudicatario</th>\n",
       "      <th>denominazionePrimoaggiudicatario</th>\n",
       "      <th>cod_amm</th>\n",
       "      <th>regione</th>\n",
       "      <th>provincia</th>\n",
       "      <th>comune</th>\n",
       "      <th>indirizzo</th>\n",
       "      <th>tipologia_istat</th>\n",
       "      <th>tipologia_amm</th>\n",
       "    </tr>\n",
       "  </thead>\n",
       "  <tbody>\n",
       "    <tr>\n",
       "      <th>0</th>\n",
       "      <td>07640210964</td>\n",
       "      <td>0000000000</td>\n",
       "      <td>AMCeM Azienda Multiservizi Cerro Maggiore</td>\n",
       "      <td>Impianto di condizionamento</td>\n",
       "      <td>23AFFIDAMENTO IN ECONOMIA  AFFIDAMENTO DIRETTO</td>\n",
       "      <td>650.0</td>\n",
       "      <td>650.0</td>\n",
       "      <td>2017-01-01</td>\n",
       "      <td>2019-12-31</td>\n",
       "      <td>{\"raggruppamento\":[],\"partecipante\":[{\"codiceF...</td>\n",
       "      <td>...</td>\n",
       "      <td>0</td>\n",
       "      <td>09487440159</td>\n",
       "      <td>Sicond srl</td>\n",
       "      <td>amcma</td>\n",
       "      <td>Lombardia</td>\n",
       "      <td>MI</td>\n",
       "      <td>Cerro Maggiore</td>\n",
       "      <td>Piazza Aldo Moro,1</td>\n",
       "      <td>Altri Enti Locali</td>\n",
       "      <td>Pubbliche Amministrazioni</td>\n",
       "    </tr>\n",
       "    <tr>\n",
       "      <th>1</th>\n",
       "      <td>07640210964</td>\n",
       "      <td>0000000000</td>\n",
       "      <td>AMCeM Azienda Multiservizi Cerro Maggiore</td>\n",
       "      <td>RESTYLING DELLA FARMACIA COMUNALE</td>\n",
       "      <td>23AFFIDAMENTO IN ECONOMIA  AFFIDAMENTO DIRETTO</td>\n",
       "      <td>20050.0</td>\n",
       "      <td>20050.0</td>\n",
       "      <td>2017-01-29</td>\n",
       "      <td>2017-01-29</td>\n",
       "      <td>{\"raggruppamento\":[],\"partecipante\":[{\"codiceF...</td>\n",
       "      <td>...</td>\n",
       "      <td>0</td>\n",
       "      <td>09606050962</td>\n",
       "      <td>Kresco Group Multibrand srl</td>\n",
       "      <td>amcma</td>\n",
       "      <td>Lombardia</td>\n",
       "      <td>MI</td>\n",
       "      <td>Cerro Maggiore</td>\n",
       "      <td>Piazza Aldo Moro,1</td>\n",
       "      <td>Altri Enti Locali</td>\n",
       "      <td>Pubbliche Amministrazioni</td>\n",
       "    </tr>\n",
       "  </tbody>\n",
       "</table>\n",
       "<p>2 rows × 24 columns</p>\n",
       "</div>"
      ],
      "text/plain": [
       "  cfStrutturaProponente         cig  \\\n",
       "0           07640210964  0000000000   \n",
       "1           07640210964  0000000000   \n",
       "\n",
       "            denominazioneStrutturaProponente  \\\n",
       "0  AMCeM Azienda Multiservizi Cerro Maggiore   \n",
       "1  AMCeM Azienda Multiservizi Cerro Maggiore   \n",
       "\n",
       "                             oggetto  \\\n",
       "0        Impianto di condizionamento   \n",
       "1  RESTYLING DELLA FARMACIA COMUNALE   \n",
       "\n",
       "                                 sceltaContraente  importoAggiudicazione  \\\n",
       "0  23AFFIDAMENTO IN ECONOMIA  AFFIDAMENTO DIRETTO                  650.0   \n",
       "1  23AFFIDAMENTO IN ECONOMIA  AFFIDAMENTO DIRETTO                20050.0   \n",
       "\n",
       "   importoSommeLiquidate dataInizio dataUltimazione  \\\n",
       "0                  650.0 2017-01-01      2019-12-31   \n",
       "1                20050.0 2017-01-29      2017-01-29   \n",
       "\n",
       "                                    jsonPartecipanti  \\\n",
       "0  {\"raggruppamento\":[],\"partecipante\":[{\"codiceF...   \n",
       "1  {\"raggruppamento\":[],\"partecipante\":[{\"codiceF...   \n",
       "\n",
       "             ...             totaleRaggruppamentoAggiudicatari  \\\n",
       "0            ...                                             0   \n",
       "1            ...                                             0   \n",
       "\n",
       "   cfPrimoaggiudicatario  denominazionePrimoaggiudicatario  cod_amm  \\\n",
       "0            09487440159                        Sicond srl    amcma   \n",
       "1            09606050962       Kresco Group Multibrand srl    amcma   \n",
       "\n",
       "     regione provincia          comune           indirizzo    tipologia_istat  \\\n",
       "0  Lombardia        MI  Cerro Maggiore  Piazza Aldo Moro,1  Altri Enti Locali   \n",
       "1  Lombardia        MI  Cerro Maggiore  Piazza Aldo Moro,1  Altri Enti Locali   \n",
       "\n",
       "               tipologia_amm  \n",
       "0  Pubbliche Amministrazioni  \n",
       "1  Pubbliche Amministrazioni  \n",
       "\n",
       "[2 rows x 24 columns]"
      ]
     },
     "execution_count": 50,
     "metadata": {},
     "output_type": "execute_result"
    }
   ],
   "source": [
    "df_2017_indicePA.head(2)"
   ]
  },
  {
   "cell_type": "code",
   "execution_count": 51,
   "metadata": {},
   "outputs": [],
   "source": [
    "df_2017_indicePA.to_csv(\"data/anac/anac_indicepa_2017.tsv\", sep=\"\\t\")"
   ]
  },
  {
   "cell_type": "markdown",
   "metadata": {},
   "source": [
    "### Tutti gli anni"
   ]
  },
  {
   "cell_type": "code",
   "execution_count": 57,
   "metadata": {},
   "outputs": [
    {
     "name": "stdout",
     "output_type": "stream",
     "text": [
      "Gare di PA non recensite su indicePA: 649738 (su 3913440 gare totali)\n"
     ]
    }
   ],
   "source": [
    "df_all_indicePA = pd.merge(df, df_indicePA, left_on=\"cfStrutturaProponente\", right_on=\"cfStrutturaProponente\", how='inner')\n",
    "diff = df.shape[0] - df_all_indicePA.shape[0]\n",
    "print(\"Gare di PA non recensite su indicePA: %d (su %d gare totali)\" % (diff, df.shape[0]))"
   ]
  },
  {
   "cell_type": "code",
   "execution_count": 58,
   "metadata": {},
   "outputs": [],
   "source": [
    "df_all_indicePA.to_csv(\"data/anac/anac_indicepa_all.tsv\", sep=\"\\t\")"
   ]
  },
  {
   "cell_type": "code",
   "execution_count": null,
   "metadata": {},
   "outputs": [],
   "source": []
  },
  {
   "cell_type": "code",
   "execution_count": null,
   "metadata": {},
   "outputs": [],
   "source": []
  }
 ],
 "metadata": {
  "kernelspec": {
   "display_name": "Python 3",
   "language": "python",
   "name": "python3"
  },
  "language_info": {
   "codemirror_mode": {
    "name": "ipython",
    "version": 3
   },
   "file_extension": ".py",
   "mimetype": "text/x-python",
   "name": "python",
   "nbconvert_exporter": "python",
   "pygments_lexer": "ipython3",
   "version": "3.6.5"
  }
 },
 "nbformat": 4,
 "nbformat_minor": 2
}
