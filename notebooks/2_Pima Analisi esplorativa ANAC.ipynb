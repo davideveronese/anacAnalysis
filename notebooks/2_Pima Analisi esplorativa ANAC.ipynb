{
 "cells": [
  {
   "cell_type": "markdown",
   "metadata": {},
   "source": [
    "Questo notebook integra i dati di ANAC con quelli di IndicePA e contiene una serie di analisi descrittive. \n",
    "\n",
    "Output: *data/anac/anac_indicepa.tsv* contiene tutti i bandi di gara avvenuti nel 2017 da parte di PA censite in indicePA.\n",
    "\n",
    "**Note**\n",
    "1. Sono stati estratti un totale di 3913440 gare, di cui 1842313 avvenute nell'anno 2017. Si procede all'analisi descrittiva di quest'ultimi bandi.\n",
    "2. Molti data record contengono valori inconsistenti dovuti a typo (e.g. date con valori errate - 202/02/2016) o ad omissioni da parte delle PA (e.g. codici fiscali di strutture proponenti aventi valori nulli o uguali a *0*, codici fiscali di aggiudicatari offuscati o inesistenti). \n"
   ]
  },
  {
   "cell_type": "code",
   "execution_count": 1,
   "metadata": {},
   "outputs": [],
   "source": [
    "import pandas as pd\n",
    "import numpy as np\n",
    "import csv"
   ]
  },
  {
   "cell_type": "code",
   "execution_count": 2,
   "metadata": {},
   "outputs": [],
   "source": [
    "dir_file = \"data/final_data/row_data/\"\n",
    "f_anac = dir_file + \"anacDataset_1525953489668.csv\"\n",
    "#df = pd.read_csv(f_anac, sep=\"\\t\", error_bad_lines=False, parse_dates=True)\n",
    "df = pd.read_csv(f_anac, sep=\"\\t\", parse_dates=True, dtype= {\"cfStrutturaProponente\": str})"
   ]
  },
  {
   "cell_type": "code",
   "execution_count": 3,
   "metadata": {},
   "outputs": [
    {
     "name": "stdout",
     "output_type": "stream",
     "text": [
      "<class 'pandas.core.frame.DataFrame'>\n",
      "RangeIndex: 4067642 entries, 0 to 4067641\n",
      "Data columns (total 17 columns):\n",
      "cig                                  object\n",
      "cfStrutturaProponente                object\n",
      "denominazioneStrutturaProponente     object\n",
      "oggetto                              object\n",
      "sceltaContraente                     object\n",
      "importoAggiudicazione                float64\n",
      "importoSommeLiquidate                float64\n",
      "dataInizio                           datetime64[ns]\n",
      "dataUltimazione                      datetime64[ns]\n",
      "jsonPartecipanti                     object\n",
      "jsonAggiudicatari                    object\n",
      "totalePartecipanti                   int64\n",
      "totaleAggiudicatari                  int64\n",
      "totaleRaggruppamentopartecipanti     int64\n",
      "totaleRaggruppamentoAggiudicatari    int64\n",
      "cfPrimoaggiudicatario                object\n",
      "denominazionePrimoaggiudicatario     object\n",
      "dtypes: datetime64[ns](2), float64(2), int64(4), object(9)\n",
      "memory usage: 527.6+ MB\n"
     ]
    }
   ],
   "source": [
    "#ci sono typo in alcune date (e.g. 202/02/2016)\n",
    "df['dataInizio'] = pd.to_datetime(df['dataInizio'], errors='coerce', format=\"%d/%m/%Y\")\n",
    "df['dataUltimazione'] = pd.to_datetime(df['dataUltimazione'], errors='coerce', format=\"%d/%m/%Y\")\n",
    "df.info()"
   ]
  },
  {
   "cell_type": "code",
   "execution_count": 5,
   "metadata": {},
   "outputs": [],
   "source": [
    "#pulisco i dati dalla string CDATA ed elimino spazi da i cf degli aggiudicatari\n",
    "df.oggetto = df.oggetto.apply(lambda x :str(x).lower().replace('cdata', ''))\n",
    "df.cfPrimoaggiudicatario = df.cfPrimoaggiudicatario.str.replace(' ', '')"
   ]
  },
  {
   "cell_type": "markdown",
   "metadata": {},
   "source": [
    "## Analisi gare 2017"
   ]
  },
  {
   "cell_type": "code",
   "execution_count": 7,
   "metadata": {},
   "outputs": [
    {
     "data": {
      "text/plain": [
       "(1990225, 17)"
      ]
     },
     "execution_count": 7,
     "metadata": {},
     "output_type": "execute_result"
    }
   ],
   "source": [
    "is_2017 = (df['dataInizio'] >= '01/01/2017') & (df['dataInizio'] <= '31/12/2017')\n",
    "df_2017 = df.loc[is_2017]\n",
    "df_2017.shape"
   ]
  },
  {
   "cell_type": "code",
   "execution_count": 8,
   "metadata": {},
   "outputs": [],
   "source": [
    "df_cfPrimoaggiudicatario_count = df_2017[[\"cfStrutturaProponente\", \"cfPrimoaggiudicatario\"]].groupby([\"cfPrimoaggiudicatario\"])[\"cfPrimoaggiudicatario\"].agg([\"count\"]).reset_index(0)\n",
    "#df_cfPrimoaggiudicatario_count.head(3)\n",
    "df_cfPrimoaggiudicatario_sum = df_2017[[\"importoSommeLiquidate\",\"importoAggiudicazione\", \"cfPrimoaggiudicatario\"]].groupby([\"cfPrimoaggiudicatario\"]).sum().reset_index()\n",
    "#df_cfPrimoaggiudicatario_sum.head(3)"
   ]
  },
  {
   "cell_type": "code",
   "execution_count": 9,
   "metadata": {},
   "outputs": [
    {
     "name": "stdout",
     "output_type": "stream",
     "text": [
      "df_cfPrimoaggiudicatario_count (334851, 2)\n",
      "df_cfPrimoaggiudicatario_sum (334851, 3)\n"
     ]
    }
   ],
   "source": [
    "print(\"df_cfPrimoaggiudicatario_count\", df_cfPrimoaggiudicatario_count.shape)\n",
    "print(\"df_cfPrimoaggiudicatario_sum\", df_cfPrimoaggiudicatario_sum.shape)"
   ]
  },
  {
   "cell_type": "code",
   "execution_count": 10,
   "metadata": {},
   "outputs": [],
   "source": [
    "df_denominazione_aggiudicatario = df_2017[[\"cfPrimoaggiudicatario\",\"denominazionePrimoaggiudicatario\"]]\n",
    "df_denominazione_aggiudicatario = df_denominazione_aggiudicatario.set_index(\"cfPrimoaggiudicatario\")\n",
    "df_denominazione_aggiudicatario = df_denominazione_aggiudicatario[~df_denominazione_aggiudicatario.index.duplicated(keep='first')]\n",
    "#df_denominazione_aggiudicatario.head(3)"
   ]
  },
  {
   "cell_type": "code",
   "execution_count": 11,
   "metadata": {},
   "outputs": [
    {
     "data": {
      "text/plain": [
       "(334851, 3)"
      ]
     },
     "execution_count": 11,
     "metadata": {},
     "output_type": "execute_result"
    }
   ],
   "source": [
    "df_join = df_cfPrimoaggiudicatario_count.set_index('cfPrimoaggiudicatario').join(df_cfPrimoaggiudicatario_sum.set_index('cfPrimoaggiudicatario'))\n",
    "#df_join.head(3)\n",
    "df_join.shape"
   ]
  },
  {
   "cell_type": "code",
   "execution_count": 12,
   "metadata": {},
   "outputs": [
    {
     "data": {
      "text/plain": [
       "(334852, 1)"
      ]
     },
     "execution_count": 12,
     "metadata": {},
     "output_type": "execute_result"
    }
   ],
   "source": [
    "#Elimino i duplicati dalle denominazioni\n",
    "df_denominazione_aggiudicatario = df_denominazione_aggiudicatario[~df_denominazione_aggiudicatario.index.duplicated(keep='first')]\n",
    "df_denominazione_aggiudicatario.shape"
   ]
  },
  {
   "cell_type": "code",
   "execution_count": 13,
   "metadata": {},
   "outputs": [
    {
     "data": {
      "text/plain": [
       "(334851, 4)"
      ]
     },
     "execution_count": 13,
     "metadata": {},
     "output_type": "execute_result"
    }
   ],
   "source": [
    "final_df = pd.merge(df_denominazione_aggiudicatario, df_join, left_index=True, right_index=True, how='inner')\n",
    "final_df.shape"
   ]
  },
  {
   "cell_type": "code",
   "execution_count": 14,
   "metadata": {},
   "outputs": [
    {
     "data": {
      "text/html": [
       "<div>\n",
       "<style scoped>\n",
       "    .dataframe tbody tr th:only-of-type {\n",
       "        vertical-align: middle;\n",
       "    }\n",
       "\n",
       "    .dataframe tbody tr th {\n",
       "        vertical-align: top;\n",
       "    }\n",
       "\n",
       "    .dataframe thead th {\n",
       "        text-align: right;\n",
       "    }\n",
       "</style>\n",
       "<table border=\"1\" class=\"dataframe\">\n",
       "  <thead>\n",
       "    <tr style=\"text-align: right;\">\n",
       "      <th></th>\n",
       "      <th>denominazionePrimoaggiudicatario</th>\n",
       "      <th>count</th>\n",
       "      <th>importoSommeLiquidate</th>\n",
       "      <th>importoAggiudicazione</th>\n",
       "    </tr>\n",
       "    <tr>\n",
       "      <th>cfPrimoaggiudicatario</th>\n",
       "      <th></th>\n",
       "      <th></th>\n",
       "      <th></th>\n",
       "      <th></th>\n",
       "    </tr>\n",
       "  </thead>\n",
       "  <tbody>\n",
       "    <tr>\n",
       "      <th>03404540712</th>\n",
       "      <td>ASSIGEM SRL</td>\n",
       "      <td>123</td>\n",
       "      <td>567787.98</td>\n",
       "      <td>914616.45</td>\n",
       "    </tr>\n",
       "    <tr>\n",
       "      <th>00477710552</th>\n",
       "      <td>Tipolitografia Federici snc      ...</td>\n",
       "      <td>3</td>\n",
       "      <td>1150.00</td>\n",
       "      <td>1540.00</td>\n",
       "    </tr>\n",
       "  </tbody>\n",
       "</table>\n",
       "</div>"
      ],
      "text/plain": [
       "                                        denominazionePrimoaggiudicatario  \\\n",
       "cfPrimoaggiudicatario                                                      \n",
       "03404540712                                                  ASSIGEM SRL   \n",
       "00477710552                         Tipolitografia Federici snc      ...   \n",
       "\n",
       "                       count  importoSommeLiquidate  importoAggiudicazione  \n",
       "cfPrimoaggiudicatario                                                       \n",
       "03404540712              123              567787.98              914616.45  \n",
       "00477710552                3                1150.00                1540.00  "
      ]
     },
     "execution_count": 14,
     "metadata": {},
     "output_type": "execute_result"
    }
   ],
   "source": [
    "final_df.head(2)"
   ]
  },
  {
   "cell_type": "markdown",
   "metadata": {},
   "source": [
    "## Top aziende, nel 2017, aggiudicatare in termini di gare vinte e importo aggiudicazione \n",
    "\n",
    "**Note**\n",
    "\n",
    "1. Gli aggiudicatari dei bandi di gara possono essere sia singole aziende che raggruppamenti. In quest'ultimo caso il campo *cfPrimoaggiudicatario* e il campo *denominazionePrimoaggiudicatario* avranno valore *Raggruppamento*;\n",
    "2. Ci sono 74668 bandi di gara vinti da raggruppamenti. Si dedica a questi data record una successiva analisi."
   ]
  },
  {
   "cell_type": "code",
   "execution_count": 15,
   "metadata": {
    "scrolled": true
   },
   "outputs": [
    {
     "data": {
      "text/html": [
       "<div>\n",
       "<style scoped>\n",
       "    .dataframe tbody tr th:only-of-type {\n",
       "        vertical-align: middle;\n",
       "    }\n",
       "\n",
       "    .dataframe tbody tr th {\n",
       "        vertical-align: top;\n",
       "    }\n",
       "\n",
       "    .dataframe thead th {\n",
       "        text-align: right;\n",
       "    }\n",
       "</style>\n",
       "<table border=\"1\" class=\"dataframe\">\n",
       "  <thead>\n",
       "    <tr style=\"text-align: right;\">\n",
       "      <th></th>\n",
       "      <th>denominazionePrimoaggiudicatario</th>\n",
       "      <th>count</th>\n",
       "      <th>importoSommeLiquidate</th>\n",
       "      <th>importoAggiudicazione</th>\n",
       "    </tr>\n",
       "    <tr>\n",
       "      <th>cfPrimoaggiudicatario</th>\n",
       "      <th></th>\n",
       "      <th></th>\n",
       "      <th></th>\n",
       "      <th></th>\n",
       "    </tr>\n",
       "  </thead>\n",
       "  <tbody>\n",
       "    <tr>\n",
       "      <th>Raggruppamento</th>\n",
       "      <td>Raggruppamento</td>\n",
       "      <td>78733</td>\n",
       "      <td>1.417035e+09</td>\n",
       "      <td>6.173817e+09</td>\n",
       "    </tr>\n",
       "    <tr>\n",
       "      <th>00150470342</th>\n",
       "      <td>Gruppo Spaggiari Parma SpA</td>\n",
       "      <td>15059</td>\n",
       "      <td>7.611607e+06</td>\n",
       "      <td>8.394848e+06</td>\n",
       "    </tr>\n",
       "    <tr>\n",
       "      <th>00488410010</th>\n",
       "      <td>TELECOM ITALIA SpA</td>\n",
       "      <td>12058</td>\n",
       "      <td>4.095627e+07</td>\n",
       "      <td>1.320545e+08</td>\n",
       "    </tr>\n",
       "    <tr>\n",
       "      <th>02027040019</th>\n",
       "      <td>CDATABORGIONE CENTRO DIDATTICO SRL</td>\n",
       "      <td>7530</td>\n",
       "      <td>3.481685e+06</td>\n",
       "      <td>4.013850e+06</td>\n",
       "    </tr>\n",
       "    <tr>\n",
       "      <th>03222970406</th>\n",
       "      <td>MYO SRL</td>\n",
       "      <td>7297</td>\n",
       "      <td>4.179742e+06</td>\n",
       "      <td>6.787292e+06</td>\n",
       "    </tr>\n",
       "  </tbody>\n",
       "</table>\n",
       "</div>"
      ],
      "text/plain": [
       "                           denominazionePrimoaggiudicatario  count  \\\n",
       "cfPrimoaggiudicatario                                                \n",
       "Raggruppamento                               Raggruppamento  78733   \n",
       "00150470342                      Gruppo Spaggiari Parma SpA  15059   \n",
       "00488410010                              TELECOM ITALIA SpA  12058   \n",
       "02027040019             CDATABORGIONE CENTRO DIDATTICO SRL    7530   \n",
       "03222970406                                         MYO SRL   7297   \n",
       "\n",
       "                       importoSommeLiquidate  importoAggiudicazione  \n",
       "cfPrimoaggiudicatario                                                \n",
       "Raggruppamento                  1.417035e+09           6.173817e+09  \n",
       "00150470342                     7.611607e+06           8.394848e+06  \n",
       "00488410010                     4.095627e+07           1.320545e+08  \n",
       "02027040019                     3.481685e+06           4.013850e+06  \n",
       "03222970406                     4.179742e+06           6.787292e+06  "
      ]
     },
     "execution_count": 15,
     "metadata": {},
     "output_type": "execute_result"
    }
   ],
   "source": [
    "top_aggiuficatari = final_df.sort_values(['count', \"importoAggiudicazione\"], ascending=False)\n",
    "top_aggiuficatari.head()"
   ]
  },
  {
   "cell_type": "markdown",
   "metadata": {},
   "source": [
    "## Integrazione dati ANAC con IndicePA\n",
    "\n",
    "Il file *\"data/indicePA/indicePA.tsv\"* è stato estratto a partire dal notebook *Analisi IndicePA*.\n",
    "\n",
    "**Note**\n",
    "\n",
    "- Anno 2017: Su 1.842.313 bandi di gara, solo 1.321.761 hanno codici fiscali di strutture proponenti validi. Questo è dovuto al fatto che alcuni codici fiscali sono errati, mentre altri sono codici fiscali di SPA (non censite in IndicePA). Il dataframe è salvato in *data/anac/anac_indicepa_2017.tsv*\n",
    "- Tutti gli anni: Su 3.913.440  bandi di gara, 2.682.931 hanno codici fiscali di strutture proponenti validi."
   ]
  },
  {
   "cell_type": "code",
   "execution_count": 16,
   "metadata": {},
   "outputs": [],
   "source": [
    "f_indicePA = \"data/indicePA/indicePA.tsv\"\n",
    "#df_indicePA = pd.read_csv(f_indicePA, sep=\"\\t\")\n",
    "df_indicePA = pd.read_csv(f_indicePA, sep=\"\\t\",dtype={'cf': str})"
   ]
  },
  {
   "cell_type": "code",
   "execution_count": 17,
   "metadata": {},
   "outputs": [
    {
     "name": "stdout",
     "output_type": "stream",
     "text": [
      "<class 'pandas.core.frame.DataFrame'>\n",
      "RangeIndex: 13941 entries, 0 to 13940\n",
      "Data columns (total 8 columns):\n",
      "cfStrutturaProponente    13941 non-null object\n",
      "cod_amm                  13941 non-null object\n",
      "regione                  13941 non-null object\n",
      "provincia                13493 non-null object\n",
      "comune                   13941 non-null object\n",
      "indirizzo                13941 non-null object\n",
      "tipologia_istat          13941 non-null object\n",
      "tipologia_amm            13941 non-null object\n",
      "dtypes: object(8)\n",
      "memory usage: 871.4+ KB\n"
     ]
    }
   ],
   "source": [
    "df_indicePA = df_indicePA.rename(columns={'cf': 'cfStrutturaProponente'})\n",
    "df_indicePA.info()"
   ]
  },
  {
   "cell_type": "code",
   "execution_count": 18,
   "metadata": {},
   "outputs": [
    {
     "data": {
      "text/html": [
       "<div>\n",
       "<style scoped>\n",
       "    .dataframe tbody tr th:only-of-type {\n",
       "        vertical-align: middle;\n",
       "    }\n",
       "\n",
       "    .dataframe tbody tr th {\n",
       "        vertical-align: top;\n",
       "    }\n",
       "\n",
       "    .dataframe thead th {\n",
       "        text-align: right;\n",
       "    }\n",
       "</style>\n",
       "<table border=\"1\" class=\"dataframe\">\n",
       "  <thead>\n",
       "    <tr style=\"text-align: right;\">\n",
       "      <th></th>\n",
       "      <th>cfStrutturaProponente</th>\n",
       "      <th>cod_amm</th>\n",
       "      <th>regione</th>\n",
       "      <th>provincia</th>\n",
       "      <th>comune</th>\n",
       "      <th>indirizzo</th>\n",
       "      <th>tipologia_istat</th>\n",
       "      <th>tipologia_amm</th>\n",
       "    </tr>\n",
       "  </thead>\n",
       "  <tbody>\n",
       "    <tr>\n",
       "      <th>0</th>\n",
       "      <td>81002250892</td>\n",
       "      <td>istsc_srpc070006</td>\n",
       "      <td>Sicilia</td>\n",
       "      <td>SR</td>\n",
       "      <td>Augusta</td>\n",
       "      <td>Via Strazzulla, 10</td>\n",
       "      <td>Istituti di Istruzione Statale di Ogni Ordine ...</td>\n",
       "      <td>Pubbliche Amministrazioni</td>\n",
       "    </tr>\n",
       "    <tr>\n",
       "      <th>1</th>\n",
       "      <td>83002610844</td>\n",
       "      <td>istsc_agis021005</td>\n",
       "      <td>Sicilia</td>\n",
       "      <td>AG</td>\n",
       "      <td>Ribera</td>\n",
       "      <td>Piazza Zamenhof 1</td>\n",
       "      <td>Istituti di Istruzione Statale di Ogni Ordine ...</td>\n",
       "      <td>Pubbliche Amministrazioni</td>\n",
       "    </tr>\n",
       "  </tbody>\n",
       "</table>\n",
       "</div>"
      ],
      "text/plain": [
       "  cfStrutturaProponente           cod_amm  regione provincia   comune  \\\n",
       "0           81002250892  istsc_srpc070006  Sicilia        SR  Augusta   \n",
       "1           83002610844  istsc_agis021005  Sicilia        AG   Ribera   \n",
       "\n",
       "            indirizzo                                    tipologia_istat  \\\n",
       "0  Via Strazzulla, 10  Istituti di Istruzione Statale di Ogni Ordine ...   \n",
       "1   Piazza Zamenhof 1  Istituti di Istruzione Statale di Ogni Ordine ...   \n",
       "\n",
       "               tipologia_amm  \n",
       "0  Pubbliche Amministrazioni  \n",
       "1  Pubbliche Amministrazioni  "
      ]
     },
     "execution_count": 18,
     "metadata": {},
     "output_type": "execute_result"
    }
   ],
   "source": [
    "df_indicePA.head(2)"
   ]
  },
  {
   "cell_type": "markdown",
   "metadata": {},
   "source": [
    "### ANNO 2017"
   ]
  },
  {
   "cell_type": "code",
   "execution_count": 19,
   "metadata": {},
   "outputs": [
    {
     "name": "stdout",
     "output_type": "stream",
     "text": [
      "(13941, 8)\n",
      "(1990225, 17)\n"
     ]
    }
   ],
   "source": [
    "print(df_indicePA.shape)\n",
    "print(df_2017.shape)"
   ]
  },
  {
   "cell_type": "code",
   "execution_count": 20,
   "metadata": {},
   "outputs": [
    {
     "data": {
      "text/plain": [
       "(1774596, 24)"
      ]
     },
     "execution_count": 20,
     "metadata": {},
     "output_type": "execute_result"
    }
   ],
   "source": [
    "#df_2017_indicePA = pd.merge(df_2017, df_indicePA, left_index=True, right_index=True, how='inner')\n",
    "df_2017_indicePA = pd.merge(df_2017, df_indicePA, left_on=\"cfStrutturaProponente\", right_on=\"cfStrutturaProponente\", how='inner')\n",
    "df_2017_indicePA.shape"
   ]
  },
  {
   "cell_type": "code",
   "execution_count": 21,
   "metadata": {},
   "outputs": [
    {
     "name": "stdout",
     "output_type": "stream",
     "text": [
      "Gare di PA non recensite su indicePA:  215629\n"
     ]
    }
   ],
   "source": [
    "diff = df_2017.shape[0] - df_2017_indicePA.shape[0]\n",
    "print(\"Gare di PA non recensite su indicePA: \", diff)"
   ]
  },
  {
   "cell_type": "code",
   "execution_count": 22,
   "metadata": {},
   "outputs": [
    {
     "data": {
      "text/html": [
       "<div>\n",
       "<style scoped>\n",
       "    .dataframe tbody tr th:only-of-type {\n",
       "        vertical-align: middle;\n",
       "    }\n",
       "\n",
       "    .dataframe tbody tr th {\n",
       "        vertical-align: top;\n",
       "    }\n",
       "\n",
       "    .dataframe thead th {\n",
       "        text-align: right;\n",
       "    }\n",
       "</style>\n",
       "<table border=\"1\" class=\"dataframe\">\n",
       "  <thead>\n",
       "    <tr style=\"text-align: right;\">\n",
       "      <th></th>\n",
       "      <th>cig</th>\n",
       "      <th>cfStrutturaProponente</th>\n",
       "      <th>denominazioneStrutturaProponente</th>\n",
       "      <th>oggetto</th>\n",
       "      <th>sceltaContraente</th>\n",
       "      <th>importoAggiudicazione</th>\n",
       "      <th>importoSommeLiquidate</th>\n",
       "      <th>dataInizio</th>\n",
       "      <th>dataUltimazione</th>\n",
       "      <th>jsonPartecipanti</th>\n",
       "      <th>...</th>\n",
       "      <th>totaleRaggruppamentoAggiudicatari</th>\n",
       "      <th>cfPrimoaggiudicatario</th>\n",
       "      <th>denominazionePrimoaggiudicatario</th>\n",
       "      <th>cod_amm</th>\n",
       "      <th>regione</th>\n",
       "      <th>provincia</th>\n",
       "      <th>comune</th>\n",
       "      <th>indirizzo</th>\n",
       "      <th>tipologia_istat</th>\n",
       "      <th>tipologia_amm</th>\n",
       "    </tr>\n",
       "  </thead>\n",
       "  <tbody>\n",
       "    <tr>\n",
       "      <th>0</th>\n",
       "      <td>Z211AC7EEA</td>\n",
       "      <td>06245760720</td>\n",
       "      <td>SERVIZI POLIFUNZIONALI ECOSOSTENIBILI GIOIA SP...</td>\n",
       "      <td>assicurazione all risk impianto fotovoltaico</td>\n",
       "      <td>23AFFIDAMENTO IN ECONOMIA  AFFIDAMENTO DIRETTO</td>\n",
       "      <td>576.0</td>\n",
       "      <td>576.0</td>\n",
       "      <td>2017-01-01</td>\n",
       "      <td>2017-12-31</td>\n",
       "      <td>{\"raggruppamento\":[],\"partecipante\":[{\"codiceF...</td>\n",
       "      <td>...</td>\n",
       "      <td>0</td>\n",
       "      <td>03404540712</td>\n",
       "      <td>ASSIGEM SRL</td>\n",
       "      <td>NaN</td>\n",
       "      <td>NaN</td>\n",
       "      <td>NaN</td>\n",
       "      <td>NaN</td>\n",
       "      <td>NaN</td>\n",
       "      <td>NaN</td>\n",
       "      <td>NaN</td>\n",
       "    </tr>\n",
       "    <tr>\n",
       "      <th>1</th>\n",
       "      <td>ZC91BDE367</td>\n",
       "      <td>91009990556</td>\n",
       "      <td>COLLEGIO INFRI PROFLI ASS SAN  VIG DINFANZIA T...</td>\n",
       "      <td>stampa cartelline con logo del colleg...</td>\n",
       "      <td>23AFFIDAMENTO IN ECONOMIA  AFFIDAMENTO DIRETTO</td>\n",
       "      <td>390.0</td>\n",
       "      <td>0.0</td>\n",
       "      <td>2017-02-10</td>\n",
       "      <td>2017-02-20</td>\n",
       "      <td>{\"raggruppamento\":[],\"partecipante\":[{\"codiceF...</td>\n",
       "      <td>...</td>\n",
       "      <td>0</td>\n",
       "      <td>00477710552</td>\n",
       "      <td>Tipolitografia Federici snc      ...</td>\n",
       "      <td>ciavp_0</td>\n",
       "      <td>Umbria</td>\n",
       "      <td>TR</td>\n",
       "      <td>Terni</td>\n",
       "      <td>Via Galvani, 11</td>\n",
       "      <td>Federazioni Nazionali, Ordini, Collegi e Consi...</td>\n",
       "      <td>Pubbliche Amministrazioni</td>\n",
       "    </tr>\n",
       "    <tr>\n",
       "      <th>2</th>\n",
       "      <td>Z971C7B78</td>\n",
       "      <td>02250590995</td>\n",
       "      <td>AGENZIA REGIONALE PER I SERVIZI EDUCATIVI E PE...</td>\n",
       "      <td>affidamento alla ditta dedagroup spa del servi...</td>\n",
       "      <td>17AFFIDAMENTO DIRETTO EX ART 5 DELLA LEGGE N38191</td>\n",
       "      <td>1995.0</td>\n",
       "      <td>0.0</td>\n",
       "      <td>2017-01-01</td>\n",
       "      <td>2017-12-31</td>\n",
       "      <td>{\"raggruppamento\":[],\"partecipante\":[{\"codiceF...</td>\n",
       "      <td>...</td>\n",
       "      <td>0</td>\n",
       "      <td>Raggruppamento</td>\n",
       "      <td>Raggruppamento</td>\n",
       "      <td>NaN</td>\n",
       "      <td>NaN</td>\n",
       "      <td>NaN</td>\n",
       "      <td>NaN</td>\n",
       "      <td>NaN</td>\n",
       "      <td>NaN</td>\n",
       "      <td>NaN</td>\n",
       "    </tr>\n",
       "    <tr>\n",
       "      <th>3</th>\n",
       "      <td>Z941C74DD1</td>\n",
       "      <td>02250590995</td>\n",
       "      <td>AGENZIA REGIONALE PER I SERVIZI EDUCATIVI E PE...</td>\n",
       "      <td>affidamento alla ditta liberty line srl dei se...</td>\n",
       "      <td>17AFFIDAMENTO DIRETTO EX ART 5 DELLA LEGGE N38191</td>\n",
       "      <td>1300.0</td>\n",
       "      <td>0.0</td>\n",
       "      <td>2017-01-01</td>\n",
       "      <td>2017-12-31</td>\n",
       "      <td>{\"raggruppamento\":[],\"partecipante\":[{\"codiceF...</td>\n",
       "      <td>...</td>\n",
       "      <td>0</td>\n",
       "      <td>Raggruppamento</td>\n",
       "      <td>Raggruppamento</td>\n",
       "      <td>NaN</td>\n",
       "      <td>NaN</td>\n",
       "      <td>NaN</td>\n",
       "      <td>NaN</td>\n",
       "      <td>NaN</td>\n",
       "      <td>NaN</td>\n",
       "      <td>NaN</td>\n",
       "    </tr>\n",
       "    <tr>\n",
       "      <th>4</th>\n",
       "      <td>ZDE1C74D2C</td>\n",
       "      <td>02250590995</td>\n",
       "      <td>AGENZIA REGIONALE PER I SERVIZI EDUCATIVI E PE...</td>\n",
       "      <td>affidamento alla ditta pesce giancarlo snc del...</td>\n",
       "      <td>17AFFIDAMENTO DIRETTO EX ART 5 DELLA LEGGE N38191</td>\n",
       "      <td>350.0</td>\n",
       "      <td>0.0</td>\n",
       "      <td>2017-01-01</td>\n",
       "      <td>2017-12-31</td>\n",
       "      <td>{\"raggruppamento\":[],\"partecipante\":[{\"codiceF...</td>\n",
       "      <td>...</td>\n",
       "      <td>0</td>\n",
       "      <td>Raggruppamento</td>\n",
       "      <td>Raggruppamento</td>\n",
       "      <td>NaN</td>\n",
       "      <td>NaN</td>\n",
       "      <td>NaN</td>\n",
       "      <td>NaN</td>\n",
       "      <td>NaN</td>\n",
       "      <td>NaN</td>\n",
       "      <td>NaN</td>\n",
       "    </tr>\n",
       "  </tbody>\n",
       "</table>\n",
       "<p>5 rows × 24 columns</p>\n",
       "</div>"
      ],
      "text/plain": [
       "          cig cfStrutturaProponente  \\\n",
       "0  Z211AC7EEA           06245760720   \n",
       "1  ZC91BDE367           91009990556   \n",
       "2   Z971C7B78           02250590995   \n",
       "3  Z941C74DD1           02250590995   \n",
       "4  ZDE1C74D2C           02250590995   \n",
       "\n",
       "                    denominazioneStrutturaProponente  \\\n",
       "0  SERVIZI POLIFUNZIONALI ECOSOSTENIBILI GIOIA SP...   \n",
       "1  COLLEGIO INFRI PROFLI ASS SAN  VIG DINFANZIA T...   \n",
       "2  AGENZIA REGIONALE PER I SERVIZI EDUCATIVI E PE...   \n",
       "3  AGENZIA REGIONALE PER I SERVIZI EDUCATIVI E PE...   \n",
       "4  AGENZIA REGIONALE PER I SERVIZI EDUCATIVI E PE...   \n",
       "\n",
       "                                             oggetto  \\\n",
       "0       assicurazione all risk impianto fotovoltaico   \n",
       "1           stampa cartelline con logo del colleg...   \n",
       "2  affidamento alla ditta dedagroup spa del servi...   \n",
       "3  affidamento alla ditta liberty line srl dei se...   \n",
       "4  affidamento alla ditta pesce giancarlo snc del...   \n",
       "\n",
       "                                    sceltaContraente  importoAggiudicazione  \\\n",
       "0     23AFFIDAMENTO IN ECONOMIA  AFFIDAMENTO DIRETTO                  576.0   \n",
       "1     23AFFIDAMENTO IN ECONOMIA  AFFIDAMENTO DIRETTO                  390.0   \n",
       "2  17AFFIDAMENTO DIRETTO EX ART 5 DELLA LEGGE N38191                 1995.0   \n",
       "3  17AFFIDAMENTO DIRETTO EX ART 5 DELLA LEGGE N38191                 1300.0   \n",
       "4  17AFFIDAMENTO DIRETTO EX ART 5 DELLA LEGGE N38191                  350.0   \n",
       "\n",
       "   importoSommeLiquidate dataInizio dataUltimazione  \\\n",
       "0                  576.0 2017-01-01      2017-12-31   \n",
       "1                    0.0 2017-02-10      2017-02-20   \n",
       "2                    0.0 2017-01-01      2017-12-31   \n",
       "3                    0.0 2017-01-01      2017-12-31   \n",
       "4                    0.0 2017-01-01      2017-12-31   \n",
       "\n",
       "                                    jsonPartecipanti  \\\n",
       "0  {\"raggruppamento\":[],\"partecipante\":[{\"codiceF...   \n",
       "1  {\"raggruppamento\":[],\"partecipante\":[{\"codiceF...   \n",
       "2  {\"raggruppamento\":[],\"partecipante\":[{\"codiceF...   \n",
       "3  {\"raggruppamento\":[],\"partecipante\":[{\"codiceF...   \n",
       "4  {\"raggruppamento\":[],\"partecipante\":[{\"codiceF...   \n",
       "\n",
       "             ...             totaleRaggruppamentoAggiudicatari  \\\n",
       "0            ...                                             0   \n",
       "1            ...                                             0   \n",
       "2            ...                                             0   \n",
       "3            ...                                             0   \n",
       "4            ...                                             0   \n",
       "\n",
       "   cfPrimoaggiudicatario                   denominazionePrimoaggiudicatario  \\\n",
       "0            03404540712                                        ASSIGEM SRL   \n",
       "1            00477710552               Tipolitografia Federici snc      ...   \n",
       "2         Raggruppamento                                     Raggruppamento   \n",
       "3         Raggruppamento                                     Raggruppamento   \n",
       "4         Raggruppamento                                     Raggruppamento   \n",
       "\n",
       "   cod_amm  regione provincia comune        indirizzo  \\\n",
       "0      NaN      NaN       NaN    NaN              NaN   \n",
       "1  ciavp_0   Umbria        TR  Terni  Via Galvani, 11   \n",
       "2      NaN      NaN       NaN    NaN              NaN   \n",
       "3      NaN      NaN       NaN    NaN              NaN   \n",
       "4      NaN      NaN       NaN    NaN              NaN   \n",
       "\n",
       "                                     tipologia_istat  \\\n",
       "0                                                NaN   \n",
       "1  Federazioni Nazionali, Ordini, Collegi e Consi...   \n",
       "2                                                NaN   \n",
       "3                                                NaN   \n",
       "4                                                NaN   \n",
       "\n",
       "               tipologia_amm  \n",
       "0                        NaN  \n",
       "1  Pubbliche Amministrazioni  \n",
       "2                        NaN  \n",
       "3                        NaN  \n",
       "4                        NaN  \n",
       "\n",
       "[5 rows x 24 columns]"
      ]
     },
     "execution_count": 22,
     "metadata": {},
     "output_type": "execute_result"
    }
   ],
   "source": [
    "df_2017_indice_left = pd.merge(df_2017, df_indicePA, left_on=\"cfStrutturaProponente\", right_on=\"cfStrutturaProponente\", how='left')\n",
    "df_2017_indice_left.head()"
   ]
  },
  {
   "cell_type": "code",
   "execution_count": 23,
   "metadata": {},
   "outputs": [
    {
     "data": {
      "text/html": [
       "<div>\n",
       "<style scoped>\n",
       "    .dataframe tbody tr th:only-of-type {\n",
       "        vertical-align: middle;\n",
       "    }\n",
       "\n",
       "    .dataframe tbody tr th {\n",
       "        vertical-align: top;\n",
       "    }\n",
       "\n",
       "    .dataframe thead th {\n",
       "        text-align: right;\n",
       "    }\n",
       "</style>\n",
       "<table border=\"1\" class=\"dataframe\">\n",
       "  <thead>\n",
       "    <tr style=\"text-align: right;\">\n",
       "      <th></th>\n",
       "      <th>cig</th>\n",
       "      <th>cfStrutturaProponente</th>\n",
       "      <th>denominazioneStrutturaProponente</th>\n",
       "      <th>oggetto</th>\n",
       "      <th>sceltaContraente</th>\n",
       "      <th>importoAggiudicazione</th>\n",
       "      <th>importoSommeLiquidate</th>\n",
       "      <th>dataInizio</th>\n",
       "      <th>dataUltimazione</th>\n",
       "      <th>jsonPartecipanti</th>\n",
       "      <th>...</th>\n",
       "      <th>totaleRaggruppamentoAggiudicatari</th>\n",
       "      <th>cfPrimoaggiudicatario</th>\n",
       "      <th>denominazionePrimoaggiudicatario</th>\n",
       "      <th>cod_amm</th>\n",
       "      <th>regione</th>\n",
       "      <th>provincia</th>\n",
       "      <th>comune</th>\n",
       "      <th>indirizzo</th>\n",
       "      <th>tipologia_istat</th>\n",
       "      <th>tipologia_amm</th>\n",
       "    </tr>\n",
       "  </thead>\n",
       "  <tbody>\n",
       "    <tr>\n",
       "      <th>0</th>\n",
       "      <td>ZC91BDE367</td>\n",
       "      <td>91009990556</td>\n",
       "      <td>COLLEGIO INFRI PROFLI ASS SAN  VIG DINFANZIA T...</td>\n",
       "      <td>stampa cartelline con logo del colleg...</td>\n",
       "      <td>23AFFIDAMENTO IN ECONOMIA  AFFIDAMENTO DIRETTO</td>\n",
       "      <td>390.0</td>\n",
       "      <td>0.00</td>\n",
       "      <td>2017-02-10</td>\n",
       "      <td>2017-02-20</td>\n",
       "      <td>{\"raggruppamento\":[],\"partecipante\":[{\"codiceF...</td>\n",
       "      <td>...</td>\n",
       "      <td>0</td>\n",
       "      <td>00477710552</td>\n",
       "      <td>Tipolitografia Federici snc      ...</td>\n",
       "      <td>ciavp_0</td>\n",
       "      <td>Umbria</td>\n",
       "      <td>TR</td>\n",
       "      <td>Terni</td>\n",
       "      <td>Via Galvani, 11</td>\n",
       "      <td>Federazioni Nazionali, Ordini, Collegi e Consi...</td>\n",
       "      <td>Pubbliche Amministrazioni</td>\n",
       "    </tr>\n",
       "    <tr>\n",
       "      <th>1</th>\n",
       "      <td>Z1818537BE</td>\n",
       "      <td>80007870241</td>\n",
       "      <td>COMUNE DI POZZOLEONE</td>\n",
       "      <td>integrazione impegno di spesa per acquisto ope...</td>\n",
       "      <td>23AFFIDAMENTO IN ECONOMIA  AFFIDAMENTO DIRETTO</td>\n",
       "      <td>0.0</td>\n",
       "      <td>1665.24</td>\n",
       "      <td>2017-02-02</td>\n",
       "      <td>2017-02-02</td>\n",
       "      <td>{\"raggruppamento\":[],\"partecipante\":[{\"codiceF...</td>\n",
       "      <td>...</td>\n",
       "      <td>0</td>\n",
       "      <td>01640430243</td>\n",
       "      <td>LIBRERIA PALAZZO ROBERTI</td>\n",
       "      <td>c_g957</td>\n",
       "      <td>Veneto</td>\n",
       "      <td>VI</td>\n",
       "      <td>Pozzoleone</td>\n",
       "      <td>Via Roma, 5</td>\n",
       "      <td>Comuni e loro Consorzi e Associazioni</td>\n",
       "      <td>Pubbliche Amministrazioni</td>\n",
       "    </tr>\n",
       "  </tbody>\n",
       "</table>\n",
       "<p>2 rows × 24 columns</p>\n",
       "</div>"
      ],
      "text/plain": [
       "          cig cfStrutturaProponente  \\\n",
       "0  ZC91BDE367           91009990556   \n",
       "1  Z1818537BE           80007870241   \n",
       "\n",
       "                    denominazioneStrutturaProponente  \\\n",
       "0  COLLEGIO INFRI PROFLI ASS SAN  VIG DINFANZIA T...   \n",
       "1                               COMUNE DI POZZOLEONE   \n",
       "\n",
       "                                             oggetto  \\\n",
       "0           stampa cartelline con logo del colleg...   \n",
       "1  integrazione impegno di spesa per acquisto ope...   \n",
       "\n",
       "                                 sceltaContraente  importoAggiudicazione  \\\n",
       "0  23AFFIDAMENTO IN ECONOMIA  AFFIDAMENTO DIRETTO                  390.0   \n",
       "1  23AFFIDAMENTO IN ECONOMIA  AFFIDAMENTO DIRETTO                    0.0   \n",
       "\n",
       "   importoSommeLiquidate dataInizio dataUltimazione  \\\n",
       "0                   0.00 2017-02-10      2017-02-20   \n",
       "1                1665.24 2017-02-02      2017-02-02   \n",
       "\n",
       "                                    jsonPartecipanti  \\\n",
       "0  {\"raggruppamento\":[],\"partecipante\":[{\"codiceF...   \n",
       "1  {\"raggruppamento\":[],\"partecipante\":[{\"codiceF...   \n",
       "\n",
       "             ...             totaleRaggruppamentoAggiudicatari  \\\n",
       "0            ...                                             0   \n",
       "1            ...                                             0   \n",
       "\n",
       "   cfPrimoaggiudicatario                   denominazionePrimoaggiudicatario  \\\n",
       "0            00477710552               Tipolitografia Federici snc      ...   \n",
       "1            01640430243                           LIBRERIA PALAZZO ROBERTI   \n",
       "\n",
       "   cod_amm  regione provincia      comune        indirizzo  \\\n",
       "0  ciavp_0   Umbria        TR       Terni  Via Galvani, 11   \n",
       "1   c_g957   Veneto        VI  Pozzoleone      Via Roma, 5   \n",
       "\n",
       "                                     tipologia_istat  \\\n",
       "0  Federazioni Nazionali, Ordini, Collegi e Consi...   \n",
       "1              Comuni e loro Consorzi e Associazioni   \n",
       "\n",
       "               tipologia_amm  \n",
       "0  Pubbliche Amministrazioni  \n",
       "1  Pubbliche Amministrazioni  \n",
       "\n",
       "[2 rows x 24 columns]"
      ]
     },
     "execution_count": 23,
     "metadata": {},
     "output_type": "execute_result"
    }
   ],
   "source": [
    "df_2017_indicePA.head(2)"
   ]
  },
  {
   "cell_type": "code",
   "execution_count": 24,
   "metadata": {},
   "outputs": [],
   "source": [
    "df_2017_indicePA.to_csv(dir_file + \"anac_indicepa_2017.tsv\", sep=\"\\t\")"
   ]
  },
  {
   "cell_type": "code",
   "execution_count": 25,
   "metadata": {},
   "outputs": [],
   "source": [
    "df_2017_indice_left.to_csv(dir_file + \"anac_indicepa_2017_leftjoin.tsv\", sep=\"\\t\")"
   ]
  },
  {
   "cell_type": "markdown",
   "metadata": {},
   "source": [
    "### Tutti gli anni"
   ]
  },
  {
   "cell_type": "code",
   "execution_count": 26,
   "metadata": {},
   "outputs": [
    {
     "name": "stdout",
     "output_type": "stream",
     "text": [
      "Gare di PA non recensite su indicePA: 549157 (su 4067642 gare totali)\n"
     ]
    }
   ],
   "source": [
    "df_all_indicePA = pd.merge(df, df_indicePA, left_on=\"cfStrutturaProponente\", right_on=\"cfStrutturaProponente\", how='inner')\n",
    "diff = df.shape[0] - df_all_indicePA.shape[0]\n",
    "print(\"Gare di PA non recensite su indicePA: %d (su %d gare totali)\" % (diff, df.shape[0]))"
   ]
  },
  {
   "cell_type": "code",
   "execution_count": 27,
   "metadata": {},
   "outputs": [],
   "source": [
    "df_all_indicePA.to_csv(dir_file + \"anac_indicepa_all.tsv\", sep=\"\\t\")"
   ]
  },
  {
   "cell_type": "code",
   "execution_count": null,
   "metadata": {},
   "outputs": [],
   "source": []
  },
  {
   "cell_type": "code",
   "execution_count": null,
   "metadata": {},
   "outputs": [],
   "source": []
  }
 ],
 "metadata": {
  "kernelspec": {
   "display_name": "Python 3",
   "language": "python",
   "name": "python3"
  },
  "language_info": {
   "codemirror_mode": {
    "name": "ipython",
    "version": 3
   },
   "file_extension": ".py",
   "mimetype": "text/x-python",
   "name": "python",
   "nbconvert_exporter": "python",
   "pygments_lexer": "ipython3",
   "version": "3.6.5"
  }
 },
 "nbformat": 4,
 "nbformat_minor": 2
}
