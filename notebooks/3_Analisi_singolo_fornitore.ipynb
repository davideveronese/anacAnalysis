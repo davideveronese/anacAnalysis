{
 "cells": [
  {
   "cell_type": "markdown",
   "metadata": {},
   "source": [
    "Questo notebook consente l'analisi di un singolo fornitore.\n",
    "Per analizzare le statistiche di un fornitore per l'anno 2017, caricare il file *data/anac/anac_indicepa_2017.tsv*. Per analizzare le statistiche di un fornitore su tutto il dataset, caricare il file *data/anac/anac_indicepa_all.tsv*\n"
   ]
  },
  {
   "cell_type": "code",
   "execution_count": 1,
   "metadata": {},
   "outputs": [
    {
     "data": {
      "text/html": [
       "<script>requirejs.config({paths: { 'plotly': ['https://cdn.plot.ly/plotly-latest.min']},});if(!window.Plotly) {{require(['plotly'],function(plotly) {window.Plotly=plotly;});}}</script>"
      ],
      "text/vnd.plotly.v1+html": [
       "<script>requirejs.config({paths: { 'plotly': ['https://cdn.plot.ly/plotly-latest.min']},});if(!window.Plotly) {{require(['plotly'],function(plotly) {window.Plotly=plotly;});}}</script>"
      ]
     },
     "metadata": {},
     "output_type": "display_data"
    }
   ],
   "source": [
    "import pandas as pd\n",
    "import numpy\n",
    "import csv\n",
    "#import matplotlib.pyplot as plt\n",
    "import datetime\n",
    "\n",
    "#%matplotlib inline\n",
    "\n",
    "import plotly.offline as py\n",
    "import plotly.plotly as py_on\n",
    "import plotly.graph_objs as go\n",
    "from plotly import tools\n",
    "import plotly.figure_factory as ff\n",
    "py.init_notebook_mode(connected=True)\n",
    "\n",
    "from IPython.display import Image\n",
    "from IPython.display import display"
   ]
  },
  {
   "cell_type": "code",
   "execution_count": 40,
   "metadata": {},
   "outputs": [],
   "source": [
    "def normalize(df):\n",
    "    return df.index / df.index.values.sum()\n",
    "\n",
    "def showPlot(df, col, cfPrimoaggiudicatario):\n",
    "   \n",
    "    data = df[[col,\"count\", \"importoAggiudicazione\"]].groupby([col]).sum().reset_index()\n",
    "    importo_normalized = data.importoAggiudicazione / data.importoAggiudicazione.sum()\n",
    "    count_normalized = data[\"count\"] / data[\"count\"].sum()\n",
    "    \n",
    "    data = [go.Bar(x=data[col], y=count_normalized, name = \"importoAggiudicazione\"),\n",
    "            go.Bar(x=data[col], y=importo_normalized, name = \"numero gare vinte\")\n",
    "           ]\n",
    "    bar = go.Layout(title= col,yaxis=dict(title='',))\n",
    "\n",
    "    fig_bar = go.Figure(data=data, layout=bar)\n",
    "\n",
    "    #py.iplot(fig_bar)\n",
    "    \n",
    "    return fig_bar"
   ]
  },
  {
   "cell_type": "code",
   "execution_count": 3,
   "metadata": {},
   "outputs": [],
   "source": [
    "file = \"data/anac/anac_indicepa_2017.tsv\"\n",
    "df = pd.read_csv(file, sep=\"\\t\")"
   ]
  },
  {
   "cell_type": "code",
   "execution_count": 4,
   "metadata": {},
   "outputs": [
    {
     "name": "stdout",
     "output_type": "stream",
     "text": [
      "<class 'pandas.core.frame.DataFrame'>\n",
      "RangeIndex: 1321761 entries, 0 to 1321760\n",
      "Data columns (total 24 columns):\n",
      "cfStrutturaProponente                1321761 non-null int64\n",
      "cig                                  1321754 non-null object\n",
      "denominazioneStrutturaProponente     1321602 non-null object\n",
      "oggetto                              1321651 non-null object\n",
      "sceltaContraente                     1321758 non-null object\n",
      "importoAggiudicazione                1321760 non-null float64\n",
      "importoSommeLiquidate                1321760 non-null float64\n",
      "dataInizio                           1321761 non-null object\n",
      "dataUltimazione                      1148870 non-null object\n",
      "jsonPartecipanti                     1321761 non-null object\n",
      "jsonAggiudicatari                    1321761 non-null object\n",
      "totalePartecipanti                   1321761 non-null int64\n",
      "totaleAggiudicatari                  1321761 non-null int64\n",
      "totaleRaggruppamentopartecipanti     1321761 non-null int64\n",
      "totaleRaggruppamentoAggiudicatari    1321761 non-null int64\n",
      "cfPrimoaggiudicatario                1313316 non-null object\n",
      "denominazionePrimoaggiudicatario     1321761 non-null object\n",
      "cod_amm                              1321761 non-null object\n",
      "regione                              1321761 non-null object\n",
      "provincia                            1300236 non-null object\n",
      "comune                               1321761 non-null object\n",
      "indirizzo                            1321761 non-null object\n",
      "tipologia_istat                      1321761 non-null object\n",
      "tipologia_amm                        1321761 non-null object\n",
      "dtypes: float64(2), int64(5), object(17)\n",
      "memory usage: 242.0+ MB\n"
     ]
    }
   ],
   "source": [
    "df.info()"
   ]
  },
  {
   "cell_type": "code",
   "execution_count": 5,
   "metadata": {},
   "outputs": [],
   "source": [
    "cfPrimoaggiudicatario = \"02559020793\""
   ]
  },
  {
   "cell_type": "code",
   "execution_count": 6,
   "metadata": {},
   "outputs": [],
   "source": [
    "df_aggiudicatario = df.loc[df[\"cfPrimoaggiudicatario\"] == cfPrimoaggiudicatario]"
   ]
  },
  {
   "cell_type": "markdown",
   "metadata": {},
   "source": [
    "### Bandi di gara Vinti\n",
    "\n",
    "Campi analizzati:\n",
    "1. totaleRaggruppamentopartecipanti: numero di raggruppamenti partecipanti ad un bando di gara; \n",
    "2. totalePartecipanti: numero di partecipanti (non raggruppamento) ad un bando di gara; \n",
    "3. YearMonth: Anno e mese in cui è stata aggiudicata la gara; \n",
    "4. denominazioneStrutturaProponente: denominazione struttura proponente;\n",
    "5. tipologia_istat: tipologia istat della struttura proponente;\n",
    "6. regione: regione di appartenenza della struttura proponente;\n",
    "7. provincia: provincia di appartenenza della struttura proponente;\n",
    "8. comune: comune di appartenenza della struttura proponente;\n",
    "\n",
    "Cose da fare:\n",
    "\n",
    "1. Aggiungere i competitor del fornitore in analisi\n",
    "2. Analizzare i campi jsonPartecipanti e jsonAggiudicatari in modo da ottenere statistiche anche sui bandi in cui un fornitore ha partecipato ma non vinto;\n",
    "3. Associare ai campi in analisi anche statistiche circa l'importo di aggiudicazione (media, somma, max, min);\n",
    "4. Per data record su raggruppamenti applicare algoritmi di frequent itemset mining in modo da scoprire se ci sono pattern ricorrenti nei raggruppamenti;"
   ]
  },
  {
   "cell_type": "code",
   "execution_count": 12,
   "metadata": {},
   "outputs": [
    {
     "name": "stderr",
     "output_type": "stream",
     "text": [
      "/Users/fabiana/anaconda3/lib/python3.6/site-packages/ipykernel_launcher.py:1: SettingWithCopyWarning:\n",
      "\n",
      "\n",
      "A value is trying to be set on a copy of a slice from a DataFrame.\n",
      "Try using .loc[row_indexer,col_indexer] = value instead\n",
      "\n",
      "See the caveats in the documentation: http://pandas.pydata.org/pandas-docs/stable/indexing.html#indexing-view-versus-copy\n",
      "\n",
      "/Users/fabiana/anaconda3/lib/python3.6/site-packages/ipykernel_launcher.py:2: SettingWithCopyWarning:\n",
      "\n",
      "\n",
      "A value is trying to be set on a copy of a slice from a DataFrame.\n",
      "Try using .loc[row_indexer,col_indexer] = value instead\n",
      "\n",
      "See the caveats in the documentation: http://pandas.pydata.org/pandas-docs/stable/indexing.html#indexing-view-versus-copy\n",
      "\n",
      "/Users/fabiana/anaconda3/lib/python3.6/site-packages/pandas/core/generic.py:3643: SettingWithCopyWarning:\n",
      "\n",
      "\n",
      "A value is trying to be set on a copy of a slice from a DataFrame.\n",
      "Try using .loc[row_indexer,col_indexer] = value instead\n",
      "\n",
      "See the caveats in the documentation: http://pandas.pydata.org/pandas-docs/stable/indexing.html#indexing-view-versus-copy\n",
      "\n"
     ]
    }
   ],
   "source": [
    "df_aggiudicatario['dataInizio'] = pd.to_datetime(df['dataInizio'], errors='coerce')\n",
    "df_aggiudicatario['YearMonth'] = df_aggiudicatario['dataInizio'].map(lambda x: 100*x.year + x.month)\n",
    "df_aggiudicatario.cfStrutturaProponente = df_aggiudicatario.cfStrutturaProponente.astype('category')"
   ]
  },
  {
   "cell_type": "markdown",
   "metadata": {},
   "source": [
    "## Vista dataset raggruppata per struttura proponente "
   ]
  },
  {
   "cell_type": "code",
   "execution_count": 13,
   "metadata": {},
   "outputs": [],
   "source": [
    "df_aggiudicatario_count = df_aggiudicatario.groupby([\"cfStrutturaProponente\"])[\"cfStrutturaProponente\"].agg([\"count\"]).reset_index(0)#.sort_values(['count'], ascending=False)\n",
    "df_aggiudicatario_sum = df_aggiudicatario[[\"importoSommeLiquidate\",\"importoAggiudicazione\", \"cfStrutturaProponente\"]].groupby([\"cfStrutturaProponente\"]).sum().reset_index()\n",
    "\n",
    "df_join = df_aggiudicatario_count.set_index('cfStrutturaProponente').join(df_aggiudicatario_sum.set_index('cfStrutturaProponente'))\n",
    "\n",
    "columns_to_add = [\"totaleRaggruppamentopartecipanti\",\"totalePartecipanti\",\"YearMonth\",\"dataInizio\",\"cfStrutturaProponente\",\"denominazioneStrutturaProponente\", \"tipologia_istat\", \"regione\", \"provincia\", \"comune\"]\n",
    "df_denominazione_aggiudicatario = df_aggiudicatario[columns_to_add]\n",
    "df_denominazione_aggiudicatario = df_denominazione_aggiudicatario.set_index(\"cfStrutturaProponente\")\n",
    "df_denominazione_aggiudicatario = df_denominazione_aggiudicatario[~df_denominazione_aggiudicatario.index.duplicated(keep='first')]\n",
    "\n",
    "final_df = pd.merge(df_join,df_denominazione_aggiudicatario, left_index=True, right_index=True, how='left')\n",
    "\n",
    "final_df =final_df.reset_index()"
   ]
  },
  {
   "cell_type": "code",
   "execution_count": 16,
   "metadata": {},
   "outputs": [
    {
     "data": {
      "text/html": [
       "<div>\n",
       "<style scoped>\n",
       "    .dataframe tbody tr th:only-of-type {\n",
       "        vertical-align: middle;\n",
       "    }\n",
       "\n",
       "    .dataframe tbody tr th {\n",
       "        vertical-align: top;\n",
       "    }\n",
       "\n",
       "    .dataframe thead th {\n",
       "        text-align: right;\n",
       "    }\n",
       "</style>\n",
       "<table border=\"1\" class=\"dataframe\">\n",
       "  <thead>\n",
       "    <tr style=\"text-align: right;\">\n",
       "      <th></th>\n",
       "      <th>cfStrutturaProponente</th>\n",
       "      <th>count</th>\n",
       "      <th>importoSommeLiquidate</th>\n",
       "      <th>importoAggiudicazione</th>\n",
       "      <th>totaleRaggruppamentopartecipanti</th>\n",
       "      <th>totalePartecipanti</th>\n",
       "      <th>YearMonth</th>\n",
       "      <th>dataInizio</th>\n",
       "      <th>denominazioneStrutturaProponente</th>\n",
       "      <th>tipologia_istat</th>\n",
       "      <th>regione</th>\n",
       "      <th>provincia</th>\n",
       "      <th>comune</th>\n",
       "    </tr>\n",
       "  </thead>\n",
       "  <tbody>\n",
       "    <tr>\n",
       "      <th>0</th>\n",
       "      <td>8010803</td>\n",
       "      <td>2</td>\n",
       "      <td>77767.43</td>\n",
       "      <td>306425.51</td>\n",
       "      <td>0</td>\n",
       "      <td>1</td>\n",
       "      <td>201707</td>\n",
       "      <td>2017-07-01</td>\n",
       "      <td>COMUNE DI CINQUEFRONDI SERVIZI TECNICI</td>\n",
       "      <td>Comuni e loro Consorzi e Associazioni</td>\n",
       "      <td>Calabria</td>\n",
       "      <td>RC</td>\n",
       "      <td>Cinquefrondi</td>\n",
       "    </tr>\n",
       "    <tr>\n",
       "      <th>1</th>\n",
       "      <td>137710802</td>\n",
       "      <td>1</td>\n",
       "      <td>0.00</td>\n",
       "      <td>9142.00</td>\n",
       "      <td>0</td>\n",
       "      <td>4</td>\n",
       "      <td>201711</td>\n",
       "      <td>2017-11-23</td>\n",
       "      <td>COMUNE DI GIOIA TAURO</td>\n",
       "      <td>Comuni e loro Consorzi e Associazioni</td>\n",
       "      <td>Calabria</td>\n",
       "      <td>RC</td>\n",
       "      <td>Gioia Tauro</td>\n",
       "    </tr>\n",
       "    <tr>\n",
       "      <th>2</th>\n",
       "      <td>278200795</td>\n",
       "      <td>4</td>\n",
       "      <td>342999.77</td>\n",
       "      <td>348362.73</td>\n",
       "      <td>0</td>\n",
       "      <td>1</td>\n",
       "      <td>201702</td>\n",
       "      <td>2017-02-16</td>\n",
       "      <td>COMUNE DI SERRA SAN BRUNO</td>\n",
       "      <td>Comuni e loro Consorzi e Associazioni</td>\n",
       "      <td>Calabria</td>\n",
       "      <td>VV</td>\n",
       "      <td>Serra San Bruno</td>\n",
       "    </tr>\n",
       "    <tr>\n",
       "      <th>3</th>\n",
       "      <td>282020791</td>\n",
       "      <td>1</td>\n",
       "      <td>6166.35</td>\n",
       "      <td>10401.40</td>\n",
       "      <td>0</td>\n",
       "      <td>1</td>\n",
       "      <td>201705</td>\n",
       "      <td>2017-05-25</td>\n",
       "      <td>COMUNE DI ZAGARISE</td>\n",
       "      <td>Comuni e loro Consorzi e Associazioni</td>\n",
       "      <td>Calabria</td>\n",
       "      <td>CZ</td>\n",
       "      <td>Zagarise</td>\n",
       "    </tr>\n",
       "    <tr>\n",
       "      <th>4</th>\n",
       "      <td>304310790</td>\n",
       "      <td>5</td>\n",
       "      <td>179122.87</td>\n",
       "      <td>506071.89</td>\n",
       "      <td>0</td>\n",
       "      <td>1</td>\n",
       "      <td>201712</td>\n",
       "      <td>2017-12-31</td>\n",
       "      <td>COMUNE DI CROPANI</td>\n",
       "      <td>Comuni e loro Consorzi e Associazioni</td>\n",
       "      <td>Calabria</td>\n",
       "      <td>CZ</td>\n",
       "      <td>Cropani</td>\n",
       "    </tr>\n",
       "  </tbody>\n",
       "</table>\n",
       "</div>"
      ],
      "text/plain": [
       "  cfStrutturaProponente  count  importoSommeLiquidate  importoAggiudicazione  \\\n",
       "0               8010803      2               77767.43              306425.51   \n",
       "1             137710802      1                   0.00                9142.00   \n",
       "2             278200795      4              342999.77              348362.73   \n",
       "3             282020791      1                6166.35               10401.40   \n",
       "4             304310790      5              179122.87              506071.89   \n",
       "\n",
       "   totaleRaggruppamentopartecipanti  totalePartecipanti  YearMonth dataInizio  \\\n",
       "0                                 0                   1     201707 2017-07-01   \n",
       "1                                 0                   4     201711 2017-11-23   \n",
       "2                                 0                   1     201702 2017-02-16   \n",
       "3                                 0                   1     201705 2017-05-25   \n",
       "4                                 0                   1     201712 2017-12-31   \n",
       "\n",
       "         denominazioneStrutturaProponente  \\\n",
       "0  COMUNE DI CINQUEFRONDI SERVIZI TECNICI   \n",
       "1                   COMUNE DI GIOIA TAURO   \n",
       "2               COMUNE DI SERRA SAN BRUNO   \n",
       "3                      COMUNE DI ZAGARISE   \n",
       "4                       COMUNE DI CROPANI   \n",
       "\n",
       "                         tipologia_istat   regione provincia           comune  \n",
       "0  Comuni e loro Consorzi e Associazioni  Calabria        RC     Cinquefrondi  \n",
       "1  Comuni e loro Consorzi e Associazioni  Calabria        RC      Gioia Tauro  \n",
       "2  Comuni e loro Consorzi e Associazioni  Calabria        VV  Serra San Bruno  \n",
       "3  Comuni e loro Consorzi e Associazioni  Calabria        CZ         Zagarise  \n",
       "4  Comuni e loro Consorzi e Associazioni  Calabria        CZ          Cropani  "
      ]
     },
     "execution_count": 16,
     "metadata": {},
     "output_type": "execute_result"
    }
   ],
   "source": [
    "final_df.head()"
   ]
  },
  {
   "cell_type": "code",
   "execution_count": 43,
   "metadata": {},
   "outputs": [
    {
     "data": {
      "application/vnd.plotly.v1+json": {
       "data": [
        {
         "name": "importoAggiudicazione",
         "type": "bar",
         "x": [
          0
         ],
         "y": [
          1
         ]
        },
        {
         "name": "numero gare vinte",
         "type": "bar",
         "x": [
          0
         ],
         "y": [
          1
         ]
        }
       ],
       "layout": {
        "title": "totaleRaggruppamentopartecipanti",
        "yaxis": {
         "title": ""
        }
       }
      },
      "text/html": [
       "<div id=\"f3beac0b-942c-47d1-84e9-08dc359c4510\" style=\"height: 525px; width: 100%;\" class=\"plotly-graph-div\"></div><script type=\"text/javascript\">require([\"plotly\"], function(Plotly) { window.PLOTLYENV=window.PLOTLYENV || {};window.PLOTLYENV.BASE_URL=\"https://plot.ly\";Plotly.newPlot(\"f3beac0b-942c-47d1-84e9-08dc359c4510\", [{\"type\": \"bar\", \"x\": [0], \"y\": [1.0], \"name\": \"importoAggiudicazione\"}, {\"type\": \"bar\", \"x\": [0], \"y\": [1.0], \"name\": \"numero gare vinte\"}], {\"title\": \"totaleRaggruppamentopartecipanti\", \"yaxis\": {\"title\": \"\"}}, {\"showLink\": true, \"linkText\": \"Export to plot.ly\"})});</script>"
      ],
      "text/vnd.plotly.v1+html": [
       "<div id=\"f3beac0b-942c-47d1-84e9-08dc359c4510\" style=\"height: 525px; width: 100%;\" class=\"plotly-graph-div\"></div><script type=\"text/javascript\">require([\"plotly\"], function(Plotly) { window.PLOTLYENV=window.PLOTLYENV || {};window.PLOTLYENV.BASE_URL=\"https://plot.ly\";Plotly.newPlot(\"f3beac0b-942c-47d1-84e9-08dc359c4510\", [{\"type\": \"bar\", \"x\": [0], \"y\": [1.0], \"name\": \"importoAggiudicazione\"}, {\"type\": \"bar\", \"x\": [0], \"y\": [1.0], \"name\": \"numero gare vinte\"}], {\"title\": \"totaleRaggruppamentopartecipanti\", \"yaxis\": {\"title\": \"\"}}, {\"showLink\": true, \"linkText\": \"Export to plot.ly\"})});</script>"
      ]
     },
     "metadata": {},
     "output_type": "display_data"
    },
    {
     "data": {
      "application/vnd.plotly.v1+json": {
       "data": [
        {
         "name": "importoAggiudicazione",
         "type": "bar",
         "x": [
          1,
          4
         ],
         "y": [
          0.96875,
          0.03125
         ]
        },
        {
         "name": "numero gare vinte",
         "type": "bar",
         "x": [
          1,
          4
         ],
         "y": [
          0.9933478695941154,
          0.006652130405884664
         ]
        }
       ],
       "layout": {
        "title": "totalePartecipanti",
        "yaxis": {
         "title": ""
        }
       }
      },
      "text/html": [
       "<div id=\"4c331f02-cdc0-4c46-8d0b-0e3186d34055\" style=\"height: 525px; width: 100%;\" class=\"plotly-graph-div\"></div><script type=\"text/javascript\">require([\"plotly\"], function(Plotly) { window.PLOTLYENV=window.PLOTLYENV || {};window.PLOTLYENV.BASE_URL=\"https://plot.ly\";Plotly.newPlot(\"4c331f02-cdc0-4c46-8d0b-0e3186d34055\", [{\"type\": \"bar\", \"x\": [1, 4], \"y\": [0.96875, 0.03125], \"name\": \"importoAggiudicazione\"}, {\"type\": \"bar\", \"x\": [1, 4], \"y\": [0.9933478695941154, 0.006652130405884664], \"name\": \"numero gare vinte\"}], {\"title\": \"totalePartecipanti\", \"yaxis\": {\"title\": \"\"}}, {\"showLink\": true, \"linkText\": \"Export to plot.ly\"})});</script>"
      ],
      "text/vnd.plotly.v1+html": [
       "<div id=\"4c331f02-cdc0-4c46-8d0b-0e3186d34055\" style=\"height: 525px; width: 100%;\" class=\"plotly-graph-div\"></div><script type=\"text/javascript\">require([\"plotly\"], function(Plotly) { window.PLOTLYENV=window.PLOTLYENV || {};window.PLOTLYENV.BASE_URL=\"https://plot.ly\";Plotly.newPlot(\"4c331f02-cdc0-4c46-8d0b-0e3186d34055\", [{\"type\": \"bar\", \"x\": [1, 4], \"y\": [0.96875, 0.03125], \"name\": \"importoAggiudicazione\"}, {\"type\": \"bar\", \"x\": [1, 4], \"y\": [0.9933478695941154, 0.006652130405884664], \"name\": \"numero gare vinte\"}], {\"title\": \"totalePartecipanti\", \"yaxis\": {\"title\": \"\"}}, {\"showLink\": true, \"linkText\": \"Export to plot.ly\"})});</script>"
      ]
     },
     "metadata": {},
     "output_type": "display_data"
    },
    {
     "data": {
      "application/vnd.plotly.v1+json": {
       "data": [
        {
         "name": "importoAggiudicazione",
         "type": "bar",
         "x": [
          201702,
          201703,
          201704,
          201705,
          201706,
          201707,
          201710,
          201711,
          201712
         ],
         "y": [
          0.25,
          0.15625,
          0.1875,
          0.0625,
          0.0625,
          0.0625,
          0.03125,
          0.03125,
          0.15625
         ]
        },
        {
         "name": "numero gare vinte",
         "type": "bar",
         "x": [
          201702,
          201703,
          201704,
          201705,
          201706,
          201707,
          201710,
          201711,
          201712
         ],
         "y": [
          0.27189526493542804,
          0.013152736021163177,
          0.03469504402532272,
          0.03303610078863837,
          0.03379037757476176,
          0.22296898405269253,
          0.015568691989095194,
          0.006652130405884664,
          0.3682406702070137
         ]
        }
       ],
       "layout": {
        "title": "YearMonth",
        "yaxis": {
         "title": ""
        }
       }
      },
      "text/html": [
       "<div id=\"3ff5bc0f-c772-4c59-8d4a-42cdd2c61918\" style=\"height: 525px; width: 100%;\" class=\"plotly-graph-div\"></div><script type=\"text/javascript\">require([\"plotly\"], function(Plotly) { window.PLOTLYENV=window.PLOTLYENV || {};window.PLOTLYENV.BASE_URL=\"https://plot.ly\";Plotly.newPlot(\"3ff5bc0f-c772-4c59-8d4a-42cdd2c61918\", [{\"type\": \"bar\", \"x\": [201702, 201703, 201704, 201705, 201706, 201707, 201710, 201711, 201712], \"y\": [0.25, 0.15625, 0.1875, 0.0625, 0.0625, 0.0625, 0.03125, 0.03125, 0.15625], \"name\": \"importoAggiudicazione\"}, {\"type\": \"bar\", \"x\": [201702, 201703, 201704, 201705, 201706, 201707, 201710, 201711, 201712], \"y\": [0.27189526493542804, 0.013152736021163177, 0.03469504402532272, 0.03303610078863837, 0.03379037757476176, 0.22296898405269253, 0.015568691989095194, 0.006652130405884664, 0.3682406702070137], \"name\": \"numero gare vinte\"}], {\"title\": \"YearMonth\", \"yaxis\": {\"title\": \"\"}}, {\"showLink\": true, \"linkText\": \"Export to plot.ly\"})});</script>"
      ],
      "text/vnd.plotly.v1+html": [
       "<div id=\"3ff5bc0f-c772-4c59-8d4a-42cdd2c61918\" style=\"height: 525px; width: 100%;\" class=\"plotly-graph-div\"></div><script type=\"text/javascript\">require([\"plotly\"], function(Plotly) { window.PLOTLYENV=window.PLOTLYENV || {};window.PLOTLYENV.BASE_URL=\"https://plot.ly\";Plotly.newPlot(\"3ff5bc0f-c772-4c59-8d4a-42cdd2c61918\", [{\"type\": \"bar\", \"x\": [201702, 201703, 201704, 201705, 201706, 201707, 201710, 201711, 201712], \"y\": [0.25, 0.15625, 0.1875, 0.0625, 0.0625, 0.0625, 0.03125, 0.03125, 0.15625], \"name\": \"importoAggiudicazione\"}, {\"type\": \"bar\", \"x\": [201702, 201703, 201704, 201705, 201706, 201707, 201710, 201711, 201712], \"y\": [0.27189526493542804, 0.013152736021163177, 0.03469504402532272, 0.03303610078863837, 0.03379037757476176, 0.22296898405269253, 0.015568691989095194, 0.006652130405884664, 0.3682406702070137], \"name\": \"numero gare vinte\"}], {\"title\": \"YearMonth\", \"yaxis\": {\"title\": \"\"}}, {\"showLink\": true, \"linkText\": \"Export to plot.ly\"})});</script>"
      ]
     },
     "metadata": {},
     "output_type": "display_data"
    },
    {
     "data": {
      "application/vnd.plotly.v1+json": {
       "data": [
        {
         "name": "importoAggiudicazione",
         "type": "bar",
         "x": [
          "COMUNE DI ALBI",
          "COMUNE DI CINQUEFRONDI SERVIZI TECNICI",
          "COMUNE DI CROPANI",
          "COMUNE DI DELIANUOVA",
          "COMUNE DI GIOIA TAURO",
          "COMUNE DI MOTTAFOLLONE",
          "COMUNE DI SANTO STEFANO DI ROGLIANO",
          "COMUNE DI SERRA SAN BRUNO",
          "COMUNE DI TERRAVECCHIA AREA FINANZIARIA",
          "COMUNE DI ZAGARISE",
          "Comune di Belvedere di Spinello",
          "Comune di Cervicati CS",
          "Comune di Lappano  Settore  Tecnico",
          "Comune di Marano Marchesato",
          "SERVIZIO tecnico"
         ],
         "y": [
          0.03125,
          0.0625,
          0.15625,
          0.0625,
          0.03125,
          0.03125,
          0.03125,
          0.125,
          0.15625,
          0.03125,
          0.0625,
          0.03125,
          0.03125,
          0.03125,
          0.125
         ]
        },
        {
         "name": "numero gare vinte",
         "type": "bar",
         "x": [
          "COMUNE DI ALBI",
          "COMUNE DI CINQUEFRONDI SERVIZI TECNICI",
          "COMUNE DI CROPANI",
          "COMUNE DI DELIANUOVA",
          "COMUNE DI GIOIA TAURO",
          "COMUNE DI MOTTAFOLLONE",
          "COMUNE DI SANTO STEFANO DI ROGLIANO",
          "COMUNE DI SERRA SAN BRUNO",
          "COMUNE DI TERRAVECCHIA AREA FINANZIARIA",
          "COMUNE DI ZAGARISE",
          "Comune di Belvedere di Spinello",
          "Comune di Cervicati CS",
          "Comune di Lappano  Settore  Tecnico",
          "Comune di Marano Marchesato",
          "SERVIZIO tecnico"
         ],
         "y": [
          0.00820374600803959,
          0.22296898405269253,
          0.3682406702070137,
          0.008269685196114549,
          0.006652130405884664,
          0.025467574295117396,
          0.010119358734919932,
          0.25348439165499775,
          0.023508754009332937,
          0.007568526493520973,
          0.03379037757476176,
          2.182934939581491e-05,
          0.015568691989095194,
          0.011186290015989782,
          0.004948990013123588
         ]
        }
       ],
       "layout": {
        "title": "denominazioneStrutturaProponente",
        "yaxis": {
         "title": ""
        }
       }
      },
      "text/html": [
       "<div id=\"4007d419-88b4-477d-8645-65c218478574\" style=\"height: 525px; width: 100%;\" class=\"plotly-graph-div\"></div><script type=\"text/javascript\">require([\"plotly\"], function(Plotly) { window.PLOTLYENV=window.PLOTLYENV || {};window.PLOTLYENV.BASE_URL=\"https://plot.ly\";Plotly.newPlot(\"4007d419-88b4-477d-8645-65c218478574\", [{\"type\": \"bar\", \"x\": [\"COMUNE DI ALBI\", \"COMUNE DI CINQUEFRONDI SERVIZI TECNICI\", \"COMUNE DI CROPANI\", \"COMUNE DI DELIANUOVA\", \"COMUNE DI GIOIA TAURO\", \"COMUNE DI MOTTAFOLLONE\", \"COMUNE DI SANTO STEFANO DI ROGLIANO\", \"COMUNE DI SERRA SAN BRUNO\", \"COMUNE DI TERRAVECCHIA AREA FINANZIARIA\", \"COMUNE DI ZAGARISE\", \"Comune di Belvedere di Spinello\", \"Comune di Cervicati CS\", \"Comune di Lappano  Settore  Tecnico\", \"Comune di Marano Marchesato\", \"SERVIZIO tecnico\"], \"y\": [0.03125, 0.0625, 0.15625, 0.0625, 0.03125, 0.03125, 0.03125, 0.125, 0.15625, 0.03125, 0.0625, 0.03125, 0.03125, 0.03125, 0.125], \"name\": \"importoAggiudicazione\"}, {\"type\": \"bar\", \"x\": [\"COMUNE DI ALBI\", \"COMUNE DI CINQUEFRONDI SERVIZI TECNICI\", \"COMUNE DI CROPANI\", \"COMUNE DI DELIANUOVA\", \"COMUNE DI GIOIA TAURO\", \"COMUNE DI MOTTAFOLLONE\", \"COMUNE DI SANTO STEFANO DI ROGLIANO\", \"COMUNE DI SERRA SAN BRUNO\", \"COMUNE DI TERRAVECCHIA AREA FINANZIARIA\", \"COMUNE DI ZAGARISE\", \"Comune di Belvedere di Spinello\", \"Comune di Cervicati CS\", \"Comune di Lappano  Settore  Tecnico\", \"Comune di Marano Marchesato\", \"SERVIZIO tecnico\"], \"y\": [0.00820374600803959, 0.22296898405269253, 0.3682406702070137, 0.008269685196114549, 0.006652130405884664, 0.025467574295117396, 0.010119358734919932, 0.25348439165499775, 0.023508754009332937, 0.007568526493520973, 0.03379037757476176, 2.182934939581491e-05, 0.015568691989095194, 0.011186290015989782, 0.004948990013123588], \"name\": \"numero gare vinte\"}], {\"title\": \"denominazioneStrutturaProponente\", \"yaxis\": {\"title\": \"\"}}, {\"showLink\": true, \"linkText\": \"Export to plot.ly\"})});</script>"
      ],
      "text/vnd.plotly.v1+html": [
       "<div id=\"4007d419-88b4-477d-8645-65c218478574\" style=\"height: 525px; width: 100%;\" class=\"plotly-graph-div\"></div><script type=\"text/javascript\">require([\"plotly\"], function(Plotly) { window.PLOTLYENV=window.PLOTLYENV || {};window.PLOTLYENV.BASE_URL=\"https://plot.ly\";Plotly.newPlot(\"4007d419-88b4-477d-8645-65c218478574\", [{\"type\": \"bar\", \"x\": [\"COMUNE DI ALBI\", \"COMUNE DI CINQUEFRONDI SERVIZI TECNICI\", \"COMUNE DI CROPANI\", \"COMUNE DI DELIANUOVA\", \"COMUNE DI GIOIA TAURO\", \"COMUNE DI MOTTAFOLLONE\", \"COMUNE DI SANTO STEFANO DI ROGLIANO\", \"COMUNE DI SERRA SAN BRUNO\", \"COMUNE DI TERRAVECCHIA AREA FINANZIARIA\", \"COMUNE DI ZAGARISE\", \"Comune di Belvedere di Spinello\", \"Comune di Cervicati CS\", \"Comune di Lappano  Settore  Tecnico\", \"Comune di Marano Marchesato\", \"SERVIZIO tecnico\"], \"y\": [0.03125, 0.0625, 0.15625, 0.0625, 0.03125, 0.03125, 0.03125, 0.125, 0.15625, 0.03125, 0.0625, 0.03125, 0.03125, 0.03125, 0.125], \"name\": \"importoAggiudicazione\"}, {\"type\": \"bar\", \"x\": [\"COMUNE DI ALBI\", \"COMUNE DI CINQUEFRONDI SERVIZI TECNICI\", \"COMUNE DI CROPANI\", \"COMUNE DI DELIANUOVA\", \"COMUNE DI GIOIA TAURO\", \"COMUNE DI MOTTAFOLLONE\", \"COMUNE DI SANTO STEFANO DI ROGLIANO\", \"COMUNE DI SERRA SAN BRUNO\", \"COMUNE DI TERRAVECCHIA AREA FINANZIARIA\", \"COMUNE DI ZAGARISE\", \"Comune di Belvedere di Spinello\", \"Comune di Cervicati CS\", \"Comune di Lappano  Settore  Tecnico\", \"Comune di Marano Marchesato\", \"SERVIZIO tecnico\"], \"y\": [0.00820374600803959, 0.22296898405269253, 0.3682406702070137, 0.008269685196114549, 0.006652130405884664, 0.025467574295117396, 0.010119358734919932, 0.25348439165499775, 0.023508754009332937, 0.007568526493520973, 0.03379037757476176, 2.182934939581491e-05, 0.015568691989095194, 0.011186290015989782, 0.004948990013123588], \"name\": \"numero gare vinte\"}], {\"title\": \"denominazioneStrutturaProponente\", \"yaxis\": {\"title\": \"\"}}, {\"showLink\": true, \"linkText\": \"Export to plot.ly\"})});</script>"
      ]
     },
     "metadata": {},
     "output_type": "display_data"
    },
    {
     "data": {
      "application/vnd.plotly.v1+json": {
       "data": [
        {
         "name": "importoAggiudicazione",
         "type": "bar",
         "x": [
          "Comuni e loro Consorzi e Associazioni"
         ],
         "y": [
          1
         ]
        },
        {
         "name": "numero gare vinte",
         "type": "bar",
         "x": [
          "Comuni e loro Consorzi e Associazioni"
         ],
         "y": [
          1
         ]
        }
       ],
       "layout": {
        "title": "tipologia_istat",
        "yaxis": {
         "title": ""
        }
       }
      },
      "text/html": [
       "<div id=\"06dcf83c-56d5-4fbd-b084-a9dbf422bcc8\" style=\"height: 525px; width: 100%;\" class=\"plotly-graph-div\"></div><script type=\"text/javascript\">require([\"plotly\"], function(Plotly) { window.PLOTLYENV=window.PLOTLYENV || {};window.PLOTLYENV.BASE_URL=\"https://plot.ly\";Plotly.newPlot(\"06dcf83c-56d5-4fbd-b084-a9dbf422bcc8\", [{\"type\": \"bar\", \"x\": [\"Comuni e loro Consorzi e Associazioni\"], \"y\": [1.0], \"name\": \"importoAggiudicazione\"}, {\"type\": \"bar\", \"x\": [\"Comuni e loro Consorzi e Associazioni\"], \"y\": [1.0], \"name\": \"numero gare vinte\"}], {\"title\": \"tipologia_istat\", \"yaxis\": {\"title\": \"\"}}, {\"showLink\": true, \"linkText\": \"Export to plot.ly\"})});</script>"
      ],
      "text/vnd.plotly.v1+html": [
       "<div id=\"06dcf83c-56d5-4fbd-b084-a9dbf422bcc8\" style=\"height: 525px; width: 100%;\" class=\"plotly-graph-div\"></div><script type=\"text/javascript\">require([\"plotly\"], function(Plotly) { window.PLOTLYENV=window.PLOTLYENV || {};window.PLOTLYENV.BASE_URL=\"https://plot.ly\";Plotly.newPlot(\"06dcf83c-56d5-4fbd-b084-a9dbf422bcc8\", [{\"type\": \"bar\", \"x\": [\"Comuni e loro Consorzi e Associazioni\"], \"y\": [1.0], \"name\": \"importoAggiudicazione\"}, {\"type\": \"bar\", \"x\": [\"Comuni e loro Consorzi e Associazioni\"], \"y\": [1.0], \"name\": \"numero gare vinte\"}], {\"title\": \"tipologia_istat\", \"yaxis\": {\"title\": \"\"}}, {\"showLink\": true, \"linkText\": \"Export to plot.ly\"})});</script>"
      ]
     },
     "metadata": {},
     "output_type": "display_data"
    },
    {
     "data": {
      "application/vnd.plotly.v1+json": {
       "data": [
        {
         "name": "importoAggiudicazione",
         "type": "bar",
         "x": [
          "Calabria"
         ],
         "y": [
          1
         ]
        },
        {
         "name": "numero gare vinte",
         "type": "bar",
         "x": [
          "Calabria"
         ],
         "y": [
          1
         ]
        }
       ],
       "layout": {
        "title": "regione",
        "yaxis": {
         "title": ""
        }
       }
      },
      "text/html": [
       "<div id=\"49a2dc9e-da76-4ec0-8abf-631cd5f8fdd4\" style=\"height: 525px; width: 100%;\" class=\"plotly-graph-div\"></div><script type=\"text/javascript\">require([\"plotly\"], function(Plotly) { window.PLOTLYENV=window.PLOTLYENV || {};window.PLOTLYENV.BASE_URL=\"https://plot.ly\";Plotly.newPlot(\"49a2dc9e-da76-4ec0-8abf-631cd5f8fdd4\", [{\"type\": \"bar\", \"x\": [\"Calabria\"], \"y\": [1.0], \"name\": \"importoAggiudicazione\"}, {\"type\": \"bar\", \"x\": [\"Calabria\"], \"y\": [1.0], \"name\": \"numero gare vinte\"}], {\"title\": \"regione\", \"yaxis\": {\"title\": \"\"}}, {\"showLink\": true, \"linkText\": \"Export to plot.ly\"})});</script>"
      ],
      "text/vnd.plotly.v1+html": [
       "<div id=\"49a2dc9e-da76-4ec0-8abf-631cd5f8fdd4\" style=\"height: 525px; width: 100%;\" class=\"plotly-graph-div\"></div><script type=\"text/javascript\">require([\"plotly\"], function(Plotly) { window.PLOTLYENV=window.PLOTLYENV || {};window.PLOTLYENV.BASE_URL=\"https://plot.ly\";Plotly.newPlot(\"49a2dc9e-da76-4ec0-8abf-631cd5f8fdd4\", [{\"type\": \"bar\", \"x\": [\"Calabria\"], \"y\": [1.0], \"name\": \"importoAggiudicazione\"}, {\"type\": \"bar\", \"x\": [\"Calabria\"], \"y\": [1.0], \"name\": \"numero gare vinte\"}], {\"title\": \"regione\", \"yaxis\": {\"title\": \"\"}}, {\"showLink\": true, \"linkText\": \"Export to plot.ly\"})});</script>"
      ]
     },
     "metadata": {},
     "output_type": "display_data"
    },
    {
     "data": {
      "application/vnd.plotly.v1+json": {
       "data": [
        {
         "name": "importoAggiudicazione",
         "type": "bar",
         "x": [
          "CS",
          "CZ",
          "KR",
          "RC",
          "VV"
         ],
         "y": [
          0.4375,
          0.21875,
          0.0625,
          0.15625,
          0.125
         ]
        },
        {
         "name": "numero gare vinte",
         "type": "bar",
         "x": [
          "CS",
          "CZ",
          "KR",
          "RC",
          "VV"
         ],
         "y": [
          0.09082148840697463,
          0.38401294270857417,
          0.033790377574761755,
          0.2378907996546917,
          0.2534843916549977
         ]
        }
       ],
       "layout": {
        "title": "provincia",
        "yaxis": {
         "title": ""
        }
       }
      },
      "text/html": [
       "<div id=\"7fac4aa4-b8e1-42b9-8f57-2c58e6f295d6\" style=\"height: 525px; width: 100%;\" class=\"plotly-graph-div\"></div><script type=\"text/javascript\">require([\"plotly\"], function(Plotly) { window.PLOTLYENV=window.PLOTLYENV || {};window.PLOTLYENV.BASE_URL=\"https://plot.ly\";Plotly.newPlot(\"7fac4aa4-b8e1-42b9-8f57-2c58e6f295d6\", [{\"type\": \"bar\", \"x\": [\"CS\", \"CZ\", \"KR\", \"RC\", \"VV\"], \"y\": [0.4375, 0.21875, 0.0625, 0.15625, 0.125], \"name\": \"importoAggiudicazione\"}, {\"type\": \"bar\", \"x\": [\"CS\", \"CZ\", \"KR\", \"RC\", \"VV\"], \"y\": [0.09082148840697463, 0.38401294270857417, 0.033790377574761755, 0.2378907996546917, 0.2534843916549977], \"name\": \"numero gare vinte\"}], {\"title\": \"provincia\", \"yaxis\": {\"title\": \"\"}}, {\"showLink\": true, \"linkText\": \"Export to plot.ly\"})});</script>"
      ],
      "text/vnd.plotly.v1+html": [
       "<div id=\"7fac4aa4-b8e1-42b9-8f57-2c58e6f295d6\" style=\"height: 525px; width: 100%;\" class=\"plotly-graph-div\"></div><script type=\"text/javascript\">require([\"plotly\"], function(Plotly) { window.PLOTLYENV=window.PLOTLYENV || {};window.PLOTLYENV.BASE_URL=\"https://plot.ly\";Plotly.newPlot(\"7fac4aa4-b8e1-42b9-8f57-2c58e6f295d6\", [{\"type\": \"bar\", \"x\": [\"CS\", \"CZ\", \"KR\", \"RC\", \"VV\"], \"y\": [0.4375, 0.21875, 0.0625, 0.15625, 0.125], \"name\": \"importoAggiudicazione\"}, {\"type\": \"bar\", \"x\": [\"CS\", \"CZ\", \"KR\", \"RC\", \"VV\"], \"y\": [0.09082148840697463, 0.38401294270857417, 0.033790377574761755, 0.2378907996546917, 0.2534843916549977], \"name\": \"numero gare vinte\"}], {\"title\": \"provincia\", \"yaxis\": {\"title\": \"\"}}, {\"showLink\": true, \"linkText\": \"Export to plot.ly\"})});</script>"
      ]
     },
     "metadata": {},
     "output_type": "display_data"
    },
    {
     "data": {
      "application/vnd.plotly.v1+json": {
       "data": [
        {
         "name": "importoAggiudicazione",
         "type": "bar",
         "x": [
          "Albi",
          "Belvedere di Spinello",
          "Cervicati",
          "Cinquefrondi",
          "Cropani",
          "Delianuova",
          "Gioia Tauro",
          "Lappano",
          "Malito",
          "Marano Marchesato",
          "Mottafollone",
          "Santo Stefano di Rogliano",
          "Serra San Bruno",
          "Terravecchia",
          "Zagarise"
         ],
         "y": [
          0.03125,
          0.0625,
          0.03125,
          0.0625,
          0.15625,
          0.0625,
          0.03125,
          0.03125,
          0.125,
          0.03125,
          0.03125,
          0.03125,
          0.125,
          0.15625,
          0.03125
         ]
        },
        {
         "name": "numero gare vinte",
         "type": "bar",
         "x": [
          "Albi",
          "Belvedere di Spinello",
          "Cervicati",
          "Cinquefrondi",
          "Cropani",
          "Delianuova",
          "Gioia Tauro",
          "Lappano",
          "Malito",
          "Marano Marchesato",
          "Mottafollone",
          "Santo Stefano di Rogliano",
          "Serra San Bruno",
          "Terravecchia",
          "Zagarise"
         ],
         "y": [
          0.00820374600803959,
          0.03379037757476176,
          2.182934939581491e-05,
          0.22296898405269253,
          0.3682406702070137,
          0.008269685196114549,
          0.006652130405884664,
          0.015568691989095194,
          0.004948990013123588,
          0.011186290015989782,
          0.025467574295117396,
          0.010119358734919932,
          0.25348439165499775,
          0.023508754009332937,
          0.007568526493520973
         ]
        }
       ],
       "layout": {
        "title": "comune",
        "yaxis": {
         "title": ""
        }
       }
      },
      "text/html": [
       "<div id=\"ce8a320a-1be8-450a-96fd-2279395cc71f\" style=\"height: 525px; width: 100%;\" class=\"plotly-graph-div\"></div><script type=\"text/javascript\">require([\"plotly\"], function(Plotly) { window.PLOTLYENV=window.PLOTLYENV || {};window.PLOTLYENV.BASE_URL=\"https://plot.ly\";Plotly.newPlot(\"ce8a320a-1be8-450a-96fd-2279395cc71f\", [{\"type\": \"bar\", \"x\": [\"Albi\", \"Belvedere di Spinello\", \"Cervicati\", \"Cinquefrondi\", \"Cropani\", \"Delianuova\", \"Gioia Tauro\", \"Lappano\", \"Malito\", \"Marano Marchesato\", \"Mottafollone\", \"Santo Stefano di Rogliano\", \"Serra San Bruno\", \"Terravecchia\", \"Zagarise\"], \"y\": [0.03125, 0.0625, 0.03125, 0.0625, 0.15625, 0.0625, 0.03125, 0.03125, 0.125, 0.03125, 0.03125, 0.03125, 0.125, 0.15625, 0.03125], \"name\": \"importoAggiudicazione\"}, {\"type\": \"bar\", \"x\": [\"Albi\", \"Belvedere di Spinello\", \"Cervicati\", \"Cinquefrondi\", \"Cropani\", \"Delianuova\", \"Gioia Tauro\", \"Lappano\", \"Malito\", \"Marano Marchesato\", \"Mottafollone\", \"Santo Stefano di Rogliano\", \"Serra San Bruno\", \"Terravecchia\", \"Zagarise\"], \"y\": [0.00820374600803959, 0.03379037757476176, 2.182934939581491e-05, 0.22296898405269253, 0.3682406702070137, 0.008269685196114549, 0.006652130405884664, 0.015568691989095194, 0.004948990013123588, 0.011186290015989782, 0.025467574295117396, 0.010119358734919932, 0.25348439165499775, 0.023508754009332937, 0.007568526493520973], \"name\": \"numero gare vinte\"}], {\"title\": \"comune\", \"yaxis\": {\"title\": \"\"}}, {\"showLink\": true, \"linkText\": \"Export to plot.ly\"})});</script>"
      ],
      "text/vnd.plotly.v1+html": [
       "<div id=\"ce8a320a-1be8-450a-96fd-2279395cc71f\" style=\"height: 525px; width: 100%;\" class=\"plotly-graph-div\"></div><script type=\"text/javascript\">require([\"plotly\"], function(Plotly) { window.PLOTLYENV=window.PLOTLYENV || {};window.PLOTLYENV.BASE_URL=\"https://plot.ly\";Plotly.newPlot(\"ce8a320a-1be8-450a-96fd-2279395cc71f\", [{\"type\": \"bar\", \"x\": [\"Albi\", \"Belvedere di Spinello\", \"Cervicati\", \"Cinquefrondi\", \"Cropani\", \"Delianuova\", \"Gioia Tauro\", \"Lappano\", \"Malito\", \"Marano Marchesato\", \"Mottafollone\", \"Santo Stefano di Rogliano\", \"Serra San Bruno\", \"Terravecchia\", \"Zagarise\"], \"y\": [0.03125, 0.0625, 0.03125, 0.0625, 0.15625, 0.0625, 0.03125, 0.03125, 0.125, 0.03125, 0.03125, 0.03125, 0.125, 0.15625, 0.03125], \"name\": \"importoAggiudicazione\"}, {\"type\": \"bar\", \"x\": [\"Albi\", \"Belvedere di Spinello\", \"Cervicati\", \"Cinquefrondi\", \"Cropani\", \"Delianuova\", \"Gioia Tauro\", \"Lappano\", \"Malito\", \"Marano Marchesato\", \"Mottafollone\", \"Santo Stefano di Rogliano\", \"Serra San Bruno\", \"Terravecchia\", \"Zagarise\"], \"y\": [0.00820374600803959, 0.03379037757476176, 2.182934939581491e-05, 0.22296898405269253, 0.3682406702070137, 0.008269685196114549, 0.006652130405884664, 0.015568691989095194, 0.004948990013123588, 0.011186290015989782, 0.025467574295117396, 0.010119358734919932, 0.25348439165499775, 0.023508754009332937, 0.007568526493520973], \"name\": \"numero gare vinte\"}], {\"title\": \"comune\", \"yaxis\": {\"title\": \"\"}}, {\"showLink\": true, \"linkText\": \"Export to plot.ly\"})});</script>"
      ]
     },
     "metadata": {},
     "output_type": "display_data"
    }
   ],
   "source": [
    "columns_to_visualize = [\"totaleRaggruppamentopartecipanti\",\"totalePartecipanti\",\"YearMonth\",\"denominazioneStrutturaProponente\", \"tipologia_istat\", \"regione\", \"provincia\", \"comune\"]\n",
    "#columns_to_visualize = [\"totalePartecipanti\"]\n",
    "\n",
    "for col in columns_to_visualize:\n",
    "    fig_bar = showPlot(final_df, col, cfPrimoaggiudicatario)\n",
    "    \n",
    "    #fig_bar_path = 'imgs/fornitore'+'_'+cfPrimoaggiudicatario+'_'+col.replace(\" \", \"\")+\".png\"\n",
    "    fig_bar_path = 'imgs/' +col+\".png\"\n",
    "    #py_on.image.save_as(fig_bar, filename=fig_bar_path)\n",
    "\n",
    "    py.iplot(fig_bar)\n",
    "    #i = Image(path)\n",
    "    #display(i)"
   ]
  },
  {
   "cell_type": "code",
   "execution_count": null,
   "metadata": {},
   "outputs": [],
   "source": []
  }
 ],
 "metadata": {
  "kernelspec": {
   "display_name": "Python 3",
   "language": "python",
   "name": "python3"
  },
  "language_info": {
   "codemirror_mode": {
    "name": "ipython",
    "version": 3
   },
   "file_extension": ".py",
   "mimetype": "text/x-python",
   "name": "python",
   "nbconvert_exporter": "python",
   "pygments_lexer": "ipython3",
   "version": "3.6.4"
  }
 },
 "nbformat": 4,
 "nbformat_minor": 2
}
