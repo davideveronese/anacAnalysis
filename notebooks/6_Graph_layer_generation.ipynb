{
 "cells": [
  {
   "cell_type": "markdown",
   "metadata": {},
   "source": [
    "# Graph Generation basato su attributi testuali\n",
    "Obiettivo di questo notebook è quello di generare per ogni PA e Aggiudicatario una rappresentazione in uno spazio multidimensionale. Questa rappresentazione verrà usata per generare un grafo G(V,E) dove l'insieme dei nodi V rappresenta PA e Aggiudicatari, mentre l'insieme degli archi E definisce relazioni di similarità tra i nodi.\n",
    "\n",
    "Si definisce di seguito la soluzione proposta.\n",
    "\n",
    "\n",
    "## Soluzione 1: creazione di vettori basati sul tf-idf\n",
    "\n",
    "Ogni bando di gara è caratterizzato da un campo *oggetto*. Quindi per ogni elemento *i* ∈ { PA ⋃  Fornitori }, dove PA (Fornitori) è l’insieme delle Pubbliche amministrazioni (Fornitori) presenti nel dataset Anac,  è possibile creare un documento sintetico d<sub>i</sub> ottenuto concatenando il testo di tutti gli oggetti delle gare appartenenti ad *i*.\n",
    "\n",
    "A partire da D = {d<sub>i</sub> | i ∈ { PA ⋃  Fornitori}} è possibile creare la matrice W ∈ R<sup>(n,m)</sup>, ottenuta calcolando il TF-IDF su D.\n",
    "\n",
    "In questo modo è possibile creare un grafo G_text(V, E) dove V = { PA ⋃ Fornitori } ed esiste un arco pesato e = {(u, v) ∈ E | p(e) = cos(w<sub>u</sub>, w<sub>v</sub>)}  solo e soltanto se cos(w<sub>u</sub>, w<sub>v</sub>) >= *threshold*.\n",
    "\n",
    "cos(w<sub>u</sub>, w<sub>v</sub>) ∈ [0,1], dove 0 implica che i documenti d<sub>u</sub>, d<sub>v</sub> sono completamente diversi, mentre 1 implica che i documenti hanno la stessa distribuzione di termini.\n",
    "\n",
    "\n",
    "**Note**\n",
    "\n",
    "- Dati i ∈ {PA} e j ∈ {Fornitori}, è possibile che se tutte le gare vinte da j riguardassero sempre i come struttura proponente (PA) e se tutte le gare di i siano vinte da j allora d<sub>i</sub> == d<sub>j</sub>, quindi cos(w<sub>i</sub>, w<sub>j</sub>) = 1.\n",
    "\n",
    "- E’ possibile aggiungere al grafo G<sub>text</sub> nuovi nodi come l’insieme delle provincie e regioni. In questo caso è possibile associare ad ogni provincia (regione) i un documento sintentico d_i ottenuto concatenando tutti gli oggetti delle PA che insistono su i.  \n",
    "\n",
    "- La matrice W non gestisce casi si sinonimia e polisemia (problema risolto con la soluziione successiva);\n",
    "\n",
    "## Soluzione 2: creazione di vettori basati su word embedding dei top term\n",
    "\n",
    "   Come nel precedente caso per ogni elemento i ∈ { PA ⋃  Fornitori }, dove PA (Fornitori) è l’insieme delle Pubbliche amministrazioni (Fornitori) presenti nel dataset Anac,  è possibile creare un documento sintetico d<sub>i</sub> ottenuto concatenando il testo di tutti gli oggetti delle gare appartenenti ad i. \n",
    "\n",
    "Sia *L* l’insieme delle top n ∈ N parole più frequenti (in termine di tf-idf)  e *D* = {d’<sub>i</sub> | i ∈ { PA ⋃  Fornitori } }, dove d’<sub>i</sub> = {(l, w) | l ∈ L e w = TF-IDF(l, d<sub>i</sub>)}. \n",
    "\n",
    "In questo modo per ogni i è possibile costruire un vettore v<sub>i</sub>  dato dalla somma pesata degli embedding dei termini l contenuti in d’<sub>i</sub>. \n",
    "Per esempio, sia  L = [“fattura”, “acquisto”, “fornitura”] l’insieme dei top 3 termini in D, e sia D ={d<sub>1</sub>, d<sub>2</sub>, d<sub>3</sub>}, dove:\n",
    "\n",
    "- d<sub>1</sub> = [(“acquisto”: w(1,acquisto)), (“fattura”: w(1,fattura))]  \n",
    "- d<sub>2</sub> = [(“fattura”: w(2,fattura)), (“fornitura”: w(2,fornitura))]  \n",
    "- d<sub>3</sub> = [(“acquisto”: w(3,acquisto)), (“fattura”: w(3,fattura)), (“fornitura”: w(3,fornitura))]\n",
    "\n",
    "Quindi è possibile per ogni d<sub>i</sub> calcolare una rappresentazione vettoriale\n",
    "\n",
    " \n",
    "$\\sum_{(tj,wj)∈di}$ w<sub>j</sub> * embedding(t<sub>j</sub>)\n",
    "    \n",
    "    \n",
    " \n",
    "\n",
    "dove embedding(t<sub>j</sub>) è l’embedding del termine t<sub>j</sub> appreso su Wikipedia (vedi [qui](https://fasttext.cc/docs/en/support.html) per maggiori dettagli).\n",
    "\n",
    "In questo modo è possibile creare un grafo G<sub>text</sub>(V, E) dove V = { PA ⋃ Fornitori } ed esiste un arco pesato e = {(u, v) ∈ E | p(e) = cos(v<sub>du</sub>, v<sub>dv</sub>)}  solo e soltanto se cos(v<sub>du</sub>, v<sub>dv</sub>) >= threshold.\n",
    "\n",
    "\n",
    "\n",
    "\n"
   ]
  },
  {
   "cell_type": "code",
   "execution_count": 2,
   "metadata": {},
   "outputs": [
    {
     "data": {
      "text/html": [
       "<script>requirejs.config({paths: { 'plotly': ['https://cdn.plot.ly/plotly-latest.min']},});if(!window.Plotly) {{require(['plotly'],function(plotly) {window.Plotly=plotly;});}}</script>"
      ],
      "text/vnd.plotly.v1+html": [
       "<script>requirejs.config({paths: { 'plotly': ['https://cdn.plot.ly/plotly-latest.min']},});if(!window.Plotly) {{require(['plotly'],function(plotly) {window.Plotly=plotly;});}}</script>"
      ]
     },
     "metadata": {},
     "output_type": "display_data"
    }
   ],
   "source": [
    "import warnings\n",
    "warnings.filterwarnings('ignore', category=DeprecationWarning, module='.*/IPython/.*')\n",
    "\n",
    "import pandas as pd\n",
    "import numpy  as np\n",
    "import csv\n",
    "import datetime\n",
    "from time import time\n",
    "\n",
    "#%matplotlib inline\n",
    "\n",
    "import plotly.offline as py\n",
    "import plotly.plotly as py_on\n",
    "import plotly.graph_objs as go\n",
    "from plotly import tools\n",
    "import plotly.figure_factory as ff\n",
    "py.init_notebook_mode(connected=True)\n",
    "\n",
    "from IPython.display import Image\n",
    "from IPython.display import display\n",
    "\n",
    "import matplotlib.pyplot as plt"
   ]
  },
  {
   "cell_type": "code",
   "execution_count": null,
   "metadata": {},
   "outputs": [],
   "source": [
    "file = \"data/anac/anac_indicepa_2017.tsv\"\n",
    "df = pd.read_csv(file, sep=\"\\t\")\n",
    "df.info(memory_usage='deep')"
   ]
  },
  {
   "cell_type": "markdown",
   "metadata": {},
   "source": [
    "## Creazione dei documenti sintetici d<sub>i</sub>\n",
    "\n",
    "In questa sezione, per ogni attributo in *columns_to_aggregate*, è calcolato il documento sintetico per ogni occorrenza dello stesso"
   ]
  },
  {
   "cell_type": "code",
   "execution_count": null,
   "metadata": {},
   "outputs": [],
   "source": [
    "columns_to_aggregate = {(\"cfStrutturaProponente\",\"PA\"), (\"cfPrimoaggiudicatario\",\"AGG\")}"
   ]
  },
  {
   "cell_type": "code",
   "execution_count": null,
   "metadata": {},
   "outputs": [],
   "source": [
    "def aggregateByOggetto(col_groupBy, col_toAgg, df):\n",
    "    \"\"\"\n",
    "    col_groupBy: è la colonna per la quale effettuare l'aggragazione\n",
    "    col_toAgg: è la colonna contenente le informazioni non strutturate, i.e. campo \"oggetto\"\n",
    "    df: input dataframe\n",
    "    \"\"\"\n",
    "    df_noEmpty = df.dropna(subset=[col_toAgg], axis=0)\n",
    "    new_series = df_noEmpty.groupby(col_groupBy)[col_toAgg].apply(lambda x: ' '.join(x)) \n",
    "    return pd.DataFrame(new_series)"
   ]
  },
  {
   "cell_type": "code",
   "execution_count": null,
   "metadata": {},
   "outputs": [],
   "source": [
    "final_df = pd.DataFrame(columns=['codiceFiscaleStruttura', 'oggetto', \"tipoStruttura\"])"
   ]
  },
  {
   "cell_type": "code",
   "execution_count": null,
   "metadata": {},
   "outputs": [],
   "source": [
    "for col, type_col in columns_to_aggregate:\n",
    "    t0 = time()\n",
    "    aggregate_df = aggregateByOggetto(col, \"oggetto\", df) \n",
    "    total = time() - t0\n",
    "\n",
    "    aggregate_df['tipoStruttura'] = [type_col] * aggregate_df.shape[0]\n",
    "    aggregate_df.rename(columns={col: 'codiceFiscaleStruttura'})\n",
    "\n",
    "    final_df = final_df.append(aggregate_df)\n",
    "    \n",
    "    print(\"Aggregation of attribute %s done in %0.3f sec\" % (col, total))\n",
    "    print(aggregate_df[\"oggetto\"].head(3))\n"
   ]
  },
  {
   "cell_type": "code",
   "execution_count": null,
   "metadata": {
    "scrolled": true
   },
   "outputs": [],
   "source": [
    "t0 = time()\n",
    "file_name = \"data/oggetti_aggregati.pickle\"\n",
    "final_df.to_pickle(file_name)\n",
    "total = time() - t0\n",
    "\n",
    "print(\"Dataset stored in %0.3f sec\" % total)"
   ]
  },
  {
   "cell_type": "code",
   "execution_count": null,
   "metadata": {},
   "outputs": [],
   "source": [
    "#rilascia la memoria associata al DataFrame\n",
    "del [[df, final_df]]"
   ]
  },
  {
   "cell_type": "markdown",
   "metadata": {},
   "source": [
    "## Implementazione Soluzione 1"
   ]
  },
  {
   "cell_type": "code",
   "execution_count": 3,
   "metadata": {},
   "outputs": [],
   "source": [
    "from nltk.stem.snowball import ItalianStemmer\n",
    "from sklearn.feature_extraction.text import TfidfVectorizer\n",
    "from scipy.sparse.csr import csr_matrix #need this if you want to save tfidf_matrix\n",
    "import nltk\n",
    "#nltk.download('stopwords')\n",
    "from nltk.corpus import stopwords\n",
    "\n",
    "class StemmedCountVectorizer(TfidfVectorizer):\n",
    "    \n",
    "    def build_analyzer(self):\n",
    "        analyzer = super(StemmedCountVectorizer, self).build_analyzer()\n",
    "        return lambda doc: ([italian_stemmer.stem(w) for w in analyzer(doc)])\n",
    "        \n",
    "def get_TFIDFmatrix_vect(data, do_stemming):\n",
    "    \"\"\"\n",
    "    data: input textual collection\n",
    "    do_stemming: boolean. If True execute stemming, otherwise analyze only tokenized words (words are composed at least 2 chars and do not contains numbers)\n",
    "    \"\"\"\n",
    "    t0 = time()\n",
    "    \n",
    "    if do_stemming:\n",
    "        \n",
    "        italian_stemmer = ItalianStemmer()\n",
    "        tf = StemmedCountVectorizer(token_pattern=u'([a-z]{2,})', max_features=1000, analyzer=\"word\", stop_words=stopwords.words('italian'))\n",
    "\n",
    "    else:\n",
    "        tf = TfidfVectorizer(token_pattern=u'([a-z]{2,})', stop_words=stopwords.words('italian'), max_features=1000) #CountVectorizer supports counts of N-grams of words or consecutive characters.\n",
    "    \n",
    "    matrix = tf.fit_transform(data)  \n",
    "    return matrix, tf\n",
    "\n",
    "def plotTopNWords(sorted_frequents_words, N, title):\n",
    "    \"\"\"frequents_words: list of frequents words. Type: tuple(str, numpy.int64)\n",
    "       N: number of words to plot \n",
    "    \"\"\"\n",
    "    #most_frequents_words = sorted(sorted_frequents_words, key = lambda x: x[1], reverse=True)\n",
    "    x, y = zip(*sorted_frequents_words[1:N]) # unpack a list of pairs into two tuples\n",
    "\n",
    "    fig = plt.figure()\n",
    "    ax1 = fig.add_subplot(111)  # Create matplotlib axes\n",
    "    ax1.set_title(title)\n",
    "    ax1.plot(x, y)\n",
    "\n",
    "    for tl in ax1.get_xticklabels():\n",
    "        tl.set_rotation(90)\n",
    "\n",
    "    file_name = 'imgs/top'+str(N)+'_words_plot.png'  \n",
    "    fig.tight_layout() \n",
    "    plt.savefig(file_name, pad = 0) #png\n",
    "\n",
    "    plt.clf\n",
    "    return file_name"
   ]
  },
  {
   "cell_type": "code",
   "execution_count": 4,
   "metadata": {},
   "outputs": [
    {
     "name": "stdout",
     "output_type": "stream",
     "text": [
      "Dataset loaded in 1.301 sec\n"
     ]
    }
   ],
   "source": [
    "file_name = \"data/oggetti_aggregati.pickle\"\n",
    "\n",
    "t0 = time()\n",
    "df = pd.read_pickle(file_name)\n",
    "total = time() - t0\n",
    "\n",
    "print(\"Dataset loaded in %0.3f sec\" % total)"
   ]
  },
  {
   "cell_type": "code",
   "execution_count": 5,
   "metadata": {},
   "outputs": [
    {
     "name": "stdout",
     "output_type": "stream",
     "text": [
      "<class 'pandas.core.frame.DataFrame'>\n",
      "Index: 262964 entries, 8010803 to zzintl50p49e532p\n",
      "Data columns (total 3 columns):\n",
      "codiceFiscaleStruttura    0 non-null object\n",
      "oggetto                   262964 non-null object\n",
      "tipoStruttura             262964 non-null object\n",
      "dtypes: object(3)\n",
      "memory usage: 8.0+ MB\n"
     ]
    }
   ],
   "source": [
    "df.info()"
   ]
  },
  {
   "cell_type": "code",
   "execution_count": 6,
   "metadata": {},
   "outputs": [
    {
     "name": "stdout",
     "output_type": "stream",
     "text": [
      "TFIDF matrix done in 47.322 sec\n"
     ]
    }
   ],
   "source": [
    "t0 = time()\n",
    "\n",
    "matrix, tf = get_TFIDFmatrix_vect(df.oggetto, False)\n",
    "total = time() - t0\n",
    "print(\"TFIDF matrix done in %0.3f sec\" % total)"
   ]
  },
  {
   "cell_type": "code",
   "execution_count": 7,
   "metadata": {},
   "outputs": [
    {
     "data": {
      "image/png": "[encoded data removed]",
      "text/plain": [
       "<Figure size 432x288 with 1 Axes>"
      ]
     },
     "metadata": {},
     "output_type": "display_data"
    }
   ],
   "source": [
    "top_terms = 40\n",
    "\n",
    "#Tf-Idf distribution\n",
    "scores = zip(tf.get_feature_names(), np.asarray(matrix.sum(axis=0)).ravel())\n",
    "sorted_scores = sorted(scores, key=lambda x: x[1], reverse=True)\n",
    "file_name = plotTopNWords(sorted_scores, top_terms,  \"Word Distribution based on TF-IDF\")"
   ]
  },
  {
   "cell_type": "code",
   "execution_count": 9,
   "metadata": {},
   "outputs": [
    {
     "data": {
      "text/plain": [
       "(262964, 1000)"
      ]
     },
     "execution_count": 9,
     "metadata": {},
     "output_type": "execute_result"
    }
   ],
   "source": [
    "matrix.shape"
   ]
  },
  {
   "cell_type": "code",
   "execution_count": null,
   "metadata": {},
   "outputs": [
    {
     "name": "stdout",
     "output_type": "stream",
     "text": [
      "Standardization done in 46.379 sec\n"
     ]
    }
   ],
   "source": [
    "##Clustering with DBSCAN\n",
    "\n",
    "from sklearn.cluster import DBSCAN\n",
    "from sklearn import metrics\n",
    "from sklearn.preprocessing import StandardScaler\n",
    "\n",
    "\n",
    "if matrix.shape[0] > 100:\n",
    "    #Standardize features by removing the mean and scaling to unit variance\n",
    "    t0 = time()\n",
    "    scaled_tfidf_matrix = StandardScaler().fit_transform(matrix.toarray())\n",
    "    total = time() - t0\n",
    "    print(\"Standardization done in %0.3f sec\" % total)\n",
    "    \n",
    "    # Compute DBSCAN\n",
    "    t0 = time()\n",
    "    db = DBSCAN(algorithm = 'ball_tree', min_samples=10, n_jobs=-1).fit(scaled_tfidf_matrix)\n",
    "    \n",
    "    labels = db.labels_\n",
    "    total = time() - t0\n",
    "    \n",
    "    n_clusters_ = len(set(labels)) - (1 if -1 in labels else 0)\n",
    "    print(\"Clustering done in done in %0.3f sec\" % total)\n",
    "    print('Estimated number of clusters: %d' % n_clusters_)\n",
    "    print(\"Silhouette Coefficient: %0.3f\"% metrics.silhouette_score(scaled_tfidf_matrix, labels))\n",
    "    \n",
    "    df_aggiudicatario[\"label\"] = labels"
   ]
  },
  {
   "cell_type": "code",
   "execution_count": null,
   "metadata": {},
   "outputs": [],
   "source": []
  },
  {
   "cell_type": "code",
   "execution_count": null,
   "metadata": {},
   "outputs": [],
   "source": []
  },
  {
   "cell_type": "code",
   "execution_count": null,
   "metadata": {},
   "outputs": [],
   "source": [
    "from gensim.models import KeyedVectors\n"
   ]
  },
  {
   "cell_type": "code",
   "execution_count": null,
   "metadata": {},
   "outputs": [],
   "source": [
    "time()"
   ]
  },
  {
   "cell_type": "code",
   "execution_count": 10,
   "metadata": {},
   "outputs": [],
   "source": [
    "from sklearn.cluster import DBSCAN\n",
    "DBSCAN?"
   ]
  },
  {
   "cell_type": "code",
   "execution_count": null,
   "metadata": {},
   "outputs": [],
   "source": []
  }
 ],
 "metadata": {
  "kernelspec": {
   "display_name": "Python 3",
   "language": "python",
   "name": "python3"
  },
  "language_info": {
   "codemirror_mode": {
    "name": "ipython",
    "version": 3
   },
   "file_extension": ".py",
   "mimetype": "text/x-python",
   "name": "python",
   "nbconvert_exporter": "python",
   "pygments_lexer": "ipython3",
   "version": "3.6.4"
  }
 },
 "nbformat": 4,
 "nbformat_minor": 2
}
