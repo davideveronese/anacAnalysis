{
 "cells": [
  {
   "cell_type": "markdown",
   "metadata": {},
   "source": [
    "# Graph Generation basato su attributi testuali\n",
    "Obiettivo di questo notebook è quello di generare per ogni PA e Aggiudicatario una rappresentazione in uno spazio multidimensionale. Questa rappresentazione verrà usata per generare un grafo G(V,E) dove l'insieme dei nodi V rappresenta PA e Aggiudicatari, mentre l'insieme degli archi E definisce relazioni di similarità tra i nodi.\n",
    "\n",
    "**Note**\n",
    "\n",
    "Il dataset contiene 0 valori mancanti per il campo *cfStrutturaProponente* ed 8445 valori mancanti per il campo *cfPrimoaggiudicatario*. I valori mancanti verranno eliminati durante la fase di generazione dei documenti sintetici. Nonostante l'eliminazione di elementi con valori nulli, essendo il dataset molto sporco ci sono diversi  valori inconsistenti. Ad esempio ci sono stringhe formate da soli spazi o di sola punteggiatura speciale, stringhe non associate a reali p.iva o codici fiscali (e.g. \"extra UE USA\", \"USA\", \"USA00004215\"). Per fare ricerche basate su sottostringhe esegui il comando: \n",
    "\n",
    "``` python\n",
    "example_df = df[pd.notnull(df['cfPrimoaggiudicatario'])]\n",
    "example_df[example_df['cfPrimoaggiudicatario'].str.contains(\"USA|usa\")==True]\n",
    "```\n",
    "\n",
    "Si definisce di seguito la soluzione proposta.\n",
    "\n",
    "\n",
    "## Soluzione 1: creazione di vettori basati sul tf-idf\n",
    "\n",
    "Ogni bando di gara è caratterizzato da un campo *oggetto*. Quindi per ogni elemento *i* ∈ { PA ⋃  Fornitori }, dove PA (Fornitori) è l’insieme delle Pubbliche amministrazioni (Fornitori) presenti nel dataset Anac,  è possibile creare un documento sintetico d<sub>i</sub> ottenuto concatenando il testo di tutti gli oggetti delle gare appartenenti ad *i*.\n",
    "\n",
    "A partire da D = {d<sub>i</sub> | i ∈ { PA ⋃  Fornitori}} è possibile creare la matrice W ∈ R<sup>(n,m)</sup>, ottenuta calcolando il TF-IDF su D.\n",
    "\n",
    "In questo modo è possibile creare un grafo G_text(V, E) dove V = { PA ⋃ Fornitori } ed esiste un arco pesato e = {(u, v) ∈ E | p(e) = cos(w<sub>u</sub>, w<sub>v</sub>)}  solo e soltanto se cos(w<sub>u</sub>, w<sub>v</sub>) >= *threshold*.\n",
    "\n",
    "cos(w<sub>u</sub>, w<sub>v</sub>) ∈ [0,1], dove 0 implica che i documenti d<sub>u</sub>, d<sub>v</sub> sono completamente diversi, mentre 1 implica che i documenti hanno la stessa distribuzione di termini.\n",
    "\n",
    "\n",
    "**Note**\n",
    "\n",
    "- Dati i ∈ {PA} e j ∈ {Fornitori}, è possibile che se tutte le gare vinte da j riguardassero sempre i come struttura proponente (PA) e se tutte le gare di i siano vinte da j allora d<sub>i</sub> == d<sub>j</sub>, quindi cos(w<sub>i</sub>, w<sub>j</sub>) = 1.\n",
    "\n",
    "- E’ possibile aggiungere al grafo G<sub>text</sub> nuovi nodi come l’insieme delle provincie e regioni. In questo caso è possibile associare ad ogni provincia (regione) i un documento sintentico d_i ottenuto concatenando tutti gli oggetti delle PA che insistono su i.  \n",
    "\n",
    "- La matrice W non gestisce casi si sinonimia e polisemia (problema risolto con la soluziione successiva);\n",
    "\n",
    "## Soluzione 2: creazione di vettori basati su word embedding dei top term pesati per il loro tf-idf\n",
    "\n",
    "   Come nel precedente caso per ogni elemento i ∈ { PA ⋃  Fornitori }, dove PA (Fornitori) è l’insieme delle Pubbliche amministrazioni (Fornitori) presenti nel dataset Anac,  è possibile creare un documento sintetico d<sub>i</sub> ottenuto concatenando il testo di tutti gli oggetti delle gare appartenenti ad i. \n",
    "\n",
    "Sia *L* l’insieme delle top n ∈ N parole più frequenti (in termine di tf-idf)  e *D* = {d’<sub>i</sub> | i ∈ { PA ⋃  Fornitori } }, dove d’<sub>i</sub> = {(l, w) | l ∈ L e w = TF-IDF(l, d<sub>i</sub>)}. \n",
    "\n",
    "In questo modo per ogni i è possibile costruire un vettore v<sub>i</sub>  dato dalla somma pesata degli embedding dei termini l contenuti in d’<sub>i</sub>. \n",
    "Per esempio, sia  L = [“fattura”, “acquisto”, “fornitura”] l’insieme dei top 3 termini in D, e sia D ={d<sub>1</sub>, d<sub>2</sub>, d<sub>3</sub>}, dove:\n",
    "\n",
    "- d<sub>1</sub> = [(“acquisto”: w(1,acquisto)), (“fattura”: w(1,fattura))]  \n",
    "- d<sub>2</sub> = [(“fattura”: w(2,fattura)), (“fornitura”: w(2,fornitura))]  \n",
    "- d<sub>3</sub> = [(“acquisto”: w(3,acquisto)), (“fattura”: w(3,fattura)), (“fornitura”: w(3,fornitura))]\n",
    "\n",
    "Quindi è possibile per ogni d<sub>i</sub> calcolare una rappresentazione vettoriale cosi definita:\n",
    "\n",
    " \n",
    "embedding(d<sub>i</sub>) = $ \\frac{1}{\\sum_{wj∈di} wj} * \\sum_{(tj,wj)∈di}$ w<sub>j</sub> * embedding(t<sub>j</sub>)\n",
    "    \n",
    "    \n",
    " \n",
    "\n",
    "dove embedding(t<sub>j</sub>) è l’embedding del termine t<sub>j</sub> appreso su Wikipedia (vedi [qui](https://fasttext.cc/docs/en/support.html) per maggiori dettagli).\n",
    "\n",
    "In questo modo è possibile creare un grafo G<sub>text</sub>(V, E) dove V = { PA ⋃ Fornitori } ed esiste un arco pesato e = {(u, v) ∈ E | p(e) = cos(v<sub>du</sub>, v<sub>dv</sub>)}  solo e soltanto se cos(v<sub>du</sub>, v<sub>dv</sub>) >= threshold.\n",
    "\n",
    "\n",
    "\n",
    "## Soluzione 3: creazione di vettori basati su word embedding dei top term \n",
    "\n",
    "   Questa soluzione è molto simile alla precedente. Tuttavia in questa soluzione tutti i termini contribuiscono in ugual misura all'embedding del documento. \n",
    "   \n",
    "   In questo modo è possibile rappresentare d<sub>i</sub> come il centroide dei suoi termini:\n",
    "\n",
    " embedding(d<sub>i</sub>) = $ \\frac{1}{\\{tj | tj∈di\\}} * \\sum_{tj ∈ di}$ embedding(t<sub>j</sub>)\n",
    " \n",
    " \n",
    "## Future Works\n",
    "\n",
    "1. Al fine di discriminare maggiormente i documenti, si possono analizzare non sono parole di lunghezza 1, ma anche n-grammi (in questo modo documenti come {\"fattura luce\", \"fattura telefono\"} risultano meno simili )"
   ]
  },
  {
   "cell_type": "code",
   "execution_count": 1,
   "metadata": {},
   "outputs": [
    {
     "data": {
      "text/html": [
       "<script>requirejs.config({paths: { 'plotly': ['https://cdn.plot.ly/plotly-latest.min']},});if(!window.Plotly) {{require(['plotly'],function(plotly) {window.Plotly=plotly;});}}</script>"
      ],
      "text/vnd.plotly.v1+html": [
       "<script>requirejs.config({paths: { 'plotly': ['https://cdn.plot.ly/plotly-latest.min']},});if(!window.Plotly) {{require(['plotly'],function(plotly) {window.Plotly=plotly;});}}</script>"
      ]
     },
     "metadata": {},
     "output_type": "display_data"
    }
   ],
   "source": [
    "import warnings\n",
    "warnings.filterwarnings('ignore', category=DeprecationWarning, module='.*/IPython/.*')\n",
    "\n",
    "import pandas as pd\n",
    "import numpy  as np\n",
    "import csv\n",
    "import datetime\n",
    "from time import time\n",
    "import timeit\n",
    "\n",
    "#%matplotlib inline\n",
    "\n",
    "import plotly.offline as py\n",
    "import plotly.plotly as py_on\n",
    "import plotly.graph_objs as go\n",
    "from plotly import tools\n",
    "import plotly.figure_factory as ff\n",
    "py.init_notebook_mode(connected=True)\n",
    "\n",
    "from IPython.display import Image\n",
    "from IPython.display import display\n",
    "\n",
    "import matplotlib.pyplot as plt"
   ]
  },
  {
   "cell_type": "code",
   "execution_count": 2,
   "metadata": {},
   "outputs": [
    {
     "name": "stdout",
     "output_type": "stream",
     "text": [
      "Loading dataframe done in 16.432 sec\n",
      "<class 'pandas.core.frame.DataFrame'>\n",
      "RangeIndex: 1713154 entries, 0 to 1713153\n",
      "Data columns (total 25 columns):\n",
      "Unnamed: 0                           int64\n",
      "cfStrutturaProponente                int64\n",
      "cig                                  object\n",
      "denominazioneStrutturaProponente     object\n",
      "oggetto                              object\n",
      "sceltaContraente                     object\n",
      "importoAggiudicazione                float64\n",
      "importoSommeLiquidate                float64\n",
      "dataInizio                           object\n",
      "dataUltimazione                      object\n",
      "jsonPartecipanti                     object\n",
      "jsonAggiudicatari                    object\n",
      "totalePartecipanti                   int64\n",
      "totaleAggiudicatari                  int64\n",
      "totaleRaggruppamentopartecipanti     int64\n",
      "totaleRaggruppamentoAggiudicatari    int64\n",
      "cfPrimoaggiudicatario                object\n",
      "denominazionePrimoaggiudicatario     object\n",
      "cod_amm                              object\n",
      "regione                              object\n",
      "provincia                            object\n",
      "comune                               object\n",
      "indirizzo                            object\n",
      "tipologia_istat                      object\n",
      "tipologia_amm                        object\n",
      "dtypes: float64(2), int64(6), object(17)\n",
      "memory usage: 2.7 GB\n"
     ]
    }
   ],
   "source": [
    "t0 = time()\n",
    "file = \"data/anac/anac_indicepa_2017.tsv\"\n",
    "df = pd.read_csv(file, sep=\"\\t\")\n",
    "\n",
    "total = time() - t0\n",
    "    \n",
    "print(\"Loading dataframe done in %0.3f sec\" %  total)\n",
    "df.info(memory_usage='deep')"
   ]
  },
  {
   "cell_type": "markdown",
   "metadata": {},
   "source": [
    "## Creazione dei documenti sintetici d<sub>i</sub>\n",
    "\n",
    "In questa sezione, per ogni attributo in *columns_to_aggregate*, è calcolato il suo documento sintetico "
   ]
  },
  {
   "cell_type": "code",
   "execution_count": 3,
   "metadata": {},
   "outputs": [],
   "source": [
    "columns_to_aggregate = {(\"cfStrutturaProponente\",\"PA\"), (\"cfPrimoaggiudicatario\",\"AGG\")}"
   ]
  },
  {
   "cell_type": "code",
   "execution_count": 4,
   "metadata": {},
   "outputs": [],
   "source": [
    "def aggregateByOggetto(col_groupBy, col_toAgg, df):\n",
    "    \"\"\"\n",
    "    col_groupBy: è la colonna per la quale effettuare l'aggragazione\n",
    "    col_toAgg: è la colonna contenente le informazioni non strutturate, i.e. campo \"oggetto\"\n",
    "    df: input dataframe\n",
    "    \"\"\"\n",
    "    df_noEmpty = df.dropna(subset=[col_toAgg], axis=0)\n",
    "    new_series = df_noEmpty.groupby(col_groupBy)[col_toAgg].apply(lambda x: ' '.join(x)) \n",
    "    return pd.DataFrame(new_series)"
   ]
  },
  {
   "cell_type": "code",
   "execution_count": 5,
   "metadata": {},
   "outputs": [],
   "source": [
    "final_df = pd.DataFrame(columns=['codiceFiscaleStruttura', 'oggetto', \"tipoStruttura\"])"
   ]
  },
  {
   "cell_type": "code",
   "execution_count": 6,
   "metadata": {},
   "outputs": [
    {
     "name": "stdout",
     "output_type": "stream",
     "text": [
      "Aggregation of attribute cfPrimoaggiudicatario done in 13.856 sec\n",
      "0    matconsumo laboratorio matconsumo laboratorio ...\n",
      "1    servizio 22202 organizzazione incontri daffari...\n",
      "2    SENSORI NGIMU with Housing and Battery  NGIMU ...\n",
      "Name: oggetto, dtype: object\n",
      "Aggregation of attribute cfStrutturaProponente done in 1.570 sec\n",
      "0    MANUTENZIONE RECINZIONE E MESSA IN SICUREZZA C...\n",
      "1    MANUTENZIONE AUTOMEZZO RIFIUTI RIPARAZIONE MEZ...\n",
      "2    CORSO ANTINCENDIO NOMINA MEDICO E VISITE MEDIC...\n",
      "Name: oggetto, dtype: object\n"
     ]
    }
   ],
   "source": [
    "for col, type_col in columns_to_aggregate:\n",
    "    t0 = time()\n",
    "    \n",
    "    df_no_null = df[pd.notnull(df[col])]\n",
    "    aggregate_df = aggregateByOggetto(col, \"oggetto\", df_no_null) \n",
    "    total = time() - t0\n",
    "\n",
    "    aggregate_df['tipoStruttura'] = [type_col] * aggregate_df.shape[0]\n",
    "    aggregate_df.reset_index(inplace = True)\n",
    "    aggregate_df.rename(columns={col: 'codiceFiscaleStruttura'}, inplace = True)\n",
    "\n",
    "    final_df = final_df.append(aggregate_df)\n",
    "    \n",
    "    print(\"Aggregation of attribute %s done in %0.3f sec\" % (col, total))\n",
    "    print(aggregate_df[\"oggetto\"].head(3))\n"
   ]
  },
  {
   "cell_type": "code",
   "execution_count": 7,
   "metadata": {},
   "outputs": [
    {
     "data": {
      "text/html": [
       "<div>\n",
       "<style scoped>\n",
       "    .dataframe tbody tr th:only-of-type {\n",
       "        vertical-align: middle;\n",
       "    }\n",
       "\n",
       "    .dataframe tbody tr th {\n",
       "        vertical-align: top;\n",
       "    }\n",
       "\n",
       "    .dataframe thead th {\n",
       "        text-align: right;\n",
       "    }\n",
       "</style>\n",
       "<table border=\"1\" class=\"dataframe\">\n",
       "  <thead>\n",
       "    <tr style=\"text-align: right;\">\n",
       "      <th></th>\n",
       "      <th>codiceFiscaleStruttura</th>\n",
       "      <th>oggetto</th>\n",
       "      <th>tipoStruttura</th>\n",
       "    </tr>\n",
       "  </thead>\n",
       "  <tbody>\n",
       "    <tr>\n",
       "      <th>0</th>\n",
       "      <td></td>\n",
       "      <td>matconsumo laboratorio matconsumo laboratorio bandiera con il logo della brigata Granatieri di Sardegna comprensiva di cornice in legno fasce identificative e cordoncini  FP BAULE DA TRASPORTO cornice in legno bandiera con il logo dell Esercito Italiano Fornitura di prodotti disinfettanti per le strutture di ristorazione collettiva militare acquisto armadietti per la custodia di pistola fornitura resistenze per celle frigo prodotti per l igiene personale LUCCHETTI AD ARCO stoffa di colore bl...</td>\n",
       "      <td>AGG</td>\n",
       "    </tr>\n",
       "    <tr>\n",
       "      <th>1</th>\n",
       "      <td></td>\n",
       "      <td>servizio 22202 organizzazione incontri daffari limitato ai servizi personalizzati agiuntivi albergo visto suto con autista transfer e CIP  cosmoprof 47 dicembre 2017 ORDINE DACQUISTO Parandis per Prenotazione e riservazione albergo con visto per Sig Drusian di azienda Poliplast  SERVIZIO 22202 Organizzazione incontri daffari  Acquisto biglietti aerei TeheranIsfahanTeheran e prenotazione albergo a Isfahan per il vice responsabile ufficio ICE Teheran e TA incaricato in occasione fiera Isfahan ...</td>\n",
       "      <td>AGG</td>\n",
       "    </tr>\n",
       "    <tr>\n",
       "      <th>2</th>\n",
       "      <td></td>\n",
       "      <td>SENSORI NGIMU with Housing and Battery  NGIMU Body Strap  Quotation 13 June 2017 PROF A MONTERIU  DOTT A BELLI</td>\n",
       "      <td>AGG</td>\n",
       "    </tr>\n",
       "    <tr>\n",
       "      <th>3</th>\n",
       "      <td>1174219177</td>\n",
       "      <td>Servizio fotografico per PQ 2017</td>\n",
       "      <td>AGG</td>\n",
       "    </tr>\n",
       "    <tr>\n",
       "      <th>4</th>\n",
       "      <td>00000005792</td>\n",
       "      <td>SERVIZIO DI SVILUPPO ANNUALE DELLA CONTABILITA ARMONIZZATA ECONOMICO  PATRIMONIALE DI CUI AL D LGS 1182011  TRIENNIO 2016 2018</td>\n",
       "      <td>AGG</td>\n",
       "    </tr>\n",
       "  </tbody>\n",
       "</table>\n",
       "</div>"
      ],
      "text/plain": [
       "         codiceFiscaleStruttura  \\\n",
       "0                                 \n",
       "1                                 \n",
       "2                                 \n",
       "3                    1174219177   \n",
       "4      00000005792                \n",
       "\n",
       "                                                                                                                                                                                                                                                                                                                                                                                                                                                                                                               oggetto  \\\n",
       "0  matconsumo laboratorio matconsumo laboratorio bandiera con il logo della brigata Granatieri di Sardegna comprensiva di cornice in legno fasce identificative e cordoncini  FP BAULE DA TRASPORTO cornice in legno bandiera con il logo dell Esercito Italiano Fornitura di prodotti disinfettanti per le strutture di ristorazione collettiva militare acquisto armadietti per la custodia di pistola fornitura resistenze per celle frigo prodotti per l igiene personale LUCCHETTI AD ARCO stoffa di colore bl...   \n",
       "1  servizio 22202 organizzazione incontri daffari limitato ai servizi personalizzati agiuntivi albergo visto suto con autista transfer e CIP  cosmoprof 47 dicembre 2017 ORDINE DACQUISTO Parandis per Prenotazione e riservazione albergo con visto per Sig Drusian di azienda Poliplast  SERVIZIO 22202 Organizzazione incontri daffari  Acquisto biglietti aerei TeheranIsfahanTeheran e prenotazione albergo a Isfahan per il vice responsabile ufficio ICE Teheran e TA incaricato in occasione fiera Isfahan ...   \n",
       "2                                                                                                                                                                                                                                                                                                                                                                                                       SENSORI NGIMU with Housing and Battery  NGIMU Body Strap  Quotation 13 June 2017 PROF A MONTERIU  DOTT A BELLI   \n",
       "3                                                                                                                                                                                                                                                                                                                                                                                                                                                                                     Servizio fotografico per PQ 2017   \n",
       "4                                                                                                                                                                                                                                                                                                                                                                                       SERVIZIO DI SVILUPPO ANNUALE DELLA CONTABILITA ARMONIZZATA ECONOMICO  PATRIMONIALE DI CUI AL D LGS 1182011  TRIENNIO 2016 2018   \n",
       "\n",
       "  tipoStruttura  \n",
       "0           AGG  \n",
       "1           AGG  \n",
       "2           AGG  \n",
       "3           AGG  \n",
       "4           AGG  "
      ]
     },
     "execution_count": 7,
     "metadata": {},
     "output_type": "execute_result"
    }
   ],
   "source": [
    "pd.options.display.max_colwidth = 500\n",
    "final_df.head()"
   ]
  },
  {
   "cell_type": "code",
   "execution_count": 8,
   "metadata": {
    "scrolled": true
   },
   "outputs": [
    {
     "name": "stdout",
     "output_type": "stream",
     "text": [
      "Dataset stored in 0.812 sec\n"
     ]
    }
   ],
   "source": [
    "t0 = time()\n",
    "file_name = \"data/oggetti_aggregati.pickle\"\n",
    "final_df.to_pickle(file_name)\n",
    "total = time() - t0\n",
    "\n",
    "print(\"Dataset stored in %0.3f sec\" % total)"
   ]
  },
  {
   "cell_type": "code",
   "execution_count": 9,
   "metadata": {},
   "outputs": [
    {
     "name": "stdout",
     "output_type": "stream",
     "text": [
      "Once deleted, variables cannot be recovered. Proceed (y/[n])? y\n"
     ]
    }
   ],
   "source": [
    "## libera memoria\n",
    "#una volta lanciato questo comando verranno perse tutte le variabili inizializzate in precedenza\n",
    "#del [[df, final_df, aggregate_df]]\n",
    "%reset"
   ]
  },
  {
   "cell_type": "markdown",
   "metadata": {},
   "source": [
    "## Creazione Matrice TF-IDF\n",
    "\n",
    "La matrice dei tf-idf verrà utilizzata per entrambe le soluzioni. Prima di generare la matrice, sono eseguite le seguenti attività di preprocessing:\n",
    "- Tokenization;\n",
    "- Eliminazione di stopword (e.g. di, a, dell, quell, etc. );\n",
    "- Selezione di parole composte solo da lettere e di cardinalità maggiore di 2 (e.g. eliminazione di codici di fattura)\n",
    "\n",
    "Alla matrice dei tf-idf generata è applicala la norma L2.\n",
    "\n",
    "\n",
    "Inoltre si visualizzano di seguito le top 40 parole in termini di tf-idf.\n",
    "\n"
   ]
  },
  {
   "cell_type": "code",
   "execution_count": 59,
   "metadata": {},
   "outputs": [
    {
     "data": {
      "text/html": [
       "<script>requirejs.config({paths: { 'plotly': ['https://cdn.plot.ly/plotly-latest.min']},});if(!window.Plotly) {{require(['plotly'],function(plotly) {window.Plotly=plotly;});}}</script>"
      ],
      "text/vnd.plotly.v1+html": [
       "<script>requirejs.config({paths: { 'plotly': ['https://cdn.plot.ly/plotly-latest.min']},});if(!window.Plotly) {{require(['plotly'],function(plotly) {window.Plotly=plotly;});}}</script>"
      ]
     },
     "metadata": {},
     "output_type": "display_data"
    }
   ],
   "source": [
    "import warnings\n",
    "warnings.filterwarnings('ignore', category=DeprecationWarning, module='.*/IPython/.*')\n",
    "\n",
    "import pandas as pd\n",
    "import numpy  as np\n",
    "import csv\n",
    "import datetime\n",
    "from time import time\n",
    "\n",
    "#%matplotlib inline\n",
    "\n",
    "import plotly.offline as py\n",
    "import plotly.plotly as py_on\n",
    "import plotly.graph_objs as go\n",
    "from plotly import tools\n",
    "import plotly.figure_factory as ff\n",
    "py.init_notebook_mode(connected=True)\n",
    "\n",
    "from IPython.display import Image\n",
    "from IPython.display import display\n",
    "\n",
    "import matplotlib.pyplot as plt"
   ]
  },
  {
   "cell_type": "code",
   "execution_count": 60,
   "metadata": {},
   "outputs": [],
   "source": [
    "from nltk.stem.snowball import ItalianStemmer\n",
    "from sklearn.feature_extraction.text import TfidfVectorizer\n",
    "from scipy.sparse.csr import csr_matrix #need this if you want to save tfidf_matrix\n",
    "import nltk\n",
    "#nltk.download('stopwords')\n",
    "from nltk.corpus import stopwords\n",
    "from pylab import *\n",
    "\n",
    "class StemmedCountVectorizer(TfidfVectorizer):\n",
    "    \n",
    "    def build_analyzer(self):\n",
    "        analyzer = super(StemmedCountVectorizer, self).build_analyzer()\n",
    "        return lambda doc: ([italian_stemmer.stem(w) for w in analyzer(doc)])\n",
    "        \n",
    "def get_TFIDFmatrix_vect(data, do_stemming):\n",
    "    \"\"\"\n",
    "    data: input textual collection\n",
    "    do_stemming: boolean. If True execute stemming, otherwise analyze only tokenized words (words are composed at least 2 chars and do not contains numbers)\n",
    "    \n",
    "    returns a tuple <tf, matrix> where tf is the vectorizer and matrix is the normalized matrix of tfidf\n",
    "    \"\"\"\n",
    "    t0 = time()\n",
    "    \n",
    "    min_df = 10\n",
    "    \n",
    "    if do_stemming:\n",
    "        \n",
    "        italian_stemmer = ItalianStemmer()\n",
    "        tf = StemmedCountVectorizer(token_pattern=u'([a-z]{2,})', min_df = min_df, analyzer=\"word\", stop_words=stopwords.words('italian'),  norm='l2')\n",
    "\n",
    "    else:\n",
    "        tf = TfidfVectorizer(token_pattern=u'([a-z]{2,})', stop_words=stopwords.words('italian'), min_df = min_df, norm='l2') #CountVectorizer supports counts of N-grams of words or consecutive characters.\n",
    "    \n",
    "    matrix = tf.fit_transform(data)  \n",
    "    return matrix, tf\n",
    "\n",
    "def plotTopNWords(sorted_frequents_words, N, title):\n",
    "    \"\"\"frequents_words: list of frequents words. Type: tuple(str, numpy.int64)\n",
    "       N: number of words to plot \n",
    "    \"\"\"\n",
    "    #most_frequents_words = sorted(sorted_frequents_words, key = lambda x: x[1], reverse=True)\n",
    "    x, y = zip(*sorted_frequents_words[0:N]) # unpack a list of pairs into two tuples\n",
    "\n",
    "    fig = plt.figure()\n",
    "    ax1 = fig.add_subplot(111)  # Create matplotlib axes\n",
    "    ax1.set_title(title)\n",
    "    ax1.plot(x, y)\n",
    "\n",
    "    for tl in ax1.get_xticklabels():\n",
    "        tl.set_rotation(90)\n",
    "\n",
    "    file_name = 'imgs/top'+str(N)+'_words_plot.png'  \n",
    "    fig.tight_layout() \n",
    "    plt.savefig(file_name, pad = 0) #png\n",
    "\n",
    "    plt.clf\n",
    "    return file_name\n",
    "\n",
    "def boxplotdata(data_to_plot, title, x_names, filename):\n",
    "    \"\"\"\n",
    "    data_to_plot: array containing variables to plot (e.g. [a,b,c] where a,b,c are arrays)\n",
    "    title of the boxplot\n",
    "    x_names: list containing axis names (e.g. [\"boxplot1\", \"boxplot2\"])\n",
    "    filename: filename where saving the boxplot\n",
    "    \"\"\"\n",
    "    #data_to_plot = [intersection]\n",
    "    #k = len(D_embeddings[0])\n",
    "\n",
    "    dim = range(1,len(x_names) +1)\n",
    "    \n",
    "    \n",
    "    # Create a figure instance\n",
    "    fig = plt.figure(1, figsize=(9, 6))\n",
    "\n",
    "    # Create an axes instance\n",
    "    ax = fig.add_subplot(111)\n",
    "\n",
    "    # Create the boxplot\n",
    "    bp = ax.boxplot(data_to_plot)\n",
    "    plt.xticks(dim, x_names)\n",
    "    plt.title(title)\n",
    "\n",
    "\n",
    "    for line in bp['medians']:\n",
    "        # get position data for median line\n",
    "        x, y = line.get_xydata()[1] # top of median line\n",
    "        # overlay median value\n",
    "        text(x + 0.05, y, '%.2f' % y, horizontalalignment='center') # draw above, centered\n",
    "\n",
    "    for line in bp['boxes']:\n",
    "        x, y = line.get_xydata()[0] # bottom of left line\n",
    "        text(x - 0.05,y, '%.2f' % y, horizontalalignment='center', verticalalignment='top')      # below\n",
    "        x, y = line.get_xydata()[3] # bottom of right line\n",
    "        text(x - 0.05,y, '%.2f' % y, horizontalalignment='center', verticalalignment='top')      # below\n",
    "\n",
    "    plt.savefig(filename)\n",
    "    plt.clf()\n",
    "    plt.close()"
   ]
  },
  {
   "cell_type": "code",
   "execution_count": 61,
   "metadata": {},
   "outputs": [
    {
     "name": "stdout",
     "output_type": "stream",
     "text": [
      "Dataset loaded in 0.243 sec\n"
     ]
    }
   ],
   "source": [
    "from time import time\n",
    "df_file_name = \"data/oggetti_aggregati.pickle\"\n",
    "\n",
    "t0 = time()\n",
    "df = pd.read_pickle(df_file_name)\n",
    "total = time() - t0\n",
    "\n",
    "print(\"Dataset loaded in %0.3f sec\" % total)"
   ]
  },
  {
   "cell_type": "code",
   "execution_count": 62,
   "metadata": {},
   "outputs": [
    {
     "name": "stdout",
     "output_type": "stream",
     "text": [
      "<class 'pandas.core.frame.DataFrame'>\n",
      "Int64Index: 307265 entries, 0 to 10965\n",
      "Data columns (total 3 columns):\n",
      "codiceFiscaleStruttura    307265 non-null object\n",
      "oggetto                   307265 non-null object\n",
      "tipoStruttura             307265 non-null object\n",
      "dtypes: object(3)\n",
      "memory usage: 9.4+ MB\n"
     ]
    }
   ],
   "source": [
    "df.info()"
   ]
  },
  {
   "cell_type": "code",
   "execution_count": 63,
   "metadata": {},
   "outputs": [
    {
     "name": "stdout",
     "output_type": "stream",
     "text": [
      "TFIDF matrix done in 18.045 sec\n",
      "Shape TFIDF matrix (307265, 52004)\n"
     ]
    }
   ],
   "source": [
    "t0 = time()\n",
    "\n",
    "matrix, tf = get_TFIDFmatrix_vect(df.oggetto, False)\n",
    "total = time() - t0\n",
    "print(\"TFIDF matrix done in %0.3f sec\" % total)\n",
    "print(\"Shape TFIDF matrix\", matrix.shape)"
   ]
  },
  {
   "cell_type": "code",
   "execution_count": 64,
   "metadata": {},
   "outputs": [],
   "source": [
    "#import cPickle as pickle\n",
    "import pickle\n",
    "pickle.dump(tf, open(\"data/n6/tf.pickle\", \"wb\"))"
   ]
  },
  {
   "cell_type": "code",
   "execution_count": 65,
   "metadata": {},
   "outputs": [],
   "source": [
    "import scipy\n",
    "scipy.sparse.save_npz('data/n6/sparse_matrix_tfidf.npz', matrix)"
   ]
  },
  {
   "cell_type": "markdown",
   "metadata": {},
   "source": [
    "### Plot termini più discriminativi e distribuzione di termini per documento\n",
    "\n",
    "Si può osservare come è poissibile identificare una decina di termini molto discriminativi (.e. fattura, fornitura, acquisto, pagamento, etc.). Inoltre, si nota che i documenti sintetici generati hanno, nella maggioranza dei casi, un numero di parole distinte compreso tra 6 e 21."
   ]
  },
  {
   "cell_type": "code",
   "execution_count": 21,
   "metadata": {},
   "outputs": [
    {
     "data": {
      "image/png": "[encoded data removed]",
      "text/plain": [
       "<Figure size 432x288 with 1 Axes>"
      ]
     },
     "metadata": {},
     "output_type": "display_data"
    }
   ],
   "source": [
    "top_terms = 40\n",
    "\n",
    "#Tf-Idf distribution\n",
    "scores = zip(tf.get_feature_names(), np.asarray(matrix.sum(axis=0)).ravel())\n",
    "sorted_scores = sorted(scores, key=lambda x: x[1], reverse=True)\n",
    "file_name = plotTopNWords(sorted_scores, top_terms,  \"Word Distribution based on TF-IDF\")"
   ]
  },
  {
   "cell_type": "code",
   "execution_count": 22,
   "metadata": {},
   "outputs": [],
   "source": [
    "rows = (matrix != 0).sum(1)\n",
    "values = np.squeeze(np.asarray(rows))"
   ]
  },
  {
   "cell_type": "code",
   "execution_count": 23,
   "metadata": {},
   "outputs": [
    {
     "data": {
      "image/png": "[encoded data removed]",
      "text/plain": [
       "<IPython.core.display.Image object>"
      ]
     },
     "metadata": {},
     "output_type": "display_data"
    }
   ],
   "source": [
    "# Create a figure instance\n",
    "fig = plt.figure(1, figsize=(9, 6))\n",
    "\n",
    "# Create an axes instance\n",
    "ax = fig.add_subplot(111)\n",
    "\n",
    "# Create the boxplot\n",
    "bp = ax.boxplot(values)\n",
    "plt.xticks([1], [\"number of terms per document\"])\n",
    "plt.title(\"Terms Distribution\")\n",
    "\n",
    "\n",
    "for line in bp['medians']:\n",
    "    # get position data for median line\n",
    "    x, y = line.get_xydata()[1] # top of median line\n",
    "    # overlay median value\n",
    "    text(x + 0.05, y, '%.2f' % y, horizontalalignment='center') # draw above, centered\n",
    "\n",
    "for line in bp['boxes']:\n",
    "    x, y = line.get_xydata()[0] # bottom of left line\n",
    "    text(x,y , '%.2f' % y, horizontalalignment='center', verticalalignment='top')      # below\n",
    "    x, y = line.get_xydata()[3] # bottom of right line\n",
    "    text(x, y*50, '%.2f' % y, horizontalalignment='center', verticalalignment='top')      # below\n",
    "\n",
    "f_img = \"imgs/n6/term_distribution.png\"    \n",
    "plt.savefig(f_img)\n",
    "plt.clf()\n",
    "plt.close()\n",
    "\n",
    "\n",
    "i = Image(f_img)\n",
    "display(i)"
   ]
  },
  {
   "cell_type": "code",
   "execution_count": 24,
   "metadata": {},
   "outputs": [],
   "source": [
    "#genera lo stesso plot in plotly\n",
    "#rows = (matrix != 0).sum(1)\n",
    "#values = pd.value_counts(np.squeeze(np.asarray(rows)))\n",
    "\n",
    "#trace = go.Box(y=np.squeeze(np.asarray(rows)))\n",
    "#py.iplot([trace])    "
   ]
  },
  {
   "cell_type": "code",
   "execution_count": 25,
   "metadata": {},
   "outputs": [
    {
     "data": {
      "text/html": [
       "<div>\n",
       "<style scoped>\n",
       "    .dataframe tbody tr th:only-of-type {\n",
       "        vertical-align: middle;\n",
       "    }\n",
       "\n",
       "    .dataframe tbody tr th {\n",
       "        vertical-align: top;\n",
       "    }\n",
       "\n",
       "    .dataframe thead th {\n",
       "        text-align: right;\n",
       "    }\n",
       "</style>\n",
       "<table border=\"1\" class=\"dataframe\">\n",
       "  <thead>\n",
       "    <tr style=\"text-align: right;\">\n",
       "      <th></th>\n",
       "      <th>codiceFiscaleStruttura</th>\n",
       "      <th>oggetto</th>\n",
       "      <th>tipoStruttura</th>\n",
       "    </tr>\n",
       "  </thead>\n",
       "  <tbody>\n",
       "    <tr>\n",
       "      <th>230</th>\n",
       "      <td>000007199</td>\n",
       "      <td>665  ANJEZE PELINI</td>\n",
       "      <td>AGG</td>\n",
       "    </tr>\n",
       "    <tr>\n",
       "      <th>405</th>\n",
       "      <td>00013750203</td>\n",
       "      <td>PROORTGEMELLI103354</td>\n",
       "      <td>AGG</td>\n",
       "    </tr>\n",
       "    <tr>\n",
       "      <th>1591</th>\n",
       "      <td>00077910289</td>\n",
       "      <td>CONFAGRICOLTURA</td>\n",
       "      <td>AGG</td>\n",
       "    </tr>\n",
       "    <tr>\n",
       "      <th>2409</th>\n",
       "      <td>00103590220</td>\n",
       "      <td>CDATAOlive   CDATAOlive   CDATAOlive</td>\n",
       "      <td>AGG</td>\n",
       "    </tr>\n",
       "    <tr>\n",
       "      <th>5090</th>\n",
       "      <td>00167710359</td>\n",
       "      <td>Z601E221B6</td>\n",
       "      <td>AGG</td>\n",
       "    </tr>\n",
       "  </tbody>\n",
       "</table>\n",
       "</div>"
      ],
      "text/plain": [
       "     codiceFiscaleStruttura                                 oggetto  \\\n",
       "230               000007199                      665  ANJEZE PELINI   \n",
       "405             00013750203                     PROORTGEMELLI103354   \n",
       "1591            00077910289                         CONFAGRICOLTURA   \n",
       "2409            00103590220   CDATAOlive   CDATAOlive   CDATAOlive    \n",
       "5090            00167710359                              Z601E221B6   \n",
       "\n",
       "     tipoStruttura  \n",
       "230            AGG  \n",
       "405            AGG  \n",
       "1591           AGG  \n",
       "2409           AGG  \n",
       "5090           AGG  "
      ]
     },
     "execution_count": 25,
     "metadata": {},
     "output_type": "execute_result"
    }
   ],
   "source": [
    "#seleziona i 269 oggetti aventi una rappresentazione tfidf composta da soli zero\n",
    "states = matrix.getnnz(1)== 0\n",
    "row_indices = np.where(states)[0]\n",
    "df.iloc[row_indices].head()"
   ]
  },
  {
   "cell_type": "markdown",
   "metadata": {},
   "source": [
    "## Implementazione Soluzione 1\n",
    "\n",
    "In questa sezione verranno caricati i documenti sintetici salvati in *data/oggetti_aggregati.pickle* e a partire da questi è generata la matrice tf-idf.\n",
    "Alla matrice sono poi applicate tecniche di dimensionality reduction (i.e. SVD) e standardization. "
   ]
  },
  {
   "cell_type": "markdown",
   "metadata": {},
   "source": [
    "### Dimensionality reduction"
   ]
  },
  {
   "cell_type": "code",
   "execution_count": 26,
   "metadata": {},
   "outputs": [
    {
     "name": "stdout",
     "output_type": "stream",
     "text": [
      "Preprocessing done in done in 25.709 sec\n"
     ]
    }
   ],
   "source": [
    "from sklearn.decomposition import TruncatedSVD\n",
    "from sklearn.pipeline import make_pipeline\n",
    "from sklearn.preprocessing import Normalizer\n",
    "from sklearn.cluster import DBSCAN\n",
    "t0 = time()\n",
    "svd = TruncatedSVD(100)\n",
    "normalizer = Normalizer(copy=False)\n",
    "preprocessing = make_pipeline(svd, normalizer).fit_transform(matrix)\n",
    "total = time() - t0\n",
    "print(\"Preprocessing done in done in %0.3f sec\" % total)\n",
    "\n",
    "np.save(\"data/n6/matrix_tfidf\", preprocessing)"
   ]
  },
  {
   "cell_type": "code",
   "execution_count": 27,
   "metadata": {},
   "outputs": [
    {
     "name": "stdout",
     "output_type": "stream",
     "text": [
      "Once deleted, variables cannot be recovered. Proceed (y/[n])? y\n"
     ]
    }
   ],
   "source": [
    "%reset"
   ]
  },
  {
   "cell_type": "markdown",
   "metadata": {},
   "source": [
    "# Implementazione Soluzione 2\n",
    "\n",
    "In questa sezione verranno caricati i documenti sintetici salvati in *data/oggetti_aggregati.pickle* e per ogni elemento verrà generata una rappresentazione vettoriale basata su *FastText*. Come per l'implementazione della soluzione 1 verranno analizzati solo i top k termini piu frequenti (rispetto al tf-idf)\n",
    "\n",
    "**NOTA BENE**\n",
    "\n",
    "Per k = 1000, la generazione della matrice degli embedding (i.e. embedding_matrix) richiede qualche minuto; mentre per k = 44323 (ossia matrice termini documenti generata impostando min_df=10. Per maggiori dettagli, vedi  l'implementazione del metodo *get_TFIDFmatrix_vect* ) la generazione della matrice degli embedding richiede 3 giorni."
   ]
  },
  {
   "cell_type": "code",
   "execution_count": null,
   "metadata": {},
   "outputs": [],
   "source": [
    "from time import time\n",
    "import pandas as pd\n",
    "import numpy  as np\n",
    "import math\n",
    "\n",
    "import plotly.offline as py\n",
    "import plotly.plotly as py_on\n",
    "import plotly.graph_objs as go\n",
    "from plotly import tools\n",
    "import plotly.figure_factory as ff\n",
    "py.init_notebook_mode(connected=True)\n",
    "\n",
    "from IPython.display import Image\n",
    "from IPython.display import display\n",
    "\n",
    "import matplotlib.pyplot as plt"
   ]
  },
  {
   "cell_type": "code",
   "execution_count": null,
   "metadata": {},
   "outputs": [],
   "source": [
    "def calculate_embedding(tf, tfidf_matrix, n_rows, weigth_embedding = False) :\n",
    "    \"\"\"\n",
    "    tf: Tf-idf vectorizer\n",
    "    tfidf_matrix: matrix of tfidf\n",
    "    n_row: number of rows to analize\n",
    "    weigth_terms: Boolean. If true weigth the term embedding with its tfidf\n",
    "    \"\"\"\n",
    "    \n",
    "    embedded_matrix = np.zeros((n_rows,300), \"float32\")\n",
    "    index_term_vocabulary = tf.get_feature_names()\n",
    "\n",
    "    for i in range(0, n_rows):\n",
    "\n",
    "        counter_d = 0\n",
    "\n",
    "        #for term in the document:\n",
    "        for index_t in tfidf_matrix[i].indices: \n",
    "            \n",
    "            tfidf = tfidf_matrix[i,index_t]\n",
    "            term = index_term_vocabulary[index_t]\n",
    "            \n",
    "            if term in jp_model.vocab:\n",
    "                    \n",
    "                    if(weigth_embedding):\n",
    "                        counter_d += tfidf\n",
    "                        embedded_matrix[i] += (jp_model.get_vector(term) * tfidf)\n",
    "                    else:\n",
    "                        counter_d += 1\n",
    "                        embedded_matrix[i] += jp_model.get_vector(term)\n",
    "                        \n",
    "                    \n",
    "        if counter_d > 0:\n",
    "\n",
    "            embedded_matrix[i] /= counter_d\n",
    "    \n",
    "    return embedded_matrix"
   ]
  },
  {
   "cell_type": "code",
   "execution_count": null,
   "metadata": {},
   "outputs": [],
   "source": [
    "file_name = \"data/oggetti_aggregati.pickle\"\n",
    "\n",
    "t0 = time()\n",
    "df = pd.read_pickle(file_name)\n",
    "total = time() - t0\n",
    "\n",
    "print(\"Dataset loaded in %0.3f sec\" % total)"
   ]
  },
  {
   "cell_type": "code",
   "execution_count": null,
   "metadata": {
    "scrolled": true
   },
   "outputs": [],
   "source": [
    "from gensim.models import KeyedVectors\n",
    "t0 = time()\n",
    "jp_model = KeyedVectors.load_word2vec_format('data/fasttext/cc.it.300.vec.gz')\n",
    "\n",
    "total = time() - t0\n",
    "print(\"Fastext model loaded in %0.3f sec\" % total)"
   ]
  },
  {
   "cell_type": "markdown",
   "metadata": {},
   "source": [
    "#### Calcola intersezione tra i termini della matrice tf-idf e il vocabolario del modello fasttext"
   ]
  },
  {
   "cell_type": "code",
   "execution_count": null,
   "metadata": {},
   "outputs": [],
   "source": [
    "not_present = []\n",
    "\n",
    "t0 = time()\n",
    "for term in tf.vocabulary_:\n",
    "    if term not in jp_model.vocab:\n",
    "            not_present.append(term)\n",
    "total = time() - t0\n",
    "print(\"Intersection done in %0.3f sec\" % total)        \n",
    "\n",
    "len_not_present = len(not_present) \n",
    "percentage = len_not_present / len(tf.vocabulary_) \n",
    "print(\"Percentage of absent terms: %0.2f (i.e. %d terms)\" % (percentage, len_not_present)) \n",
    "print(\"Printing some term not present in Fastext model: \",not_present[:10])"
   ]
  },
  {
   "cell_type": "code",
   "execution_count": null,
   "metadata": {},
   "outputs": [],
   "source": [
    "t0 = time()\n",
    "weighted = False\n",
    "embedded_matrix = calculate_embedding(tf, matrix, matrix.shape[0], weighted)\n",
    "\n",
    "total = time() - t0 \n",
    "print(\"Embedding done in %0.3f sec\" % total)"
   ]
  },
  {
   "cell_type": "code",
   "execution_count": null,
   "metadata": {},
   "outputs": [],
   "source": [
    "t = len(tf.vocabulary_)\n",
    "f = \"data/n6/matrix_embedding_\" + str(t) + \"terms_weigthed\" + str(weighted) \n",
    "np.save(f, embedded_matrix)"
   ]
  },
  {
   "cell_type": "code",
   "execution_count": null,
   "metadata": {
    "scrolled": true
   },
   "outputs": [],
   "source": [
    "from sklearn.preprocessing import Normalizer\n",
    "normalized_matrix = Normalizer(copy=False).fit_transform(embedded_matrix)\n",
    "f = \"data/n6/normalized_matrix_embedding_\" + str(t) + \"terms_weigthed\" + str(weighted) \n",
    "np.save(f, normalized_matrix)"
   ]
  },
  {
   "cell_type": "code",
   "execution_count": null,
   "metadata": {},
   "outputs": [],
   "source": [
    "%reset"
   ]
  },
  {
   "cell_type": "markdown",
   "metadata": {},
   "source": [
    "## Costruzione del Grafo\n",
    "\n",
    "A partire dalla matrice dei documenti sintetici calcolata nelle precedenti sezioni (tf-idf matrix o embedding matrix, entrambe normalizzate con L2) è possibile generate il  grafo G<sub>text</sub>(V, E) dove V = { PA ⋃ Fornitori } ed esiste un arco pesato e = {(u, v) ∈ E | p(e) = cos(v<sub>du</sub>, v<sub>dv</sub>)}  solo e soltanto se cos(v<sub>du</sub>, v<sub>dv</sub>) >= *t*.\n",
    "\n",
    "Impostiamo la threshold *t* = 0.6 \n",
    "\n",
    "### Generazione Matrice similarità"
   ]
  },
  {
   "cell_type": "code",
   "execution_count": null,
   "metadata": {},
   "outputs": [],
   "source": [
    "import pandas as pd\n",
    "import numpy  as np\n",
    "import csv\n",
    "import datetime\n",
    "from time import time\n",
    "import timeit\n",
    "\n",
    "#%matplotlib inline\n",
    "\n",
    "import plotly.offline as py\n",
    "import plotly.plotly as py_on\n",
    "import plotly.graph_objs as go\n",
    "from plotly import tools\n",
    "import plotly.figure_factory as ff\n",
    "py.init_notebook_mode(connected=True)\n",
    "\n",
    "from IPython.display import Image\n",
    "from IPython.display import display\n",
    "\n",
    "import matplotlib.pyplot as plt"
   ]
  },
  {
   "cell_type": "code",
   "execution_count": null,
   "metadata": {},
   "outputs": [],
   "source": [
    "#file_name = \"data/n6/normalized_matrix_embedding_44323terms_weigthedFalse.npy\"\n",
    "file_name = \"data/n6/normalized_matrix_embedding_44323terms_weigthedTrue.npy\"\n",
    "#file_name = \"data/n6/matrix_tfidf.npy\"\n",
    "\n",
    "matrix = np.load(file_name).astype('float32')"
   ]
  },
  {
   "cell_type": "code",
   "execution_count": null,
   "metadata": {},
   "outputs": [],
   "source": [
    "#check how many rows are all zero (it generates divisions by zero)\n",
    "zero_rows = len(np.where(~matrix.any(axis=1))[0])\n",
    "print(\"there are %d all zero rows\" % zero_rows)"
   ]
  },
  {
   "cell_type": "code",
   "execution_count": null,
   "metadata": {},
   "outputs": [],
   "source": [
    "#seleziona gli oggetti aventi una rappresentazione basata su embedding composta da soli zero\n",
    "df_file_name = \"data/oggetti_aggregati.pickle\"\n",
    "t0 = time()\n",
    "df = pd.read_pickle(df_file_name)\n",
    "total = time() - t0\n",
    "\n",
    "print(\"Dataset loaded in %0.3f sec\" % total)\n",
    "df.iloc[np.where(~matrix.any(axis=1))[0]].head()"
   ]
  },
  {
   "cell_type": "code",
   "execution_count": null,
   "metadata": {},
   "outputs": [],
   "source": [
    "# NOTE: for cosine similarity you should normalize (in L2 norm) your input matrix\n",
    "import faiss                   # make faiss available\n",
    "index = faiss.IndexFlatIP(matrix.shape[1])   # build the index using inner product (ip)\n",
    "print(index.is_trained)\n",
    "index.add(matrix)                  # add vectors to the index\n",
    "print(index.ntotal)"
   ]
  },
  {
   "cell_type": "code",
   "execution_count": null,
   "metadata": {},
   "outputs": [],
   "source": [
    "from time import time\n",
    "\n",
    "t0 = time()\n",
    "k = 1000  # we want to see k nearest neighbors\n",
    "#Matrix I is the results matrix\n",
    "#Matrix D is the matrix of squared distances. It has the same shape as I and indicates for each result vector at the query’s squared Euclidean distance.\n",
    "#\n",
    "D, I = index.search(matrix, k) # sanity check\n",
    "\n",
    "total = time() - t0\n",
    "print(\"Cosine Similarity Matrix done in %0.3f sec\" % total)\n",
    "#print(I)\n",
    "#print(D)\n"
   ]
  },
  {
   "cell_type": "code",
   "execution_count": null,
   "metadata": {},
   "outputs": [],
   "source": [
    "np.save(file_name + \"similarity_D_\" + str(k) + \"_k\", D)\n",
    "np.save(file_name + \"similarity_I_\" + str(k) + \"_k\", I)"
   ]
  },
  {
   "cell_type": "code",
   "execution_count": null,
   "metadata": {},
   "outputs": [],
   "source": [
    "%reset"
   ]
  },
  {
   "cell_type": "markdown",
   "metadata": {},
   "source": [
    "### Confronto Matrici \n",
    "\n",
    "La matrice generata dai tf-idf (i.e. Soluzione 1) sfrutta correlazioni dirette tra termini. Ossia due documenti sono simili se condividono gli stessi termini. Le matrici generate a partire dagli embedding dei termini (i.e. Soluzione 2, Soluzione 3) invece codificano correlazioni indirette tra termini. In quest'ultimo caso, due documenti sono simili se condividono termini semanticamente simili (e.g. raccolta, rifiuti, smaltimento).  \n",
    "\n",
    "Per verificare se le rappresentazioni estratte per ogni documento codificano le stesse informazioni, si analizza l'intersezione dei k documenti più simili sfruttando le 3 matrici generate:\n",
    "- Matrice tf-idf\n",
    "- Matrice embedding\n",
    "- Matrice embedding pesata con tf-idf\n",
    "\n",
    "Per ogni coppia di matrici m1,m2, se queste codificano le stesse informazioni, allora per ogni documento d_i:\n",
    "\n",
    "  \n",
    "intersection(get_most_similar(m1, i, k), get_most_similar(m2, i, k))  ~= k,\n",
    "\n",
    "dove *get_most_similar(mj, i, k)* restituisce i k documenti più simili al documento di indice i utilizzando la matrice mj. \n",
    "\n"
   ]
  },
  {
   "cell_type": "code",
   "execution_count": 28,
   "metadata": {},
   "outputs": [],
   "source": [
    "import pandas as pd\n",
    "import numpy  as np\n",
    "import csv\n",
    "import datetime\n",
    "from time import time\n",
    "import timeit\n",
    "\n",
    "#%matplotlib inline\n",
    "\n",
    "from IPython.display import Image\n",
    "from IPython.display import display\n",
    "\n",
    "import matplotlib.pyplot as plt"
   ]
  },
  {
   "cell_type": "code",
   "execution_count": 29,
   "metadata": {},
   "outputs": [],
   "source": [
    "from pylab import *\n",
    "\n",
    "def bar_plot(values, title, filename):\n",
    "\n",
    "    # Turn interactive plotting off\n",
    "    plt.ioff()\n",
    "\n",
    "    p1 = plt.bar(values.index, values.values)\n",
    "\n",
    "    plt.xlabel('# common documents')\n",
    "    plt.title(title)\n",
    "\n",
    "    #plt.show()\n",
    "    plt.savefig(filename)\n",
    "    plt.close()\n",
    "    plt.clf\n",
    "    i = Image(filename)\n",
    "    display(i)\n",
    "\n",
    "def get_intesection(set1, set2):\n",
    "    intersection = []\n",
    "    rows = len(set1)\n",
    "    k = len(set1[0])\n",
    "    for row in range(0, rows):\n",
    "        i =  set(set1[row]).intersection(set(set2[row])) \n",
    "        #res = len(i) / k\n",
    "        #intersection.append(float(\"{0:.2f}\".format(res)))\n",
    "        res = len(i)\n",
    "        intersection.append(res)\n",
    "\n",
    "    #return pd.value_counts(intersection) \n",
    "    return intersection\n",
    "\n",
    "def box_plot(values, axis_names, title, filename):\n",
    "\n",
    "    # Create a figure instance\n",
    "    fig = plt.figure(1, figsize=(9, 6))\n",
    "\n",
    "    # Create an axes instance\n",
    "    ax = fig.add_subplot(111)\n",
    "\n",
    "    # Create the boxplot\n",
    "    bp = ax.boxplot(values)\n",
    "    dim = range(1, len(axis_names)+1)\n",
    "    \n",
    "    plt.xticks(dim, axis_names, rotation=90)\n",
    "    plt.title(title)\n",
    "\n",
    "\n",
    "    for line in bp['medians']:\n",
    "        # get position data for median line\n",
    "        x, y = line.get_xydata()[1] # top of median line\n",
    "        # overlay median value\n",
    "        text(x + 0.05, y, '%.2f' % y, horizontalalignment='center') # draw above, centered\n",
    "\n",
    "    for line in bp['boxes']:\n",
    "        x, y = line.get_xydata()[0] # bottom of left line\n",
    "        text(x - 0.05,y, '%.2f' % y, horizontalalignment='center', verticalalignment='top')      # below\n",
    "        x, y = line.get_xydata()[3] # bottom of right line\n",
    "        text(x - 0.05,y, '%.2f' % y, horizontalalignment='center', verticalalignment='top')      # below\n",
    "\n",
    "    # Save the figure\n",
    "    \n",
    "    fig.savefig(filename, bbox_inches='tight')\n",
    "\n",
    "    plt.close()\n",
    "    plt.clf\n",
    "    i = Image(filename)\n",
    "    display(i)"
   ]
  },
  {
   "cell_type": "code",
   "execution_count": 131,
   "metadata": {},
   "outputs": [],
   "source": [
    "I_embeddings_weighted = np.load(\"data/n6/normalized_matrix_embedding_44323terms_weigthedTrue.npysimilarity_I_100_k.npy\")\n",
    "D_embeddings_weighted = np.load(\"data/n6/normalized_matrix_embedding_44323terms_weigthedTrue.npysimilarity_D_100_k.npy\")\n",
    "\n",
    "I_embeddings = np.load(\"data/n6/normalized_matrix_embedding_44323terms_weigthedFalse.npysimilarity_I_100_k.npy\")\n",
    "D_embeddings = np.load(\"data/n6/normalized_matrix_embedding_44323terms_weigthedFalse.npysimilarity_D_100_k.npy\")\n",
    "\n",
    "I_tfidf= np.load(\"data/n6/matrix_tfidf.npysimilarity_I_100_k.npy\")\n",
    "D_tfidf = np.load(\"data/n6/matrix_tfidf.npysimilarity_D_100_k.npy\")"
   ]
  },
  {
   "cell_type": "code",
   "execution_count": 31,
   "metadata": {},
   "outputs": [
    {
     "data": {
      "image/png": "[encoded data removed]",
      "text/plain": [
       "<IPython.core.display.Image object>"
      ]
     },
     "metadata": {},
     "output_type": "display_data"
    },
    {
     "data": {
      "image/png": "[encoded data removed]",
      "text/plain": [
       "<IPython.core.display.Image object>"
      ]
     },
     "metadata": {},
     "output_type": "display_data"
    },
    {
     "data": {
      "image/png": "[encoded data removed]",
      "text/plain": [
       "<IPython.core.display.Image object>"
      ]
     },
     "metadata": {},
     "output_type": "display_data"
    }
   ],
   "source": [
    "I_array = [I_tfidf, I_embeddings, I_embeddings_weighted]\n",
    "k = len(I_embeddings[0])\n",
    "labels = [\"tfidf_matrix\", \"embedding_matrix\", \"weighted_embedding_matrix\"]\n",
    "intersection_array = []\n",
    "str_labels = []\n",
    "\n",
    "for i in range(len(I_array)):\n",
    "    for j in range(i+1, len(I_array)):\n",
    "\n",
    "        intersection = get_intesection(I_array[i], I_array[j])\n",
    "        intersection_array.append(intersection[:100000])\n",
    "        title = \"Intersection analysis between \" + labels[i] + \" - \" + labels[j]\n",
    "        f_img = \"imgs/n6/intersection_\"+ labels[i] + \".\" + labels[j] + \"_k\"+ str(k)+ \".png\"\n",
    "        str_labels.append(labels[i] + \" vs \" + labels[j])\n",
    "        bar_plot(pd.value_counts(intersection), title,f_img)\n"
   ]
  },
  {
   "cell_type": "code",
   "execution_count": 32,
   "metadata": {},
   "outputs": [
    {
     "data": {
      "image/png": "[encoded data removed]",
      "text/plain": [
       "<IPython.core.display.Image object>"
      ]
     },
     "metadata": {},
     "output_type": "display_data"
    }
   ],
   "source": [
    "title = \"Boxplot Distribution intersection for k = \" + str(k)\n",
    "filename = \"imgs/n6/boxplot_comparisons_k\"+ str(k)+ \".png\"\n",
    "       \n",
    "box_plot(intersection_array, str_labels, title, filename)"
   ]
  },
  {
   "cell_type": "markdown",
   "metadata": {},
   "source": [
    "Di seguito si mostrano anche le distribuzioni dei valori di similarità "
   ]
  },
  {
   "cell_type": "code",
   "execution_count": 33,
   "metadata": {
    "scrolled": true
   },
   "outputs": [
    {
     "data": {
      "image/png": "[encoded data removed]",
      "text/plain": [
       "<IPython.core.display.Image object>"
      ]
     },
     "metadata": {},
     "output_type": "display_data"
    }
   ],
   "source": [
    "data_to_plot = [D_embeddings.ravel() [:100000], D_embeddings_weighted.ravel()[:100000],D_tfidf.ravel()[:100000]]\n",
    "axis_labels = ['embedding vectors', 'weighted embedding vectors','tfidf vectors']\n",
    "title = \"Similarity distribution for k = \"+ str(k)\n",
    "filename = \"imgs/n6/similarities_comparisons_k\"+ str(k)+ \".png\"\n",
    "box_plot(data_to_plot, axis_labels, title, filename)"
   ]
  },
  {
   "cell_type": "markdown",
   "metadata": {},
   "source": [
    "### Visualizzazione dettaglio documenti strutture (i.e. Pa e Aggiudicatari) simili\n",
    "\n",
    "Perchè questa parte funzioni occorre rilanciare la generazione del tf-idf"
   ]
  },
  {
   "cell_type": "code",
   "execution_count": 132,
   "metadata": {},
   "outputs": [],
   "source": [
    "import pandas as pd\n",
    "import numpy  as np\n",
    "import csv\n",
    "import datetime\n",
    "from time import time\n",
    "import timeit"
   ]
  },
  {
   "cell_type": "code",
   "execution_count": 133,
   "metadata": {},
   "outputs": [],
   "source": [
    "def top_tfidf_feats(row, features, top_n=25):\n",
    "    ''' Get top n tfidf values in row and return them with their corresponding feature names.'''\n",
    "    topn_ids = np.argsort(row)[::-1][:top_n]\n",
    "    #top_feats = [(features[i], row[i]) for i in topn_ids if row[i] > 0]\n",
    "    top_feats = [features[i] + \":\" + \"{0:.2f}\".format(row[i]) for i in topn_ids if row[i] > 0]\n",
    "    #df = pd.DataFrame(top_feats)\n",
    "    #df.columns = ['feature', 'tfidf']\n",
    "    return top_feats\n",
    "\n",
    "def top_feats_in_doc(Xtr, features, row_id, top_n=25):\n",
    "    ''' Top tfidf features in specific document (matrix row) '''\n",
    "    row = np.squeeze(Xtr[row_id].toarray())\n",
    "    return top_tfidf_feats(row, features, top_n)\n",
    "\n",
    "def get_best_terms_frequencies(Xtr, features, rows_id, top_n=25):\n",
    "    return [' '.join(top_feats_in_doc(Xtr,  features, row ,top_n)) for row in rows_id]\n",
    "    "
   ]
  },
  {
   "cell_type": "code",
   "execution_count": 134,
   "metadata": {},
   "outputs": [],
   "source": [
    "#scegli struttura da analizzare (scelta basata su indice di riga della matrice)\n",
    "iloc_document_to_compare = 1000 #i.e. si sta analizzando la struttura 1000\n",
    "\n",
    "#scegli la matrici da confrontare\n",
    "I_matrix1 = I_embeddings\n",
    "D_matrix1 = D_embeddings\n",
    "\n",
    "I_matrix2 = I_tfidf\n",
    "D_matrix2 = D_tfidf\n"
   ]
  },
  {
   "cell_type": "code",
   "execution_count": 135,
   "metadata": {},
   "outputs": [
    {
     "name": "stdout",
     "output_type": "stream",
     "text": [
      "Dataset loaded in 0.174 sec\n",
      "<class 'pandas.core.frame.DataFrame'>\n",
      "Int64Index: 307265 entries, 0 to 10965\n",
      "Data columns (total 3 columns):\n",
      "codiceFiscaleStruttura    307265 non-null object\n",
      "oggetto                   307265 non-null object\n",
      "tipoStruttura             307265 non-null object\n",
      "dtypes: object(3)\n",
      "memory usage: 9.4+ MB\n"
     ]
    }
   ],
   "source": [
    "file_name = \"data/oggetti_aggregati.pickle\"\n",
    "\n",
    "t0 = time()\n",
    "df_aggregati = pd.read_pickle(file_name)\n",
    "total = time() - t0\n",
    "\n",
    "print(\"Dataset loaded in %0.3f sec\" % total)\n",
    "\n",
    "df_aggregati.info()"
   ]
  },
  {
   "cell_type": "code",
   "execution_count": 136,
   "metadata": {},
   "outputs": [],
   "source": [
    "import pickle\n",
    "tf = pickle.load(open(\"data/n6/tf.pickle\", \"rb\"))\n",
    "import scipy\n",
    "m = scipy.sparse.load_npz('data/n6/sparse_matrix_tfidf.npz')"
   ]
  },
  {
   "cell_type": "code",
   "execution_count": 138,
   "metadata": {},
   "outputs": [
    {
     "name": "stdout",
     "output_type": "stream",
     "text": [
      "Documenti in comune:  {3808, 545, 5185, 2084, 1350, 1000, 2763, 300, 1393, 5335, 536, 4185, 1722, 1726}\n"
     ]
    }
   ],
   "source": [
    "commons_docs =  set(I_matrix1[iloc_document_to_compare]).intersection(set(I_matrix2[iloc_document_to_compare]))\n",
    "print(\"Documenti in comune: \", commons_docs)"
   ]
  },
  {
   "cell_type": "code",
   "execution_count": 139,
   "metadata": {},
   "outputs": [
    {
     "data": {
      "text/html": [
       "<div>\n",
       "<style scoped>\n",
       "    .dataframe tbody tr th:only-of-type {\n",
       "        vertical-align: middle;\n",
       "    }\n",
       "\n",
       "    .dataframe tbody tr th {\n",
       "        vertical-align: top;\n",
       "    }\n",
       "\n",
       "    .dataframe thead th {\n",
       "        text-align: right;\n",
       "    }\n",
       "</style>\n",
       "<table border=\"1\" class=\"dataframe\">\n",
       "  <thead>\n",
       "    <tr style=\"text-align: right;\">\n",
       "      <th></th>\n",
       "      <th>codiceFiscaleStruttura</th>\n",
       "      <th>oggetto</th>\n",
       "      <th>tipoStruttura</th>\n",
       "    </tr>\n",
       "  </thead>\n",
       "  <tbody>\n",
       "    <tr>\n",
       "      <th>1000</th>\n",
       "      <td>00053830451</td>\n",
       "      <td>Pagamento Fattura n52PA del 28102017  MATERIALE PER LABORATORIO SCIENZECHIMICA Affidamento diretto per fornitura materiale vario per edilizia ed agricoltura da impiegare nei lavori forestali alla Ditta Flli De Negri di Pontremoli FORNITURA MATER PER CAMINO DITTA DE NEGRI PN FORNITURA GRIGLIE DI SCARICO ACQUE PO FIVIZZANO  DITTA DE NEGRI PN FORNITURA MATER VERNICIATURA PER PO FIVIZZANO DITTA DE NEGRI PN FORNITURA MATER EDILE DITTA DE NEGRI PN FORNITURA MATERIALE EDILE DITTA DE NEGRI PN FORNIT...</td>\n",
       "      <td>AGG</td>\n",
       "    </tr>\n",
       "  </tbody>\n",
       "</table>\n",
       "</div>"
      ],
      "text/plain": [
       "     codiceFiscaleStruttura  \\\n",
       "1000            00053830451   \n",
       "\n",
       "                                                                                                                                                                                                                                                                                                                                                                                                                                                                                                                  oggetto  \\\n",
       "1000  Pagamento Fattura n52PA del 28102017  MATERIALE PER LABORATORIO SCIENZECHIMICA Affidamento diretto per fornitura materiale vario per edilizia ed agricoltura da impiegare nei lavori forestali alla Ditta Flli De Negri di Pontremoli FORNITURA MATER PER CAMINO DITTA DE NEGRI PN FORNITURA GRIGLIE DI SCARICO ACQUE PO FIVIZZANO  DITTA DE NEGRI PN FORNITURA MATER VERNICIATURA PER PO FIVIZZANO DITTA DE NEGRI PN FORNITURA MATER EDILE DITTA DE NEGRI PN FORNITURA MATERIALE EDILE DITTA DE NEGRI PN FORNIT...   \n",
       "\n",
       "     tipoStruttura  \n",
       "1000           AGG  "
      ]
     },
     "execution_count": 139,
     "metadata": {},
     "output_type": "execute_result"
    }
   ],
   "source": [
    "pd.options.display.max_colwidth = 500\n",
    "df_aggregati.iloc[[iloc_document_to_compare]]"
   ]
  },
  {
   "cell_type": "code",
   "execution_count": 142,
   "metadata": {},
   "outputs": [
    {
     "data": {
      "text/html": [
       "<div>\n",
       "<style scoped>\n",
       "    .dataframe tbody tr th:only-of-type {\n",
       "        vertical-align: middle;\n",
       "    }\n",
       "\n",
       "    .dataframe tbody tr th {\n",
       "        vertical-align: top;\n",
       "    }\n",
       "\n",
       "    .dataframe thead th {\n",
       "        text-align: right;\n",
       "    }\n",
       "</style>\n",
       "<table border=\"1\" class=\"dataframe\">\n",
       "  <thead>\n",
       "    <tr style=\"text-align: right;\">\n",
       "      <th></th>\n",
       "      <th>codiceFiscaleStruttura</th>\n",
       "      <th>oggetto</th>\n",
       "      <th>tipoStruttura</th>\n",
       "      <th>top_terms</th>\n",
       "    </tr>\n",
       "  </thead>\n",
       "  <tbody>\n",
       "    <tr>\n",
       "      <th>3808</th>\n",
       "      <td>00137020871</td>\n",
       "      <td>SALDO FATTURA N2103 DEL 15032017 VISITA GUIDATA PALAZZO DELLA CULTURA CLASSE 2Q GIORNO 14032017 affitto sala per convegno Affitto spazio piscine Nesima da introitare al Cap 318 Bilancio 2016 mese di Dicembre 2016 e Gennaio 2017 Affitto spazio piscine Nesina da introitare al Cap 318 Bilancio 2017 mese di Febbraio 2017 Affitto spazio piscine Nesima da introitare al Cap 318 Bilancio 2017 mesi di Marzo e Aprile 2017 RINNOVO SERVIZIO OSANET 2018 Ordine n54  UTILIZZO SALA COMUNALE PER CONVEGNO Abb...</td>\n",
       "      <td>AGG</td>\n",
       "      <td>amt:0.50 mese:0.35 ct:0.26 affitto:0.25 piscine:0.25 abbonamento:0.23 cap:0.20 nesima:0.20 spazio:0.18 bilancio:0.17</td>\n",
       "    </tr>\n",
       "    <tr>\n",
       "      <th>545</th>\n",
       "      <td>00027700442</td>\n",
       "      <td>INCARICO TECNICO PER REDAZIONE APE</td>\n",
       "      <td>AGG</td>\n",
       "      <td>ape:0.68 redazione:0.47 tecnico:0.45 incarico:0.34</td>\n",
       "    </tr>\n",
       "    <tr>\n",
       "      <th>5185</th>\n",
       "      <td>00169780699</td>\n",
       "      <td>CDATALAVORI ELETTRICI PALAZZINA N PO SS Annunziata  sistemazione impianto di illuminazione esterna dellarea adibita a Centro Espositivo  DD 98I del 17052017  PROIETTI CAMILLO REALIZZAZIONE IMPIANTO DI TRASMISSIONE VIDEO IN ALTA DEFINIZIONE PRESSO LA SALA ROSSA DELLA SEDE CAMERALE DI VIA FLLI POMILIO  DD 95I DEL 15052017  PROIETTI CAMILLO</td>\n",
       "      <td>AGG</td>\n",
       "      <td>proietti:0.45 camillo:0.41 dd:0.25 pomilio:0.25 adibita:0.19 annunziata:0.19 espositivo:0.18 impianto:0.18 camerale:0.17 rossa:0.17</td>\n",
       "    </tr>\n",
       "    <tr>\n",
       "      <th>2084</th>\n",
       "      <td>00095270930</td>\n",
       "      <td>CDATA10TDM00 CRON 2264 DEL 13102017 OPERA N 9817 LAVORI DI RIQUALIFICAZIONE EX CONVENTO DI SAN FRANCESCO LAVORI EDILI PRELIMINARI E SUCCESSIVI AI LAVORI IMPIANTISTICI</td>\n",
       "      <td>AGG</td>\n",
       "      <td>lavori:0.34 impiantistici:0.34 tdm:0.33 successivi:0.32 preliminari:0.31 cron:0.31 convento:0.30 cdata:0.25 francesco:0.23 edili:0.21</td>\n",
       "    </tr>\n",
       "    <tr>\n",
       "      <th>1350</th>\n",
       "      <td>00067980086</td>\n",
       "      <td>Materiale risanamento aule Materiale risanamento 2 aule ITIS Teli di protezione per pitturazione aule Materiale consumo ferramenta</td>\n",
       "      <td>AGG</td>\n",
       "      <td>aule:0.62 risanamento:0.43 materiale:0.33 itis:0.28 pitturazione:0.28 teli:0.27 ferramenta:0.19 protezione:0.17 consumo:0.16</td>\n",
       "    </tr>\n",
       "    <tr>\n",
       "      <th>1000</th>\n",
       "      <td>00053830451</td>\n",
       "      <td>Pagamento Fattura n52PA del 28102017  MATERIALE PER LABORATORIO SCIENZECHIMICA Affidamento diretto per fornitura materiale vario per edilizia ed agricoltura da impiegare nei lavori forestali alla Ditta Flli De Negri di Pontremoli FORNITURA MATER PER CAMINO DITTA DE NEGRI PN FORNITURA GRIGLIE DI SCARICO ACQUE PO FIVIZZANO  DITTA DE NEGRI PN FORNITURA MATER VERNICIATURA PER PO FIVIZZANO DITTA DE NEGRI PN FORNITURA MATER EDILE DITTA DE NEGRI PN FORNITURA MATERIALE EDILE DITTA DE NEGRI PN FORNIT...</td>\n",
       "      <td>AGG</td>\n",
       "      <td>negri:0.50 pn:0.40 de:0.29 mater:0.29 edile:0.21 ditta:0.20 fivizzano:0.18 fornitura:0.17 pontremoli:0.17 materiale:0.17</td>\n",
       "    </tr>\n",
       "    <tr>\n",
       "      <th>2763</th>\n",
       "      <td>00111630513</td>\n",
       "      <td>CDATAImponibile fattura 1 del 6317stampa pieghevoli per orientamento as 201718</td>\n",
       "      <td>AGG</td>\n",
       "      <td>cdataimponibile:0.63 pieghevoli:0.46 orientamento:0.41 stampa:0.31 as:0.30 fattura:0.21</td>\n",
       "    </tr>\n",
       "    <tr>\n",
       "      <th>300</th>\n",
       "      <td>00004800017</td>\n",
       "      <td>REALIZZAZIONE E FORNITURA DI 10 BLOCCHI RICEVUTE FORMATO A5 A 100 FOGLI Acquisto materiale pubblicitario per lorientamento</td>\n",
       "      <td>AGG</td>\n",
       "      <td>lorientamento:0.49 ricevute:0.43 blocchi:0.36 fogli:0.34 formato:0.33 pubblicitario:0.33 realizzazione:0.20 materiale:0.17 acquisto:0.15 fornitura:0.14</td>\n",
       "    </tr>\n",
       "    <tr>\n",
       "      <th>1393</th>\n",
       "      <td>00069880391</td>\n",
       "      <td>Fornitura di tubo raccordi e rubinetti per manutenzione acquedotti Fornitura di materiale idraulico  manutenzione acquedotti acquisto fertirrigatore FORNITURA TUTORI FRUTTETO DLGS 502016 ART 36 COMMA 2 LETT B DELIBERA N 922017 OBIETTIVO 2 ATTIVIT 2 DETERMINA A CONTRARRE N 41822017 DETERMINE DI AGGIUDICAZIONE N 62492017 E 71502017 ACQUISIZIONE DEL SERVIZIO DI PROVE SPERIMENTALI SUDDIVISO IN SETTE LOT</td>\n",
       "      <td>AGG</td>\n",
       "      <td>acquedotti:0.42 frutteto:0.26 lot:0.26 tutori:0.25 suddiviso:0.24 sperimentali:0.22 sette:0.21 rubinetti:0.21 obiettivo:0.21 fornitura:0.20</td>\n",
       "    </tr>\n",
       "    <tr>\n",
       "      <th>5335</th>\n",
       "      <td>00173270596</td>\n",
       "      <td>FIORI PER SERRA AZIENDA AGRARIA Pagamento Fattura n42 del 08032017  PIANTE PER SERRA AZIENDA AGRARIA Pagamento Fattura n8 del 31012017  PIANTE DA SERRA AZIENDA AGRARIA  Pagamento Fattura n52 del 30032017 PIANTE DA SERRA AZIENDA AGRARIA Pagamento Fattura n37 del 03032017  PIANTE PER SERRA Fatt 35 del 0303 acquisto piantine orto e talee gerani vari tipi</td>\n",
       "      <td>AGG</td>\n",
       "      <td>serra:0.57 agraria:0.48 azienda:0.39 piante:0.36 pagamento:0.21 fattura:0.20 gerani:0.15 tipi:0.14 piantine:0.12 orto:0.11</td>\n",
       "    </tr>\n",
       "    <tr>\n",
       "      <th>536</th>\n",
       "      <td>00026980888</td>\n",
       "      <td>Pagamento Fattura n1219 del 02032017 IVA su fattura n 35192017 del 26092017 fornitura GPL Pagamento Fattura n4919 del 31122016 Pagamento Fattura n519 del 31012017 relativa alla fornitura di GPL per plesso scolastico di Via Pertini</td>\n",
       "      <td>AGG</td>\n",
       "      <td>gpl:0.54 fattura:0.49 pagamento:0.40 pertini:0.31 relativa:0.21 fornitura:0.21 plesso:0.20 iva:0.19 scolastico:0.17 via:0.14</td>\n",
       "    </tr>\n",
       "    <tr>\n",
       "      <th>4185</th>\n",
       "      <td>00146390760</td>\n",
       "      <td>Gara per distributori automatici  bevande</td>\n",
       "      <td>AGG</td>\n",
       "      <td>distributori:0.56 automatici:0.54 bevande:0.53 gara:0.35</td>\n",
       "    </tr>\n",
       "    <tr>\n",
       "      <th>1722</th>\n",
       "      <td>00082410663</td>\n",
       "      <td>AFFISSIONI PER 25 MANIFESTI NOTTE DEI RICERCATORI COMMISSIONE VIGILANZA PRESSO PIAZZA CHIARINO  COMMISSIONE VIGILANZA PRESSO PARCO DEL CASTELLO</td>\n",
       "      <td>AGG</td>\n",
       "      <td>commissione:0.51 vigilanza:0.47 ricercatori:0.34 affissioni:0.29 presso:0.27 notte:0.26 castello:0.23 manifesti:0.22 piazza:0.20 parco:0.19</td>\n",
       "    </tr>\n",
       "    <tr>\n",
       "      <th>1726</th>\n",
       "      <td>00082630435</td>\n",
       "      <td>FORNITURA CORPI ILLUMINANTI ED ACCESSORI IGUZZINI FORNITURA ARMATURE STRADALI A LED FORNITURA PROIETTORI PLATEA A LED FPO CORPI ILLUMINANTI PRESSO MURA URBICHE LAVORI DI COMPLETAMENTO PARCHEGGIO PORTA DEI CANCELLI ACQUISTO CORPI ILLUMINANTI TRAMITE MEPA FORNITURA ATTREZZATURA ELETTRICA PIAZZALE VITTORIO VENETO AFFIDAMENTO FORNITURA PIASTRE LED SPECIALI DA APPLICARE ALLE LAMPADE A SERVIZIO DELLA SALA LETTORI DELLA BIBLIOTECA COMUNALE L FUMI APPROVIGIONAMENTO TRE PLAFONIERE A LED CIRCOLARI  CD...</td>\n",
       "      <td>AGG</td>\n",
       "      <td>illuminanti:0.41 corpi:0.40 led:0.36 fornitura:0.24 cdatamostra:0.23 illuminazione:0.23 monumenti:0.19 storico:0.14 lippi:0.12 urbiche:0.12</td>\n",
       "    </tr>\n",
       "  </tbody>\n",
       "</table>\n",
       "</div>"
      ],
      "text/plain": [
       "     codiceFiscaleStruttura  \\\n",
       "3808            00137020871   \n",
       "545             00027700442   \n",
       "5185            00169780699   \n",
       "2084            00095270930   \n",
       "1350            00067980086   \n",
       "1000            00053830451   \n",
       "2763            00111630513   \n",
       "300             00004800017   \n",
       "1393            00069880391   \n",
       "5335            00173270596   \n",
       "536             00026980888   \n",
       "4185            00146390760   \n",
       "1722            00082410663   \n",
       "1726            00082630435   \n",
       "\n",
       "                                                                                                                                                                                                                                                                                                                                                                                                                                                                                                                  oggetto  \\\n",
       "3808  SALDO FATTURA N2103 DEL 15032017 VISITA GUIDATA PALAZZO DELLA CULTURA CLASSE 2Q GIORNO 14032017 affitto sala per convegno Affitto spazio piscine Nesima da introitare al Cap 318 Bilancio 2016 mese di Dicembre 2016 e Gennaio 2017 Affitto spazio piscine Nesina da introitare al Cap 318 Bilancio 2017 mese di Febbraio 2017 Affitto spazio piscine Nesima da introitare al Cap 318 Bilancio 2017 mesi di Marzo e Aprile 2017 RINNOVO SERVIZIO OSANET 2018 Ordine n54  UTILIZZO SALA COMUNALE PER CONVEGNO Abb...   \n",
       "545                                                                                                                                                                                                                                                                                                                                                                                                                                                                                    INCARICO TECNICO PER REDAZIONE APE   \n",
       "5185                                                                                                                                                                  CDATALAVORI ELETTRICI PALAZZINA N PO SS Annunziata  sistemazione impianto di illuminazione esterna dellarea adibita a Centro Espositivo  DD 98I del 17052017  PROIETTI CAMILLO REALIZZAZIONE IMPIANTO DI TRASMISSIONE VIDEO IN ALTA DEFINIZIONE PRESSO LA SALA ROSSA DELLA SEDE CAMERALE DI VIA FLLI POMILIO  DD 95I DEL 15052017  PROIETTI CAMILLO   \n",
       "2084                                                                                                                                                                                                                                                                                                                                              CDATA10TDM00 CRON 2264 DEL 13102017 OPERA N 9817 LAVORI DI RIQUALIFICAZIONE EX CONVENTO DI SAN FRANCESCO LAVORI EDILI PRELIMINARI E SUCCESSIVI AI LAVORI IMPIANTISTICI    \n",
       "1350                                                                                                                                                                                                                                                                                                                                                                                   Materiale risanamento aule Materiale risanamento 2 aule ITIS Teli di protezione per pitturazione aule Materiale consumo ferramenta   \n",
       "1000  Pagamento Fattura n52PA del 28102017  MATERIALE PER LABORATORIO SCIENZECHIMICA Affidamento diretto per fornitura materiale vario per edilizia ed agricoltura da impiegare nei lavori forestali alla Ditta Flli De Negri di Pontremoli FORNITURA MATER PER CAMINO DITTA DE NEGRI PN FORNITURA GRIGLIE DI SCARICO ACQUE PO FIVIZZANO  DITTA DE NEGRI PN FORNITURA MATER VERNICIATURA PER PO FIVIZZANO DITTA DE NEGRI PN FORNITURA MATER EDILE DITTA DE NEGRI PN FORNITURA MATERIALE EDILE DITTA DE NEGRI PN FORNIT...   \n",
       "2763                                                                                                                                                                                                                                                                                                                                                                                                                                      CDATAImponibile fattura 1 del 6317stampa pieghevoli per orientamento as 201718    \n",
       "300                                                                                                                                                                                                                                                                                                                                                                                            REALIZZAZIONE E FORNITURA DI 10 BLOCCHI RICEVUTE FORMATO A5 A 100 FOGLI Acquisto materiale pubblicitario per lorientamento   \n",
       "1393                                                                                                   Fornitura di tubo raccordi e rubinetti per manutenzione acquedotti Fornitura di materiale idraulico  manutenzione acquedotti acquisto fertirrigatore FORNITURA TUTORI FRUTTETO DLGS 502016 ART 36 COMMA 2 LETT B DELIBERA N 922017 OBIETTIVO 2 ATTIVIT 2 DETERMINA A CONTRARRE N 41822017 DETERMINE DI AGGIUDICAZIONE N 62492017 E 71502017 ACQUISIZIONE DEL SERVIZIO DI PROVE SPERIMENTALI SUDDIVISO IN SETTE LOT   \n",
       "5335                                                                                                                                                    FIORI PER SERRA AZIENDA AGRARIA Pagamento Fattura n42 del 08032017  PIANTE PER SERRA AZIENDA AGRARIA Pagamento Fattura n8 del 31012017  PIANTE DA SERRA AZIENDA AGRARIA  Pagamento Fattura n52 del 30032017 PIANTE DA SERRA AZIENDA AGRARIA Pagamento Fattura n37 del 03032017  PIANTE PER SERRA Fatt 35 del 0303 acquisto piantine orto e talee gerani vari tipi   \n",
       "536                                                                                                                                                                                                                                                                                Pagamento Fattura n1219 del 02032017 IVA su fattura n 35192017 del 26092017 fornitura GPL Pagamento Fattura n4919 del 31122016 Pagamento Fattura n519 del 31012017 relativa alla fornitura di GPL per plesso scolastico di Via Pertini   \n",
       "4185                                                                                                                                                                                                                                                                                                                                                                                                                                                                            Gara per distributori automatici  bevande   \n",
       "1722                                                                                                                                                                                                                                                                                                                                                                      AFFISSIONI PER 25 MANIFESTI NOTTE DEI RICERCATORI COMMISSIONE VIGILANZA PRESSO PIAZZA CHIARINO  COMMISSIONE VIGILANZA PRESSO PARCO DEL CASTELLO   \n",
       "1726  FORNITURA CORPI ILLUMINANTI ED ACCESSORI IGUZZINI FORNITURA ARMATURE STRADALI A LED FORNITURA PROIETTORI PLATEA A LED FPO CORPI ILLUMINANTI PRESSO MURA URBICHE LAVORI DI COMPLETAMENTO PARCHEGGIO PORTA DEI CANCELLI ACQUISTO CORPI ILLUMINANTI TRAMITE MEPA FORNITURA ATTREZZATURA ELETTRICA PIAZZALE VITTORIO VENETO AFFIDAMENTO FORNITURA PIASTRE LED SPECIALI DA APPLICARE ALLE LAMPADE A SERVIZIO DELLA SALA LETTORI DELLA BIBLIOTECA COMUNALE L FUMI APPROVIGIONAMENTO TRE PLAFONIERE A LED CIRCOLARI  CD...   \n",
       "\n",
       "     tipoStruttura  \\\n",
       "3808           AGG   \n",
       "545            AGG   \n",
       "5185           AGG   \n",
       "2084           AGG   \n",
       "1350           AGG   \n",
       "1000           AGG   \n",
       "2763           AGG   \n",
       "300            AGG   \n",
       "1393           AGG   \n",
       "5335           AGG   \n",
       "536            AGG   \n",
       "4185           AGG   \n",
       "1722           AGG   \n",
       "1726           AGG   \n",
       "\n",
       "                                                                                                                                                    top_terms  \n",
       "3808                                     amt:0.50 mese:0.35 ct:0.26 affitto:0.25 piscine:0.25 abbonamento:0.23 cap:0.20 nesima:0.20 spazio:0.18 bilancio:0.17  \n",
       "545                                                                                                        ape:0.68 redazione:0.47 tecnico:0.45 incarico:0.34  \n",
       "5185                      proietti:0.45 camillo:0.41 dd:0.25 pomilio:0.25 adibita:0.19 annunziata:0.19 espositivo:0.18 impianto:0.18 camerale:0.17 rossa:0.17  \n",
       "2084                    lavori:0.34 impiantistici:0.34 tdm:0.33 successivi:0.32 preliminari:0.31 cron:0.31 convento:0.30 cdata:0.25 francesco:0.23 edili:0.21  \n",
       "1350                             aule:0.62 risanamento:0.43 materiale:0.33 itis:0.28 pitturazione:0.28 teli:0.27 ferramenta:0.19 protezione:0.17 consumo:0.16  \n",
       "1000                                 negri:0.50 pn:0.40 de:0.29 mater:0.29 edile:0.21 ditta:0.20 fivizzano:0.18 fornitura:0.17 pontremoli:0.17 materiale:0.17  \n",
       "2763                                                                  cdataimponibile:0.63 pieghevoli:0.46 orientamento:0.41 stampa:0.31 as:0.30 fattura:0.21  \n",
       "300   lorientamento:0.49 ricevute:0.43 blocchi:0.36 fogli:0.34 formato:0.33 pubblicitario:0.33 realizzazione:0.20 materiale:0.17 acquisto:0.15 fornitura:0.14  \n",
       "1393              acquedotti:0.42 frutteto:0.26 lot:0.26 tutori:0.25 suddiviso:0.24 sperimentali:0.22 sette:0.21 rubinetti:0.21 obiettivo:0.21 fornitura:0.20  \n",
       "5335                               serra:0.57 agraria:0.48 azienda:0.39 piante:0.36 pagamento:0.21 fattura:0.20 gerani:0.15 tipi:0.14 piantine:0.12 orto:0.11  \n",
       "536                              gpl:0.54 fattura:0.49 pagamento:0.40 pertini:0.31 relativa:0.21 fornitura:0.21 plesso:0.20 iva:0.19 scolastico:0.17 via:0.14  \n",
       "4185                                                                                                 distributori:0.56 automatici:0.54 bevande:0.53 gara:0.35  \n",
       "1722              commissione:0.51 vigilanza:0.47 ricercatori:0.34 affissioni:0.29 presso:0.27 notte:0.26 castello:0.23 manifesti:0.22 piazza:0.20 parco:0.19  \n",
       "1726              illuminanti:0.41 corpi:0.40 led:0.36 fornitura:0.24 cdatamostra:0.23 illuminazione:0.23 monumenti:0.19 storico:0.14 lippi:0.12 urbiche:0.12  "
      ]
     },
     "execution_count": 142,
     "metadata": {},
     "output_type": "execute_result"
    }
   ],
   "source": [
    "df_most_similar = df_aggregati.iloc[list(commons_docs)]\n",
    "df_most_similar[\"top_terms\"] = get_best_terms_frequencies(m, tf.get_feature_names(), commons_docs, 10)\n",
    "df_most_similar"
   ]
  },
  {
   "cell_type": "code",
   "execution_count": 75,
   "metadata": {},
   "outputs": [],
   "source": []
  },
  {
   "cell_type": "code",
   "execution_count": 122,
   "metadata": {},
   "outputs": [],
   "source": []
  },
  {
   "cell_type": "code",
   "execution_count": 123,
   "metadata": {},
   "outputs": [
    {
     "data": {
      "text/html": [
       "<div>\n",
       "<style scoped>\n",
       "    .dataframe tbody tr th:only-of-type {\n",
       "        vertical-align: middle;\n",
       "    }\n",
       "\n",
       "    .dataframe tbody tr th {\n",
       "        vertical-align: top;\n",
       "    }\n",
       "\n",
       "    .dataframe thead th {\n",
       "        text-align: right;\n",
       "    }\n",
       "</style>\n",
       "<table border=\"1\" class=\"dataframe\">\n",
       "  <thead>\n",
       "    <tr style=\"text-align: right;\">\n",
       "      <th></th>\n",
       "      <th>oggetto</th>\n",
       "      <th>tipoStruttura</th>\n",
       "      <th>pippo</th>\n",
       "    </tr>\n",
       "    <tr>\n",
       "      <th>codiceFiscaleStruttura</th>\n",
       "      <th></th>\n",
       "      <th></th>\n",
       "      <th></th>\n",
       "    </tr>\n",
       "  </thead>\n",
       "  <tbody>\n",
       "    <tr>\n",
       "      <th>00137020871</th>\n",
       "      <td>SALDO FATTURA N2103 DEL 15032017 VISITA GUIDATA PALAZZO DELLA CULTURA CLASSE 2Q GIORNO 14032017 affitto sala per convegno Affitto spazio piscine Nesima da introitare al Cap 318 Bilancio 2016 mese di Dicembre 2016 e Gennaio 2017 Affitto spazio piscine Nesina da introitare al Cap 318 Bilancio 2017 mese di Febbraio 2017 Affitto spazio piscine Nesima da introitare al Cap 318 Bilancio 2017 mesi di Marzo e Aprile 2017 RINNOVO SERVIZIO OSANET 2018 Ordine n54  UTILIZZO SALA COMUNALE PER CONVEGNO Abb...</td>\n",
       "      <td>AGG</td>\n",
       "      <td>amt:0.50 mese:0.35 ct:0.26 affitto:0.25 piscine:0.25 abbonamento:0.23 cap:0.20 nesima:0.20 spazio:0.18 bilancio:0.17</td>\n",
       "    </tr>\n",
       "    <tr>\n",
       "      <th>00027700442</th>\n",
       "      <td>INCARICO TECNICO PER REDAZIONE APE</td>\n",
       "      <td>AGG</td>\n",
       "      <td>ape:0.68 redazione:0.47 tecnico:0.45 incarico:0.34</td>\n",
       "    </tr>\n",
       "    <tr>\n",
       "      <th>00169780699</th>\n",
       "      <td>CDATALAVORI ELETTRICI PALAZZINA N PO SS Annunziata  sistemazione impianto di illuminazione esterna dellarea adibita a Centro Espositivo  DD 98I del 17052017  PROIETTI CAMILLO REALIZZAZIONE IMPIANTO DI TRASMISSIONE VIDEO IN ALTA DEFINIZIONE PRESSO LA SALA ROSSA DELLA SEDE CAMERALE DI VIA FLLI POMILIO  DD 95I DEL 15052017  PROIETTI CAMILLO</td>\n",
       "      <td>AGG</td>\n",
       "      <td>proietti:0.45 camillo:0.41 dd:0.25 pomilio:0.25 adibita:0.19 annunziata:0.19 espositivo:0.18 impianto:0.18 camerale:0.17 rossa:0.17</td>\n",
       "    </tr>\n",
       "    <tr>\n",
       "      <th>00095270930</th>\n",
       "      <td>CDATA10TDM00 CRON 2264 DEL 13102017 OPERA N 9817 LAVORI DI RIQUALIFICAZIONE EX CONVENTO DI SAN FRANCESCO LAVORI EDILI PRELIMINARI E SUCCESSIVI AI LAVORI IMPIANTISTICI</td>\n",
       "      <td>AGG</td>\n",
       "      <td>lavori:0.34 impiantistici:0.34 tdm:0.33 successivi:0.32 preliminari:0.31 cron:0.31 convento:0.30 cdata:0.25 francesco:0.23 edili:0.21</td>\n",
       "    </tr>\n",
       "    <tr>\n",
       "      <th>00067980086</th>\n",
       "      <td>Materiale risanamento aule Materiale risanamento 2 aule ITIS Teli di protezione per pitturazione aule Materiale consumo ferramenta</td>\n",
       "      <td>AGG</td>\n",
       "      <td>aule:0.62 risanamento:0.43 materiale:0.33 itis:0.28 pitturazione:0.28 teli:0.27 ferramenta:0.19 protezione:0.17 consumo:0.16</td>\n",
       "    </tr>\n",
       "    <tr>\n",
       "      <th>00053830451</th>\n",
       "      <td>Pagamento Fattura n52PA del 28102017  MATERIALE PER LABORATORIO SCIENZECHIMICA Affidamento diretto per fornitura materiale vario per edilizia ed agricoltura da impiegare nei lavori forestali alla Ditta Flli De Negri di Pontremoli FORNITURA MATER PER CAMINO DITTA DE NEGRI PN FORNITURA GRIGLIE DI SCARICO ACQUE PO FIVIZZANO  DITTA DE NEGRI PN FORNITURA MATER VERNICIATURA PER PO FIVIZZANO DITTA DE NEGRI PN FORNITURA MATER EDILE DITTA DE NEGRI PN FORNITURA MATERIALE EDILE DITTA DE NEGRI PN FORNIT...</td>\n",
       "      <td>AGG</td>\n",
       "      <td>negri:0.50 pn:0.40 de:0.29 mater:0.29 edile:0.21 ditta:0.20 fivizzano:0.18 fornitura:0.17 pontremoli:0.17 materiale:0.17</td>\n",
       "    </tr>\n",
       "    <tr>\n",
       "      <th>00111630513</th>\n",
       "      <td>CDATAImponibile fattura 1 del 6317stampa pieghevoli per orientamento as 201718</td>\n",
       "      <td>AGG</td>\n",
       "      <td>cdataimponibile:0.63 pieghevoli:0.46 orientamento:0.41 stampa:0.31 as:0.30 fattura:0.21</td>\n",
       "    </tr>\n",
       "    <tr>\n",
       "      <th>00004800017</th>\n",
       "      <td>REALIZZAZIONE E FORNITURA DI 10 BLOCCHI RICEVUTE FORMATO A5 A 100 FOGLI Acquisto materiale pubblicitario per lorientamento</td>\n",
       "      <td>AGG</td>\n",
       "      <td>lorientamento:0.49 ricevute:0.43 blocchi:0.36 fogli:0.34 formato:0.33 pubblicitario:0.33 realizzazione:0.20 materiale:0.17 acquisto:0.15 fornitura:0.14</td>\n",
       "    </tr>\n",
       "    <tr>\n",
       "      <th>00069880391</th>\n",
       "      <td>Fornitura di tubo raccordi e rubinetti per manutenzione acquedotti Fornitura di materiale idraulico  manutenzione acquedotti acquisto fertirrigatore FORNITURA TUTORI FRUTTETO DLGS 502016 ART 36 COMMA 2 LETT B DELIBERA N 922017 OBIETTIVO 2 ATTIVIT 2 DETERMINA A CONTRARRE N 41822017 DETERMINE DI AGGIUDICAZIONE N 62492017 E 71502017 ACQUISIZIONE DEL SERVIZIO DI PROVE SPERIMENTALI SUDDIVISO IN SETTE LOT</td>\n",
       "      <td>AGG</td>\n",
       "      <td>acquedotti:0.42 frutteto:0.26 lot:0.26 tutori:0.25 suddiviso:0.24 sperimentali:0.22 sette:0.21 rubinetti:0.21 obiettivo:0.21 fornitura:0.20</td>\n",
       "    </tr>\n",
       "    <tr>\n",
       "      <th>00173270596</th>\n",
       "      <td>FIORI PER SERRA AZIENDA AGRARIA Pagamento Fattura n42 del 08032017  PIANTE PER SERRA AZIENDA AGRARIA Pagamento Fattura n8 del 31012017  PIANTE DA SERRA AZIENDA AGRARIA  Pagamento Fattura n52 del 30032017 PIANTE DA SERRA AZIENDA AGRARIA Pagamento Fattura n37 del 03032017  PIANTE PER SERRA Fatt 35 del 0303 acquisto piantine orto e talee gerani vari tipi</td>\n",
       "      <td>AGG</td>\n",
       "      <td>serra:0.57 agraria:0.48 azienda:0.39 piante:0.36 pagamento:0.21 fattura:0.20 gerani:0.15 tipi:0.14 piantine:0.12 orto:0.11</td>\n",
       "    </tr>\n",
       "    <tr>\n",
       "      <th>00026980888</th>\n",
       "      <td>Pagamento Fattura n1219 del 02032017 IVA su fattura n 35192017 del 26092017 fornitura GPL Pagamento Fattura n4919 del 31122016 Pagamento Fattura n519 del 31012017 relativa alla fornitura di GPL per plesso scolastico di Via Pertini</td>\n",
       "      <td>AGG</td>\n",
       "      <td>gpl:0.54 fattura:0.49 pagamento:0.40 pertini:0.31 relativa:0.21 fornitura:0.21 plesso:0.20 iva:0.19 scolastico:0.17 via:0.14</td>\n",
       "    </tr>\n",
       "    <tr>\n",
       "      <th>00146390760</th>\n",
       "      <td>Gara per distributori automatici  bevande</td>\n",
       "      <td>AGG</td>\n",
       "      <td>distributori:0.56 automatici:0.54 bevande:0.53 gara:0.35</td>\n",
       "    </tr>\n",
       "    <tr>\n",
       "      <th>00082410663</th>\n",
       "      <td>AFFISSIONI PER 25 MANIFESTI NOTTE DEI RICERCATORI COMMISSIONE VIGILANZA PRESSO PIAZZA CHIARINO  COMMISSIONE VIGILANZA PRESSO PARCO DEL CASTELLO</td>\n",
       "      <td>AGG</td>\n",
       "      <td>commissione:0.51 vigilanza:0.47 ricercatori:0.34 affissioni:0.29 presso:0.27 notte:0.26 castello:0.23 manifesti:0.22 piazza:0.20 parco:0.19</td>\n",
       "    </tr>\n",
       "    <tr>\n",
       "      <th>00082630435</th>\n",
       "      <td>FORNITURA CORPI ILLUMINANTI ED ACCESSORI IGUZZINI FORNITURA ARMATURE STRADALI A LED FORNITURA PROIETTORI PLATEA A LED FPO CORPI ILLUMINANTI PRESSO MURA URBICHE LAVORI DI COMPLETAMENTO PARCHEGGIO PORTA DEI CANCELLI ACQUISTO CORPI ILLUMINANTI TRAMITE MEPA FORNITURA ATTREZZATURA ELETTRICA PIAZZALE VITTORIO VENETO AFFIDAMENTO FORNITURA PIASTRE LED SPECIALI DA APPLICARE ALLE LAMPADE A SERVIZIO DELLA SALA LETTORI DELLA BIBLIOTECA COMUNALE L FUMI APPROVIGIONAMENTO TRE PLAFONIERE A LED CIRCOLARI  CD...</td>\n",
       "      <td>AGG</td>\n",
       "      <td>illuminanti:0.41 corpi:0.40 led:0.36 fornitura:0.24 cdatamostra:0.23 illuminazione:0.23 monumenti:0.19 storico:0.14 lippi:0.12 urbiche:0.12</td>\n",
       "    </tr>\n",
       "  </tbody>\n",
       "</table>\n",
       "</div>"
      ],
      "text/plain": [
       "                                                                                                                                                                                                                                                                                                                                                                                                                                                                                                                                    oggetto  \\\n",
       "codiceFiscaleStruttura                                                                                                                                                                                                                                                                                                                                                                                                                                                                                                                        \n",
       "00137020871             SALDO FATTURA N2103 DEL 15032017 VISITA GUIDATA PALAZZO DELLA CULTURA CLASSE 2Q GIORNO 14032017 affitto sala per convegno Affitto spazio piscine Nesima da introitare al Cap 318 Bilancio 2016 mese di Dicembre 2016 e Gennaio 2017 Affitto spazio piscine Nesina da introitare al Cap 318 Bilancio 2017 mese di Febbraio 2017 Affitto spazio piscine Nesima da introitare al Cap 318 Bilancio 2017 mesi di Marzo e Aprile 2017 RINNOVO SERVIZIO OSANET 2018 Ordine n54  UTILIZZO SALA COMUNALE PER CONVEGNO Abb...   \n",
       "00027700442                                                                                                                                                                                                                                                                                                                                                                                                                                                                                              INCARICO TECNICO PER REDAZIONE APE   \n",
       "00169780699                                                                                                                                                                             CDATALAVORI ELETTRICI PALAZZINA N PO SS Annunziata  sistemazione impianto di illuminazione esterna dellarea adibita a Centro Espositivo  DD 98I del 17052017  PROIETTI CAMILLO REALIZZAZIONE IMPIANTO DI TRASMISSIONE VIDEO IN ALTA DEFINIZIONE PRESSO LA SALA ROSSA DELLA SEDE CAMERALE DI VIA FLLI POMILIO  DD 95I DEL 15052017  PROIETTI CAMILLO   \n",
       "00095270930                                                                                                                                                                                                                                                                                                                                                         CDATA10TDM00 CRON 2264 DEL 13102017 OPERA N 9817 LAVORI DI RIQUALIFICAZIONE EX CONVENTO DI SAN FRANCESCO LAVORI EDILI PRELIMINARI E SUCCESSIVI AI LAVORI IMPIANTISTICI    \n",
       "00067980086                                                                                                                                                                                                                                                                                                                                                                                              Materiale risanamento aule Materiale risanamento 2 aule ITIS Teli di protezione per pitturazione aule Materiale consumo ferramenta   \n",
       "00053830451             Pagamento Fattura n52PA del 28102017  MATERIALE PER LABORATORIO SCIENZECHIMICA Affidamento diretto per fornitura materiale vario per edilizia ed agricoltura da impiegare nei lavori forestali alla Ditta Flli De Negri di Pontremoli FORNITURA MATER PER CAMINO DITTA DE NEGRI PN FORNITURA GRIGLIE DI SCARICO ACQUE PO FIVIZZANO  DITTA DE NEGRI PN FORNITURA MATER VERNICIATURA PER PO FIVIZZANO DITTA DE NEGRI PN FORNITURA MATER EDILE DITTA DE NEGRI PN FORNITURA MATERIALE EDILE DITTA DE NEGRI PN FORNIT...   \n",
       "00111630513                                                                                                                                                                                                                                                                                                                                                                                                                                                 CDATAImponibile fattura 1 del 6317stampa pieghevoli per orientamento as 201718    \n",
       "00004800017                                                                                                                                                                                                                                                                                                                                                                                                      REALIZZAZIONE E FORNITURA DI 10 BLOCCHI RICEVUTE FORMATO A5 A 100 FOGLI Acquisto materiale pubblicitario per lorientamento   \n",
       "00069880391                                                                                                              Fornitura di tubo raccordi e rubinetti per manutenzione acquedotti Fornitura di materiale idraulico  manutenzione acquedotti acquisto fertirrigatore FORNITURA TUTORI FRUTTETO DLGS 502016 ART 36 COMMA 2 LETT B DELIBERA N 922017 OBIETTIVO 2 ATTIVIT 2 DETERMINA A CONTRARRE N 41822017 DETERMINE DI AGGIUDICAZIONE N 62492017 E 71502017 ACQUISIZIONE DEL SERVIZIO DI PROVE SPERIMENTALI SUDDIVISO IN SETTE LOT   \n",
       "00173270596                                                                                                                                                               FIORI PER SERRA AZIENDA AGRARIA Pagamento Fattura n42 del 08032017  PIANTE PER SERRA AZIENDA AGRARIA Pagamento Fattura n8 del 31012017  PIANTE DA SERRA AZIENDA AGRARIA  Pagamento Fattura n52 del 30032017 PIANTE DA SERRA AZIENDA AGRARIA Pagamento Fattura n37 del 03032017  PIANTE PER SERRA Fatt 35 del 0303 acquisto piantine orto e talee gerani vari tipi   \n",
       "00026980888                                                                                                                                                                                                                                                                                          Pagamento Fattura n1219 del 02032017 IVA su fattura n 35192017 del 26092017 fornitura GPL Pagamento Fattura n4919 del 31122016 Pagamento Fattura n519 del 31012017 relativa alla fornitura di GPL per plesso scolastico di Via Pertini   \n",
       "00146390760                                                                                                                                                                                                                                                                                                                                                                                                                                                                                       Gara per distributori automatici  bevande   \n",
       "00082410663                                                                                                                                                                                                                                                                                                                                                                                 AFFISSIONI PER 25 MANIFESTI NOTTE DEI RICERCATORI COMMISSIONE VIGILANZA PRESSO PIAZZA CHIARINO  COMMISSIONE VIGILANZA PRESSO PARCO DEL CASTELLO   \n",
       "00082630435             FORNITURA CORPI ILLUMINANTI ED ACCESSORI IGUZZINI FORNITURA ARMATURE STRADALI A LED FORNITURA PROIETTORI PLATEA A LED FPO CORPI ILLUMINANTI PRESSO MURA URBICHE LAVORI DI COMPLETAMENTO PARCHEGGIO PORTA DEI CANCELLI ACQUISTO CORPI ILLUMINANTI TRAMITE MEPA FORNITURA ATTREZZATURA ELETTRICA PIAZZALE VITTORIO VENETO AFFIDAMENTO FORNITURA PIASTRE LED SPECIALI DA APPLICARE ALLE LAMPADE A SERVIZIO DELLA SALA LETTORI DELLA BIBLIOTECA COMUNALE L FUMI APPROVIGIONAMENTO TRE PLAFONIERE A LED CIRCOLARI  CD...   \n",
       "\n",
       "                       tipoStruttura  \\\n",
       "codiceFiscaleStruttura                 \n",
       "00137020871                      AGG   \n",
       "00027700442                      AGG   \n",
       "00169780699                      AGG   \n",
       "00095270930                      AGG   \n",
       "00067980086                      AGG   \n",
       "00053830451                      AGG   \n",
       "00111630513                      AGG   \n",
       "00004800017                      AGG   \n",
       "00069880391                      AGG   \n",
       "00173270596                      AGG   \n",
       "00026980888                      AGG   \n",
       "00146390760                      AGG   \n",
       "00082410663                      AGG   \n",
       "00082630435                      AGG   \n",
       "\n",
       "                                                                                                                                                                          pippo  \n",
       "codiceFiscaleStruttura                                                                                                                                                           \n",
       "00137020871                                                amt:0.50 mese:0.35 ct:0.26 affitto:0.25 piscine:0.25 abbonamento:0.23 cap:0.20 nesima:0.20 spazio:0.18 bilancio:0.17  \n",
       "00027700442                                                                                                                  ape:0.68 redazione:0.47 tecnico:0.45 incarico:0.34  \n",
       "00169780699                                 proietti:0.45 camillo:0.41 dd:0.25 pomilio:0.25 adibita:0.19 annunziata:0.19 espositivo:0.18 impianto:0.18 camerale:0.17 rossa:0.17  \n",
       "00095270930                               lavori:0.34 impiantistici:0.34 tdm:0.33 successivi:0.32 preliminari:0.31 cron:0.31 convento:0.30 cdata:0.25 francesco:0.23 edili:0.21  \n",
       "00067980086                                        aule:0.62 risanamento:0.43 materiale:0.33 itis:0.28 pitturazione:0.28 teli:0.27 ferramenta:0.19 protezione:0.17 consumo:0.16  \n",
       "00053830451                                            negri:0.50 pn:0.40 de:0.29 mater:0.29 edile:0.21 ditta:0.20 fivizzano:0.18 fornitura:0.17 pontremoli:0.17 materiale:0.17  \n",
       "00111630513                                                                             cdataimponibile:0.63 pieghevoli:0.46 orientamento:0.41 stampa:0.31 as:0.30 fattura:0.21  \n",
       "00004800017             lorientamento:0.49 ricevute:0.43 blocchi:0.36 fogli:0.34 formato:0.33 pubblicitario:0.33 realizzazione:0.20 materiale:0.17 acquisto:0.15 fornitura:0.14  \n",
       "00069880391                         acquedotti:0.42 frutteto:0.26 lot:0.26 tutori:0.25 suddiviso:0.24 sperimentali:0.22 sette:0.21 rubinetti:0.21 obiettivo:0.21 fornitura:0.20  \n",
       "00173270596                                          serra:0.57 agraria:0.48 azienda:0.39 piante:0.36 pagamento:0.21 fattura:0.20 gerani:0.15 tipi:0.14 piantine:0.12 orto:0.11  \n",
       "00026980888                                        gpl:0.54 fattura:0.49 pagamento:0.40 pertini:0.31 relativa:0.21 fornitura:0.21 plesso:0.20 iva:0.19 scolastico:0.17 via:0.14  \n",
       "00146390760                                                                                                            distributori:0.56 automatici:0.54 bevande:0.53 gara:0.35  \n",
       "00082410663                         commissione:0.51 vigilanza:0.47 ricercatori:0.34 affissioni:0.29 presso:0.27 notte:0.26 castello:0.23 manifesti:0.22 piazza:0.20 parco:0.19  \n",
       "00082630435                         illuminanti:0.41 corpi:0.40 led:0.36 fornitura:0.24 cdatamostra:0.23 illuminazione:0.23 monumenti:0.19 storico:0.14 lippi:0.12 urbiche:0.12  "
      ]
     },
     "execution_count": 123,
     "metadata": {},
     "output_type": "execute_result"
    }
   ],
   "source": [
    "df_most_similar"
   ]
  },
  {
   "cell_type": "code",
   "execution_count": 113,
   "metadata": {},
   "outputs": [
    {
     "data": {
      "text/plain": [
       "['amt:0.50#mese:0.35#ct:0.26#affitto:0.25#piscine:0.25#abbonamento:0.23#cap:0.20#nesima:0.20#spazio:0.18#bilancio:0.17',\n",
       " 'ape:0.68#redazione:0.47#tecnico:0.45#incarico:0.34',\n",
       " 'proietti:0.45#camillo:0.41#dd:0.25#pomilio:0.25#adibita:0.19#annunziata:0.19#espositivo:0.18#impianto:0.18#camerale:0.17#rossa:0.17',\n",
       " 'lavori:0.34#impiantistici:0.34#tdm:0.33#successivi:0.32#preliminari:0.31#cron:0.31#convento:0.30#cdata:0.25#francesco:0.23#edili:0.21',\n",
       " 'aule:0.62#risanamento:0.43#materiale:0.33#itis:0.28#pitturazione:0.28#teli:0.27#ferramenta:0.19#protezione:0.17#consumo:0.16',\n",
       " 'negri:0.50#pn:0.40#de:0.29#mater:0.29#edile:0.21#ditta:0.20#fivizzano:0.18#fornitura:0.17#pontremoli:0.17#materiale:0.17',\n",
       " 'cdataimponibile:0.63#pieghevoli:0.46#orientamento:0.41#stampa:0.31#as:0.30#fattura:0.21',\n",
       " 'lorientamento:0.49#ricevute:0.43#blocchi:0.36#fogli:0.34#formato:0.33#pubblicitario:0.33#realizzazione:0.20#materiale:0.17#acquisto:0.15#fornitura:0.14',\n",
       " 'acquedotti:0.42#frutteto:0.26#lot:0.26#tutori:0.25#suddiviso:0.24#sperimentali:0.22#sette:0.21#rubinetti:0.21#obiettivo:0.21#fornitura:0.20',\n",
       " 'serra:0.57#agraria:0.48#azienda:0.39#piante:0.36#pagamento:0.21#fattura:0.20#gerani:0.15#tipi:0.14#piantine:0.12#orto:0.11',\n",
       " 'gpl:0.54#fattura:0.49#pagamento:0.40#pertini:0.31#relativa:0.21#fornitura:0.21#plesso:0.20#iva:0.19#scolastico:0.17#via:0.14',\n",
       " 'distributori:0.56#automatici:0.54#bevande:0.53#gara:0.35',\n",
       " 'commissione:0.51#vigilanza:0.47#ricercatori:0.34#affissioni:0.29#presso:0.27#notte:0.26#castello:0.23#manifesti:0.22#piazza:0.20#parco:0.19',\n",
       " 'illuminanti:0.41#corpi:0.40#led:0.36#fornitura:0.24#cdatamostra:0.23#illuminazione:0.23#monumenti:0.19#storico:0.14#lippi:0.12#urbiche:0.12']"
      ]
     },
     "execution_count": 113,
     "metadata": {},
     "output_type": "execute_result"
    }
   ],
   "source": [
    "['#'.join(top_feats_in_doc(m,  tf.get_feature_names(), el, 10)) for el in i]"
   ]
  },
  {
   "cell_type": "code",
   "execution_count": 108,
   "metadata": {},
   "outputs": [
    {
     "data": {
      "text/plain": [
       "'lorientamento:0.49#ricevute:0.43#blocchi:0.36#fogli:0.34#formato:0.33#pubblicitario:0.33#realizzazione:0.20#materiale:0.17#acquisto:0.15#fornitura:0.14'"
      ]
     },
     "execution_count": 108,
     "metadata": {},
     "output_type": "execute_result"
    }
   ],
   "source": [
    "'#'.join(top_feats_in_doc(m,  tf.get_feature_names(), 300, 10))"
   ]
  },
  {
   "cell_type": "code",
   "execution_count": 110,
   "metadata": {},
   "outputs": [
    {
     "data": {
      "text/plain": [
       "['serra:0.57',\n",
       " 'agraria:0.48',\n",
       " 'azienda:0.39',\n",
       " 'piante:0.36',\n",
       " 'pagamento:0.21',\n",
       " 'fattura:0.20',\n",
       " 'gerani:0.15',\n",
       " 'tipi:0.14',\n",
       " 'piantine:0.12',\n",
       " 'orto:0.11']"
      ]
     },
     "execution_count": 110,
     "metadata": {},
     "output_type": "execute_result"
    }
   ],
   "source": [
    "top_feats_in_doc(m,  tf.get_feature_names(), 5335, 10)"
   ]
  },
  {
   "cell_type": "code",
   "execution_count": null,
   "metadata": {},
   "outputs": [],
   "source": [
    "from utils import enrich_data_with_indicepa as enrich \n",
    "df_enriched = enrich.enrich_data(df_most_similar.index.astype(str))\n",
    "print(df_enriched.shape)\n",
    "df_enriched.set_index(\"cf\", inplace = True)"
   ]
  },
  {
   "cell_type": "code",
   "execution_count": null,
   "metadata": {},
   "outputs": [],
   "source": [
    "df_enriched"
   ]
  },
  {
   "cell_type": "code",
   "execution_count": null,
   "metadata": {},
   "outputs": [],
   "source": [
    "cf_set_amm"
   ]
  },
  {
   "cell_type": "code",
   "execution_count": null,
   "metadata": {},
   "outputs": [],
   "source": [
    "\n",
    "import pandas as pd\n",
    "import numpy\n",
    "import csv\n",
    "\n",
    "file_amministrazioni = \"data/indicePA/amministrazioni.txt\"\n",
    "file_aoo = \"data/indicePA/aoo.txt\"\n",
    "file_ou = \"data/indicePA/ou.txt\"\n",
    "file_PEC_CECPAC = \"data/indicePA/pec.txt\"\n",
    "file_serv_fatt = \"data/indicePA/serv_fatt.txt\"\n",
    "\n",
    "df_amm = pd.read_csv(file_amministrazioni, sep=\"\\t\", dtype=object)\n",
    "df_amm = df_amm[[ 'cod_amm','Cf','Comune', 'Provincia', 'Regione', 'Indirizzo', 'tipologia_istat', 'tipologia_amm', 'acronimo']]\n",
    "cf_set_amm = set(df_amm.Cf.values)\n",
    "\n",
    "df_serv_fatt = pd.read_csv(file_serv_fatt, sep=\"\\t\", dtype=object)\n",
    "df_serv_fatt = df_serv_fatt.rename(columns={'cf': 'Cf'})\n",
    "\n",
    "cf_set_serv_fatt = set(df_serv_fatt.Cf.values)\n",
    "cf_set_amm = set(df_amm.Cf.values)\n",
    "\n",
    "columns = [\"cf\", \"cod_amm\", \"regione\", \"provincia\", \"comune\", \"indirizzo\", \"tipologia_istat\", \"tipologia_amm\"]\n",
    "\n",
    "final_df = pd.DataFrame(columns=columns)\n",
    "\n",
    "count = 0\n",
    "\n",
    "for cf in data:\n",
    "    if(cf in cf_set_amm):\n",
    "        print(\"pippo\")    \n",
    "        try:\n",
    "            cod_amm = df_amm.loc[df_amm['Cf'] == cf].iloc[0]['cod_amm']\n",
    "            take0 = df_amm.loc[df_amm['cod_amm'] == cod_amm].iloc[0]\n",
    "            regione = take0['Regione'].replace(\"\\t\", \"\")\n",
    "            provincia = str(take0['Provincia']).replace(\"\\t\", \"\")\n",
    "            comune = take0['Comune'].replace(\"\\t\", \"\")\n",
    "            indirizzo = take0['Indirizzo'].replace(\"\\t\", \"\")\n",
    "            tipologia_istat = take0['tipologia_istat'].replace(\"\\t\", \"\")\n",
    "            tipologia_amm = take0['tipologia_amm'].replace(\"\\t\", \"\")\n",
    "\n",
    "            res = [cf, cod_amm, regione, provincia, comune, indirizzo, tipologia_istat, tipologia_amm]\n",
    "            final_df.loc[len(final_df)] = res\n",
    "        except: # catch *all* exceptions\n",
    "            print(\"CF in df_amm\",cf)\n",
    "    elif(cf in cf_set_serv_fatt):\n",
    "        print(\"pluto\")    \n",
    "        try:\n",
    "            print(\"ciao\")\n",
    "            cod_amm = df_serv_fatt.loc[df_serv_fatt['Cf'] == cf].iloc[0]['cod_amm']\n",
    "            take0 = df_amm.loc[df_amm['cod_amm'] == cod_amm].iloc[0]\n",
    "            regione = take0['Regione'].replace(\"\\t\", \"\")\n",
    "            provincia = str(take0['Provincia']).replace(\"\\t\", \"\")\n",
    "            comune = take0['Comune'].replace(\"\\t\", \"\")\n",
    "            indirizzo = take0['Indirizzo'].replace(\"\\t\", \"\")\n",
    "            tipologia_istat = take0['tipologia_istat'].replace(\"\\t\", \"\")\n",
    "            tipologia_amm = take0[\"tipologia_amm\"].replace(\"\\t\", \"\")\n",
    "            res = [cf, cod_amm, regione, provincia, comune, indirizzo, tipologia_istat, tipologia_amm]\n",
    "            final_df.loc[len(final_df)] = res\n",
    "        except: # catch *all* exceptions\n",
    "            print(\"CF in df_serv_fatt\",cf)\n",
    "    else:\n",
    "        count = count + 1\n",
    "\n",
    "print(\"Totale cf non presenti in IndicePA: \", count)"
   ]
  },
  {
   "cell_type": "code",
   "execution_count": null,
   "metadata": {},
   "outputs": [],
   "source": [
    "df_serv_fatt.loc[df_serv_fatt['Cf']== 192730299]"
   ]
  },
  {
   "cell_type": "code",
   "execution_count": null,
   "metadata": {},
   "outputs": [],
   "source": [
    "df.loc[df['cfStrutturaProponente'].astype(str) == '192730299']"
   ]
  },
  {
   "cell_type": "markdown",
   "metadata": {},
   "source": [
    "### Confronto distribuzioni similarità"
   ]
  },
  {
   "cell_type": "markdown",
   "metadata": {},
   "source": [
    "### Dettaglio documenti strutture (i.e. PA, Aggiudicatari) simili"
   ]
  },
  {
   "cell_type": "code",
   "execution_count": null,
   "metadata": {},
   "outputs": [],
   "source": [
    "file_name = \"data/oggetti_aggregati.pickle\"\n",
    "\n",
    "t0 = time()\n",
    "df = pd.read_pickle(file_name)\n",
    "total = time() - t0\n",
    "\n",
    "print(\"Dataset loaded in %0.3f sec\" % total)\n",
    "\n",
    "df.info()"
   ]
  },
  {
   "cell_type": "code",
   "execution_count": null,
   "metadata": {},
   "outputs": [],
   "source": [
    "from utils import enrich_data_with_indicepa as enrich \n",
    "df_enriched = enrich.enrich_data(df.codiceFiscaleStruttura.astype(str))\n",
    "print(df_enriched.shape)\n",
    "df_enriched.set_index(\"cf\", inplace = True)"
   ]
  },
  {
   "cell_type": "code",
   "execution_count": null,
   "metadata": {},
   "outputs": [],
   "source": []
  },
  {
   "cell_type": "code",
   "execution_count": null,
   "metadata": {},
   "outputs": [],
   "source": [
    "i =  set(I_embeddings[row]).intersection(set(I_tfidf[row]))\n",
    "print(\"Documenti in comune: \", i)"
   ]
  },
  {
   "cell_type": "code",
   "execution_count": null,
   "metadata": {},
   "outputs": [],
   "source": [
    "df.iloc[[iloc_document_to_compare]]"
   ]
  },
  {
   "cell_type": "code",
   "execution_count": null,
   "metadata": {
    "scrolled": true
   },
   "outputs": [],
   "source": [
    "pd.options.display.max_colwidth = 500\n",
    "df_I_embedding = df.iloc[I_embeddings[iloc_document_to_compare]]\n",
    "df_I_embedding[\"codiceFiscaleStruttura\"] = df_I_embedding[\"codiceFiscaleStruttura\"].astype(str)\n",
    "df_I_embedding.set_index(\"codiceFiscaleStruttura\", inplace= True)\n",
    "\n",
    "#df_I_embedding.head()\n",
    "#aggiunge info da indice Pa se il codice fiscale è inluso\n",
    "df_I_embedding.join(df_enriched)"
   ]
  },
  {
   "cell_type": "code",
   "execution_count": null,
   "metadata": {},
   "outputs": [],
   "source": [
    "pd.options.display.max_colwidth = 500\n",
    "\n",
    "df_I_tfidf = df.iloc[I_tfidf[iloc_document_to_compare]]\n",
    "df_I_tfidf[\"codiceFiscaleStruttura\"] = df_I_tfidf[\"codiceFiscaleStruttura\"].astype(str)\n",
    "df_I_tfidf.set_index(\"codiceFiscaleStruttura\", inplace= True)\n",
    "\n",
    "#df_I_embedding.head()\n",
    "#aggiunge info da indice Pa se il codice fiscale è inluso\n",
    "df_I_tfidf.join(df_enriched)\n"
   ]
  },
  {
   "cell_type": "code",
   "execution_count": null,
   "metadata": {},
   "outputs": [],
   "source": []
  },
  {
   "cell_type": "code",
   "execution_count": null,
   "metadata": {},
   "outputs": [],
   "source": []
  },
  {
   "cell_type": "code",
   "execution_count": null,
   "metadata": {},
   "outputs": [],
   "source": []
  },
  {
   "cell_type": "code",
   "execution_count": null,
   "metadata": {},
   "outputs": [],
   "source": []
  },
  {
   "cell_type": "code",
   "execution_count": null,
   "metadata": {},
   "outputs": [],
   "source": [
    "D_embeddings[:10]"
   ]
  },
  {
   "cell_type": "code",
   "execution_count": null,
   "metadata": {},
   "outputs": [],
   "source": [
    "[D_embeddings[iloc_document_to_compare]]"
   ]
  },
  {
   "cell_type": "code",
   "execution_count": null,
   "metadata": {},
   "outputs": [],
   "source": [
    "[D_tfidf[iloc_document_to_compare]]"
   ]
  },
  {
   "cell_type": "code",
   "execution_count": 83,
   "metadata": {},
   "outputs": [],
   "source": []
  },
  {
   "cell_type": "code",
   "execution_count": null,
   "metadata": {},
   "outputs": [],
   "source": [
    "#visualizza i termini con i valori piu alti di tf-idf\n",
    "#top_feats_in_doc(matrix,  tf.get_feature_names(), 1000, 5)"
   ]
  },
  {
   "cell_type": "code",
   "execution_count": null,
   "metadata": {},
   "outputs": [],
   "source": []
  },
  {
   "cell_type": "code",
   "execution_count": null,
   "metadata": {},
   "outputs": [],
   "source": []
  },
  {
   "cell_type": "code",
   "execution_count": null,
   "metadata": {},
   "outputs": [],
   "source": [
    "type(D_embeddings[0])"
   ]
  },
  {
   "cell_type": "code",
   "execution_count": null,
   "metadata": {},
   "outputs": [],
   "source": [
    "df[df[\"tipoStruttura\"] == \"PA\"].shape"
   ]
  },
  {
   "cell_type": "code",
   "execution_count": null,
   "metadata": {},
   "outputs": [],
   "source": [
    "cosine_iterator = cosine_similarity(matrix)"
   ]
  },
  {
   "cell_type": "code",
   "execution_count": null,
   "metadata": {
    "scrolled": true
   },
   "outputs": [],
   "source": [
    "from scipy.sparse import lil_matrix\n",
    "\n",
    "t0 = time()\n",
    "\n",
    "cosine_matrix = lil_matrix((matrix.shape[0], matrix.shape[0]))\n",
    "#cosine_matrix = lil_matrix((1000, 1000))\n",
    "counter = 0\n",
    "for x in cosine_iterator:\n",
    "    if(x[2]>= 0.6):\n",
    "        cosine_matrix[x[0],x[1]] = x[2]\n",
    "        counter += 1\n",
    "        \n",
    "total = time() - t0\n",
    "print(\"Cosine Matrix done in %0.3f sec\" % total)\n",
    "print(\"There are %d pairs with a cosine similarity greater than 0.6\" % counter)\n",
    "\n",
    "np.save(\"data/n6/cosine_matrix\", cosine_matrix)"
   ]
  },
  {
   "cell_type": "code",
   "execution_count": null,
   "metadata": {},
   "outputs": [],
   "source": [
    "counter"
   ]
  },
  {
   "cell_type": "code",
   "execution_count": null,
   "metadata": {},
   "outputs": [],
   "source": [
    "#from multiprocessing import Pool\n",
    "#from scipy import spatial\n",
    "#from time import time\n",
    "\n",
    "#n = matrix.shape[0]\n",
    "#lst = ((i, j) for i in range(0, n) for j in range(i+1,n))\n",
    "\n",
    "#def cosine(p):\n",
    "#    i = p[0]\n",
    "#    j = p[1]\n",
    "    \n",
    "#    if spatial.distance.cosine(matrix[i], matrix[j]) > 0.6:\n",
    "#        return i,j, 1 - spatial.distance.cosine(matrix[i], matrix[j])\n",
    "\n",
    "##if __name__ == '__main__':\n",
    "\n",
    "#t0 = time()\n",
    "#p = Pool(6)\n",
    "#a = p.imap(cosine, lst)\n",
    "#total = time() - t0\n",
    "#print(total)\n",
    "#a = filter(None, a)"
   ]
  },
  {
   "cell_type": "code",
   "execution_count": null,
   "metadata": {},
   "outputs": [],
   "source": []
  },
  {
   "cell_type": "code",
   "execution_count": null,
   "metadata": {},
   "outputs": [],
   "source": [
    "counter = 0\n",
    "for el in a:\n",
    "    counter += 1"
   ]
  },
  {
   "cell_type": "code",
   "execution_count": null,
   "metadata": {},
   "outputs": [],
   "source": [
    "print(counter)"
   ]
  },
  {
   "cell_type": "markdown",
   "metadata": {},
   "source": [
    "## References\n",
    "\n",
    "[1] https://buhrmann.github.io/tfidf-analysis.html"
   ]
  },
  {
   "cell_type": "code",
   "execution_count": null,
   "metadata": {},
   "outputs": [],
   "source": []
  }
 ],
 "metadata": {
  "kernelspec": {
   "display_name": "Python 3",
   "language": "python",
   "name": "python3"
  },
  "language_info": {
   "codemirror_mode": {
    "name": "ipython",
    "version": 3
   },
   "file_extension": ".py",
   "mimetype": "text/x-python",
   "name": "python",
   "nbconvert_exporter": "python",
   "pygments_lexer": "ipython3",
   "version": "3.6.5"
  }
 },
 "nbformat": 4,
 "nbformat_minor": 2
}
