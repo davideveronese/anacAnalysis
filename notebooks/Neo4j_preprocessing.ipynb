{
 "cells": [
  {
   "cell_type": "markdown",
   "metadata": {},
   "source": [
    "# Graph generation"
   ]
  },
  {
   "cell_type": "code",
   "execution_count": 1,
   "metadata": {},
   "outputs": [],
   "source": [
    "#import warnings\n",
    "#warnings.filterwarnings('ignore', category=DeprecationWarning, module='.*/IPython/.*')\n",
    "\n",
    "from utils import textual_analysis\n",
    "\n",
    "import matplotlib.pyplot as plt\n",
    "\n",
    "import numpy as np\n",
    "import pandas as pd\n",
    "import csv\n",
    "import datetime\n",
    "from time import time\n",
    "\n",
    "from IPython.display import Image\n",
    "from IPython.display import display"
   ]
  },
  {
   "cell_type": "code",
   "execution_count": 50,
   "metadata": {},
   "outputs": [],
   "source": [
    "class Struttura(object):\n",
    "    def __init__(self, id_s=None, codiceFiscale=None, tipoStruttura=None, outlinks=None, oggetto=None, tfidfAbstract=None):\n",
    "        self.id_s = id_s\n",
    "        self.codiceFiscale = codiceFiscale\n",
    "        self.tipoStruttura = tipoStruttura\n",
    "        self.outlinks = outlinks\n",
    "        self.oggetto = oggetto\n",
    "        self.tfidfAbstract = tfidfAbstract\n",
    "\n",
    "class Edge(object):\n",
    "    def __init__(self, src=None, dst=None, score=None):\n",
    "        self.src = src\n",
    "        self.dst = dst\n",
    "        self.score = score\n",
    "    def __str__(self):\n",
    "        return str(self.src) + \"->\" +  str(self.dst) + \" : \" + str(self.score)   \n",
    "\n",
    "def from_oggettiAggregati_to_Struttura(id_series, knn, bestTermsStr, seriesOggettiAggregati):\n",
    "    return Struttura(id_s=id_series, \n",
    "                     codiceFiscale = seriesOggettiAggregati[\"codiceFiscaleStruttura\"], \n",
    "                     tipoStruttura = seriesOggettiAggregati[\"tipoStruttura\"], \n",
    "                     outlinks = knn, \n",
    "                     oggetto = seriesOggettiAggregati[\"oggetto\"], \n",
    "                     tfidfAbstract = bestTermsStr)\n",
    "  "
   ]
  },
  {
   "cell_type": "code",
   "execution_count": 51,
   "metadata": {},
   "outputs": [],
   "source": [
    "def getMinOrDefault(array, default_value, threshold = 0.6):\n",
    "    \"\"\"\n",
    "    return the index of the smallest element compared to the threshold\n",
    "    \"\"\"\n",
    "    res = D.shape[1]\n",
    "    try:\n",
    "        res = np.min(np.where(array < threshold))\n",
    "    except:\n",
    "        return res\n",
    "    return res"
   ]
  },
  {
   "cell_type": "code",
   "execution_count": 52,
   "metadata": {},
   "outputs": [
    {
     "name": "stdout",
     "output_type": "stream",
     "text": [
      "Dataset loaded in 0.214 sec\n",
      "<class 'pandas.core.frame.DataFrame'>\n",
      "RangeIndex: 307265 entries, 0 to 307264\n",
      "Data columns (total 3 columns):\n",
      "codiceFiscaleStruttura    307265 non-null object\n",
      "oggetto                   307265 non-null object\n",
      "tipoStruttura             307265 non-null object\n",
      "dtypes: object(3)\n",
      "memory usage: 7.0+ MB\n"
     ]
    }
   ],
   "source": [
    "df_file_name = \"data/oggetti_aggregati.pickle\"\n",
    "\n",
    "t = time()\n",
    "df = pd.read_pickle(df_file_name)\n",
    "total = time() - t\n",
    "\n",
    "print(\"Dataset loaded in %0.3f sec\" % total)\n",
    "\n",
    "df.info()"
   ]
  },
  {
   "cell_type": "code",
   "execution_count": 53,
   "metadata": {},
   "outputs": [],
   "source": [
    "import pickle\n",
    "tf = pickle.load(open(\"data/n6/tf.pickle\", \"rb\"))\n",
    "\n",
    "import scipy\n",
    "m = scipy.sparse.load_npz('data/n6/sparse_matrix_tfidf.npz')"
   ]
  },
  {
   "cell_type": "code",
   "execution_count": 54,
   "metadata": {},
   "outputs": [],
   "source": [
    "I = np.load(\"data/n6/normalized_matrix_embedding_52004terms_weigthedTrue.npysimilarity_I_1000_k.npy\")\n",
    "D = np.load(\"data/n6/normalized_matrix_embedding_52004terms_weigthedTrue.npysimilarity_D_1000_k.npy\")\n",
    "\n",
    "#I = np.load(\"data/n6/normalized_matrix_embedding_52004terms_weigthedFalse.npysimilarity_I_100_k.npy\")\n",
    "#D = np.load(\"data/n6/normalized_matrix_embedding_52004terms_weigthedFalse.npysimilarity_D_100_k.npy\")\n",
    "\n",
    "#I = np.load(\"data/n6/sparse_matrix_tfidf.npzsimilarity_I_100_k.npy\")\n",
    "#D = np.load(\"data/n6/sparse_matrix_tfidf.npzsimilarity_D_100_k.npy\")"
   ]
  },
  {
   "cell_type": "code",
   "execution_count": 55,
   "metadata": {},
   "outputs": [
    {
     "name": "stdout",
     "output_type": "stream",
     "text": [
      "Min indices done in 0.038 sec\n"
     ]
    }
   ],
   "source": [
    "#filtra KNN con soglia maggiore ad una data threshold\n",
    "t0 = time()\n",
    "\n",
    "d = D.shape[1]\n",
    "min_knn_indices = (getMinOrDefault(row, d) for row in D)\n",
    "total = time() - t0\n",
    "\n",
    "print(\"Min indices done in %0.3f sec\" % total)"
   ]
  },
  {
   "cell_type": "code",
   "execution_count": 58,
   "metadata": {},
   "outputs": [],
   "source": [
    "i = 13\n",
    "a = df.iloc[[i]]\n",
    "s = \"\"\n",
    "\n",
    "for i in df.index:\n",
    "    tfidf_text = ' '.join(textual_analysis.top_feats_in_doc(m,  tf.get_feature_names(), i ,20))\n",
    "    data = df.iloc[[i]]\n",
    "    knn = next(min_knn_indices)\n",
    "    s = from_oggettiAggregati_to_Struttura(i, knn, tfidf_text, data)\n",
    "    \n",
    "    if(i == 10):\n",
    "        break\n"
   ]
  },
  {
   "cell_type": "code",
   "execution_count": null,
   "metadata": {},
   "outputs": [],
   "source": []
  },
  {
   "cell_type": "code",
   "execution_count": 61,
   "metadata": {},
   "outputs": [],
   "source": [
    "x = []\n",
    "for o in range(knn):\n",
    "    x.append(Edge(i, o, round(D[i][o],2)))"
   ]
  },
  {
   "cell_type": "code",
   "execution_count": 66,
   "metadata": {},
   "outputs": [
    {
     "data": {
      "text/plain": [
       "10"
      ]
     },
     "execution_count": 66,
     "metadata": {},
     "output_type": "execute_result"
    }
   ],
   "source": [
    "i"
   ]
  },
  {
   "cell_type": "code",
   "execution_count": 65,
   "metadata": {},
   "outputs": [
    {
     "name": "stdout",
     "output_type": "stream",
     "text": [
      "10->12 : 0.83\n"
     ]
    }
   ],
   "source": [
    "print(x[12])"
   ]
  },
  {
   "cell_type": "code",
   "execution_count": 68,
   "metadata": {},
   "outputs": [
    {
     "data": {
      "text/plain": [
       "0.8275771"
      ]
     },
     "execution_count": 68,
     "metadata": {},
     "output_type": "execute_result"
    }
   ],
   "source": [
    "D[10][12]"
   ]
  },
  {
   "cell_type": "code",
   "execution_count": null,
   "metadata": {},
   "outputs": [],
   "source": []
  },
  {
   "cell_type": "code",
   "execution_count": null,
   "metadata": {},
   "outputs": [],
   "source": [
    "min_knn_indices[2226]"
   ]
  },
  {
   "cell_type": "code",
   "execution_count": null,
   "metadata": {},
   "outputs": [],
   "source": [
    "print(a)"
   ]
  },
  {
   "cell_type": "code",
   "execution_count": null,
   "metadata": {},
   "outputs": [],
   "source": [
    "[]"
   ]
  },
  {
   "cell_type": "code",
   "execution_count": null,
   "metadata": {},
   "outputs": [],
   "source": [
    "struttura = Struttura(id=, codiceFiscale=\"cf\", tipoStruttura=\"PA\", outlinks=5, oggetto=\"questa è una prova\", tfidfAbstract=\"pureQuesta\")\n",
    "  "
   ]
  },
  {
   "cell_type": "code",
   "execution_count": null,
   "metadata": {},
   "outputs": [],
   "source": [
    "struttura.codiceFiscale"
   ]
  },
  {
   "cell_type": "code",
   "execution_count": null,
   "metadata": {},
   "outputs": [],
   "source": [
    "a[\"codiceFiscaleStruttura\"]"
   ]
  },
  {
   "cell_type": "code",
   "execution_count": null,
   "metadata": {},
   "outputs": [],
   "source": [
    "df = df.iloc[3:]"
   ]
  },
  {
   "cell_type": "code",
   "execution_count": null,
   "metadata": {},
   "outputs": [],
   "source": [
    "df.reset_index(inplace = True)"
   ]
  },
  {
   "cell_type": "code",
   "execution_count": null,
   "metadata": {},
   "outputs": [],
   "source": [
    "df.index"
   ]
  },
  {
   "cell_type": "code",
   "execution_count": null,
   "metadata": {},
   "outputs": [],
   "source": [
    "\n",
    "\n",
    "#I[2226][:min_knn_indices[2226]]"
   ]
  },
  {
   "cell_type": "code",
   "execution_count": null,
   "metadata": {},
   "outputs": [],
   "source": [
    "res"
   ]
  },
  {
   "cell_type": "code",
   "execution_count": null,
   "metadata": {},
   "outputs": [],
   "source": []
  },
  {
   "cell_type": "code",
   "execution_count": null,
   "metadata": {},
   "outputs": [],
   "source": [
    "best_docs = I_matrix1[iloc_document_to_compare]\n",
    "matrix_docs = df_aggregati.iloc[best_docs]\n",
    "matrix_docs[\"top_terms\"] = textual_analysis.get_best_terms_frequencies(m, tf.get_feature_names(), best_docs, 20)\n",
    "matrix_docs[\"cosine_similarity\"] = D_matrix1[iloc_document_to_compare]\n",
    "matrix_docs"
   ]
  },
  {
   "cell_type": "code",
   "execution_count": null,
   "metadata": {},
   "outputs": [],
   "source": [
    "getMin(D, 2226, 0.6)"
   ]
  },
  {
   "cell_type": "code",
   "execution_count": null,
   "metadata": {},
   "outputs": [],
   "source": []
  },
  {
   "cell_type": "code",
   "execution_count": null,
   "metadata": {},
   "outputs": [],
   "source": []
  }
 ],
 "metadata": {
  "kernelspec": {
   "display_name": "Python 3",
   "language": "python",
   "name": "python3"
  },
  "language_info": {
   "codemirror_mode": {
    "name": "ipython",
    "version": 3
   },
   "file_extension": ".py",
   "mimetype": "text/x-python",
   "name": "python",
   "nbconvert_exporter": "python",
   "pygments_lexer": "ipython3",
   "version": "3.6.5"
  }
 },
 "nbformat": 4,
 "nbformat_minor": 2
}
