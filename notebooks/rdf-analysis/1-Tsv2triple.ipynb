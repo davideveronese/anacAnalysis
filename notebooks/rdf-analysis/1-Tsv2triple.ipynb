{
 "cells": [
  {
   "cell_type": "code",
   "execution_count": 6,
   "metadata": {},
   "outputs": [],
   "source": [
    "import os\n",
    "import sys\n",
    "import json\n",
    "import pandas as pd\n",
    "from util.converter import *\n",
    "\n",
    "sys.path.append(os.path.abspath(\".\"))\n",
    "from rdflib import Graph, Literal, BNode, Namespace, RDF, URIRef, Namespace"
   ]
  },
  {
   "cell_type": "markdown",
   "metadata": {},
   "source": [
    "### Input Output file"
   ]
  },
  {
   "cell_type": "code",
   "execution_count": 2,
   "metadata": {},
   "outputs": [],
   "source": [
    "input_file  = \"/home/chris/Workspace/app/anacDATA/125k_anacDataset_postprocessed.tsv\"\n",
    "output_file = \"/home/chris/Workspace/app/anacDATA/triple/125k_triples.ttl\""
   ]
  },
  {
   "cell_type": "markdown",
   "metadata": {},
   "source": [
    "### Convert to triples"
   ]
  },
  {
   "cell_type": "code",
   "execution_count": 3,
   "metadata": {},
   "outputs": [
    {
     "name": "stdout",
     "output_type": "stream",
     "text": [
      "0 100000 \n",
      "\n",
      "--- Triples generated ---\n",
      "CPU times: user 3min 57s, sys: 708 ms, total: 3min 58s\n",
      "Wall time: 3min 58s\n"
     ]
    }
   ],
   "source": [
    "%%time\n",
    "rdf_conv = RDFConverter(input_file)\n",
    "rdf_conv.convert()"
   ]
  },
  {
   "cell_type": "markdown",
   "metadata": {},
   "source": [
    "### Serialize triples"
   ]
  },
  {
   "cell_type": "code",
   "execution_count": 5,
   "metadata": {},
   "outputs": [
    {
     "name": "stdout",
     "output_type": "stream",
     "text": [
      "Triples serialized on: /home/chris/Workspace/app/anacDATA/triple/125k_triples.ttl\n",
      "Types serialized on: /home/chris/Workspace/app/anacDATA/triple/types_125k_triples.ttl.txt\n"
     ]
    }
   ],
   "source": [
    "rdf_conv.serialize(output_file)"
   ]
  },
  {
   "cell_type": "code",
   "execution_count": 6,
   "metadata": {},
   "outputs": [
    {
     "name": "stdout",
     "output_type": "stream",
     "text": [
      "Input file lines: 125000\n",
      "Number of triples: 1842547\n",
      "\n",
      "Input file size 76109693\n",
      "Output file size 74285595\n"
     ]
    }
   ],
   "source": [
    "print(\"Input file lines:\",  125000)\n",
    "print(\"Number of triples:\", len(rdf_conv.graph))\n",
    "print()\n",
    "print(\"Input file size\",  os.path.getsize(input_file))\n",
    "print(\"Output file size\", os.path.getsize(output_file))"
   ]
  }
 ],
 "metadata": {
  "kernelspec": {
   "display_name": "Python 3",
   "language": "python",
   "name": "python3"
  },
  "language_info": {
   "codemirror_mode": {
    "name": "ipython",
    "version": 3
   },
   "file_extension": ".py",
   "mimetype": "text/x-python",
   "name": "python",
   "nbconvert_exporter": "python",
   "pygments_lexer": "ipython3",
   "version": "3.5.4"
  }
 },
 "nbformat": 4,
 "nbformat_minor": 2
}
