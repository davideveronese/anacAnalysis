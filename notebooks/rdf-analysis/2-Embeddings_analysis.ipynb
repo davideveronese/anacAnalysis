{
 "cells": [
  {
   "cell_type": "code",
   "execution_count": 1,
   "metadata": {},
   "outputs": [],
   "source": [
    "import os\n",
    "import sys\n",
    "import numpy as np\n",
    "from util.misc import *\n",
    "from gensim.models import Word2Vec\n",
    "sys.path.append(os.path.abspath(\".\"))\n",
    "\n",
    "import matplotlib.pyplot as plt\n",
    "plt.style.use('ggplot')\n",
    "%matplotlib inline"
   ]
  },
  {
   "cell_type": "code",
   "execution_count": 2,
   "metadata": {},
   "outputs": [],
   "source": [
    "walks_file_path = \"/home/chris/Workspace/app/anacDATA/triple/embeddings/embedding_125k_triples.ttl.txt\"\n",
    "types_file_path = \"/home/chris/Workspace/app/anacDATA/triple/embeddings/types_125k_triples.ttl.txt\"\n",
    "\n",
    "vocab_sequences = get_sequences(walks_file_path)\n",
    "train_sequences = get_sequences(walks_file_path)\n",
    "typeof = get_types(types_file_path)"
   ]
  },
  {
   "cell_type": "code",
   "execution_count": 3,
   "metadata": {},
   "outputs": [
    {
     "data": {
      "text/plain": [
       "(4568289, 8581860)"
      ]
     },
     "execution_count": 3,
     "metadata": {},
     "output_type": "execute_result"
    }
   ],
   "source": [
    "model = Word2Vec(min_count=1, window=3, negative=15, size=150, sg=1)\n",
    "# model = Word2Vec(min_count=1, window=3, size=150)\n",
    "\n",
    "model.build_vocab(vocab_sequences)\n",
    "model.train(train_sequences, total_examples=model.corpus_count, epochs=15)"
   ]
  },
  {
   "cell_type": "code",
   "execution_count": 4,
   "metadata": {},
   "outputs": [
    {
     "data": {
      "text/plain": [
       "[('http://td.com/fornitore/f4417', 0.9937301278114319),\n",
       " ('http://td.com/fornitore/f35994', 0.9934281706809998),\n",
       " ('http://td.com/fornitore/f49322', 0.993377685546875),\n",
       " ('http://td.com/fornitore/f4527', 0.993183434009552),\n",
       " ('http://td.com/fornitore/f35799', 0.9929043650627136),\n",
       " ('http://td.com/fornitore/f7919', 0.9926936030387878),\n",
       " ('http://td.com/fornitore/f38620', 0.9926728010177612),\n",
       " ('http://td.com/gara/g14573', 0.9922854900360107),\n",
       " ('http://td.com/gara/g89168', 0.9921728372573853),\n",
       " ('http://td.com/fornitore/f37761', 0.9921541213989258)]"
      ]
     },
     "execution_count": 4,
     "metadata": {},
     "output_type": "execute_result"
    }
   ],
   "source": [
    "# f192\n",
    "model.wv.most_similar(\n",
    "    positive=[\n",
    "        'http://td.com/gara/g100994',\n",
    "        'http://td.com/fornitore/f40358',\n",
    "    ], \n",
    "    negative=[\n",
    "        'http://td.com/gara/g100995',\n",
    "    ]\n",
    ")"
   ]
  }
 ],
 "metadata": {
  "kernelspec": {
   "display_name": "Python 3",
   "language": "python",
   "name": "python3"
  },
  "language_info": {
   "codemirror_mode": {
    "name": "ipython",
    "version": 3
   },
   "file_extension": ".py",
   "mimetype": "text/x-python",
   "name": "python",
   "nbconvert_exporter": "python",
   "pygments_lexer": "ipython3",
   "version": "3.5.4"
  }
 },
 "nbformat": 4,
 "nbformat_minor": 2
}
