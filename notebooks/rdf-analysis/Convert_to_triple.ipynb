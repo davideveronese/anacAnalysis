{
 "cells": [
  {
   "cell_type": "code",
   "execution_count": 1,
   "metadata": {},
   "outputs": [],
   "source": [
    "import json\n",
    "import pandas as pd\n",
    "from rdflib.namespace import DC, FOAF\n",
    "from rdflib import Graph, Literal, BNode, Namespace, RDF, URIRef, Namespace"
   ]
  },
  {
   "cell_type": "markdown",
   "metadata": {},
   "source": [
    "### Input data"
   ]
  },
  {
   "cell_type": "code",
   "execution_count": 2,
   "metadata": {},
   "outputs": [
    {
     "data": {
      "text/plain": [
       "(100, 17)"
      ]
     },
     "execution_count": 2,
     "metadata": {},
     "output_type": "execute_result"
    }
   ],
   "source": [
    "input_file = \"/home/chris/Workspace/app/anacDATA/lil_anacDataset_postprocessed.tsv\"\n",
    "df = pd.read_csv(input_file, sep=\"\\t\", dtype=object)\n",
    "# df.head()\n",
    "df.shape"
   ]
  },
  {
   "cell_type": "markdown",
   "metadata": {},
   "source": [
    "### Prefixes"
   ]
  },
  {
   "cell_type": "code",
   "execution_count": 3,
   "metadata": {},
   "outputs": [],
   "source": [
    "g = Graph()\n",
    "\n",
    "tds = Namespace(\"http://td.com/schema/\")\n",
    "g.bind(\"tds\", URIRef(\"http://td.com/schema/\"))\n",
    "\n",
    "rel = Namespace(\"http://td.com/schema/rel/\")\n",
    "g.bind(\"rel\", URIRef(\"http://td.com/schema/rel/\"))\n",
    "\n",
    "pa = Namespace(\"http://td.com/pa/\")\n",
    "g.bind(\"pa\", URIRef(\"http://td.com/pa/\"))\n",
    "\n",
    "gara = Namespace(\"http://td.com/gara/\")\n",
    "g.bind(\"gara\", URIRef(\"http://td.com/gara/\"))\n",
    "\n",
    "fornitore = Namespace(\"http://td.com/fornitore/\")\n",
    "g.bind(\"fornitore\", URIRef(\"http://td.com/fornitore/\"))\n",
    "\n",
    "g.bind(\"rdf\", URIRef(\"http://www.w3.org/1999/02/22-rdf-syntax-ns#\"))"
   ]
  },
  {
   "cell_type": "markdown",
   "metadata": {},
   "source": [
    "### tsv to triples"
   ]
  },
  {
   "cell_type": "code",
   "execution_count": 4,
   "metadata": {},
   "outputs": [],
   "source": [
    "num_gara = 0\n",
    "num_pa = 0\n",
    "num_forni = 0\n",
    "\n",
    "for index, row in df.iterrows():\n",
    "    curr_gara = URIRef(gara + \"g\" + str(num_gara))\n",
    "    g.add( (curr_gara, RDF.type, tds.gara) )\n",
    "    \n",
    "    # --\n",
    "    if row['cig'] != \"0000000000\":\n",
    "        g.add( (curr_gara, rel.cig, Literal(row['cig'])) )\n",
    "    \n",
    "    # -- \n",
    "    curr_pa = g.value(None, rel.cf, Literal(row['cfStrutturaProponente']))\n",
    "    if not curr_pa:\n",
    "        curr_pa = URIRef(pa + \"p\" + str(num_pa))\n",
    "        num_pa += 1\n",
    "    g.add( (curr_pa, rel.cf, Literal(row['cfStrutturaProponente'])) )\n",
    "    g.add( (curr_pa, rel.denominazione, Literal(row['denominazioneStrutturaProponente'])) )\n",
    "    g.add( (curr_pa, RDF.type, tds.pa) )\n",
    "    \n",
    "    # --\n",
    "    g.add( (curr_gara, rel.oggetto, Literal(row['oggetto'])) )\n",
    "    \n",
    "    # --\n",
    "    g.add( (curr_gara, rel.scelta_contraente, Literal(row['sceltaContraente'])) )\n",
    "    \n",
    "    # --\n",
    "    g.add( (curr_gara, rel.importo_aggiudicazione, Literal(float(row['importoAggiudicazione']))) )\n",
    "    \n",
    "    # --\n",
    "    g.add( (curr_gara, rel.importo_somme_liquidate, Literal(float(row['importoSommeLiquidate']))) )\n",
    "    \n",
    "    # --\n",
    "    g.add( (curr_gara, rel.data_inizio, Literal(row['dataInizio'])) )\n",
    "    \n",
    "    # --\n",
    "    g.add( (curr_gara, rel.data_ultimazione, Literal(row['dataUltimazione'])) )\n",
    "    \n",
    "    # -- partecipanti\n",
    "    json_partecipanti = json.loads(row['jsonPartecipanti'])\n",
    "    if json_partecipanti[\"partecipante\"]:\n",
    "        for part in json_partecipanti[\"partecipante\"]:\n",
    "            cf  = part['codiceFiscale']\n",
    "            ife = part['identificativoFiscaleEstero']\n",
    "            rs  = part['ragioneSociale']\n",
    "            \n",
    "            forni = g.value(None, rel.cf, Literal(cf))\n",
    "            if not forni:\n",
    "                forni = URIRef(fornitore + \"f\" + str(num_forni))\n",
    "                num_forni += 1\n",
    "                g.add( (forni, rel.cf, Literal(cf)) )\n",
    "                g.add( (forni, rel.identificativo_fiscale_estero, Literal(ife)) )\n",
    "                g.add( (forni, rel.ragione_sociale, Literal(rs)) ) \n",
    "                g.add( (forni, RDF.type, tds.fornitore) )\n",
    "            g.add( (forni, rel.partecipa, curr_gara) )\n",
    "            \n",
    "    if json_partecipanti[\"raggruppamento\"]:\n",
    "        \n",
    "        for gruppi in json_partecipanti[\"raggruppamento\"]:\n",
    "            gruppo = gruppi[\"membro\"]\n",
    "            blank_node = BNode()\n",
    "            for membro in gruppo:\n",
    "                cf  = membro['codiceFiscale']\n",
    "                ife = membro['identificativoFiscaleEstero']\n",
    "                rs  = membro['ragioneSociale']\n",
    "                ruolo  = membro['ruolo']\n",
    "\n",
    "                forni = g.value(None, rel.cf, Literal(cf))\n",
    "                if not forni:\n",
    "                    forni = URIRef(fornitore + \"f\" + str(num_forni))\n",
    "                    num_forni += 1\n",
    "                    g.add( (forni, rel.cf, Literal(cf)) )\n",
    "                    g.add( (forni, rel.identificativo_fiscale_estero, Literal(ife)) )\n",
    "                    g.add( (forni, rel.ragione_sociale, Literal(rs)) )\n",
    "                    g.add( (forni, RDF.type, tds.fornitore) ) \n",
    "                \n",
    "                g.add( (forni, URIRef(rel + ruolo[3:]), blank_node) ) \n",
    "                g.add( (forni, rel.membro, blank_node) )\n",
    "                g.add( (blank_node, rel.partecipa, curr_gara) )\n",
    "\n",
    "    # -- aggiudicatari\n",
    "    json_aggiudicatari = json.loads(row['jsonAggiudicatari'])\n",
    "    if json_aggiudicatari[\"aggiudicatario\"]:\n",
    "        cf  = json_aggiudicatari['aggiudicatario'][0]['codiceFiscale']\n",
    "        ife = json_aggiudicatari['aggiudicatario'][0]['identificativoFiscaleEstero']\n",
    "        rs  = json_aggiudicatari['aggiudicatario'][0]['ragioneSociale']\n",
    "        \n",
    "        forni = g.value(None, rel.cf, Literal(cf))\n",
    "        if not forni:\n",
    "            forni = URIRef(fornitore + \"f\" + str(num_forni))\n",
    "            num_forni += 1\n",
    "            g.add( (forni, RDF.type, tds.fornitore) )\n",
    "            g.add( (forni, rel.cf, Literal(cf)) )\n",
    "            g.add( (forni, rel.identificativo_fiscale_estero, Literal(ife)) )\n",
    "            g.add( (forni, rel.ragione_sociale, Literal(rs)) )\n",
    "        g.add( (forni, rel.vince, curr_gara) ) \n",
    "            \n",
    "    if json_aggiudicatari[\"aggiudicatarioRaggruppamento\"]:\n",
    "        array_aggiudicatari = json_aggiudicatari['aggiudicatarioRaggruppamento'][0]['membro']\n",
    "        cf_membri = [membro['codiceFiscale'] for membro in array_aggiudicatari]\n",
    "        query_params = \"\"\n",
    "        var_alias = 0\n",
    "        \n",
    "        for cf in cf_membri:\n",
    "            query_params = query_params + \"?\" + str(var_alias) + \" rel:cf \\\"\" + cf + \"\\\" . \\n\\t\"\n",
    "            query_params = query_params + \"?\" + str(var_alias) + \" rel:membro ?n . \\n\\t\"\n",
    "            var_alias += 1\n",
    "        \n",
    "        q = \"\"\"SELECT DISTINCT ?n\n",
    "               WHERE {\"\"\" + query_params + \"\"\"\n",
    "                     ?n rel:partecipa gara:\"\"\" + \"g\" + str(num_gara) + \"\"\" .\n",
    "            }\"\"\"\n",
    "        qres = g.query(q)\n",
    "        if len(qres) == 1:\n",
    "            for res in qres:\n",
    "                g.add( (res[0], rel.vince, curr_gara) ) \n",
    "        \n",
    "    num_gara += 1"
   ]
  },
  {
   "cell_type": "markdown",
   "metadata": {},
   "source": [
    "### Output data"
   ]
  },
  {
   "cell_type": "code",
   "execution_count": 5,
   "metadata": {},
   "outputs": [],
   "source": [
    "outpu_file = \"/home/chris/Workspace/app/anacDATA/triple/output.ttl\"\n",
    "serialized = g.serialize(format='turtle')\n",
    "\n",
    "with open(outpu_file, \"w+\") as file:\n",
    "    file.write(str(serialized, \"utf-8\").replace(\"\\\\n\", \"\\n\"))"
   ]
  },
  {
   "cell_type": "code",
   "execution_count": null,
   "metadata": {},
   "outputs": [],
   "source": []
  },
  {
   "cell_type": "code",
   "execution_count": 14,
   "metadata": {},
   "outputs": [
    {
     "name": "stdout",
     "output_type": "stream",
     "text": [
      "b'@prefix foaf: <http://xmlns.com/foaf/0.1/> .\n",
      "@prefix fornitore: <http://td.com/fornitore/> .\n",
      "@prefix gara: <http://td.com/gara/> .\n",
      "@prefix pa: <http://td.com/pa/> .\n",
      "@prefix rdf: <http://www.w3.org/1999/02/22-rdf-syntax-ns#> .\n",
      "@prefix rdfs: <http://www.w3.org/2000/01/rdf-schema#> .\n",
      "@prefix rel: <http://td.com/schema/rel/> .\n",
      "@prefix tds: <http://td.com/schema/> .\n",
      "@prefix xml: <http://www.w3.org/XML/1998/namespace> .\n",
      "@prefix xsd: <http://www.w3.org/2001/XMLSchema#> .\n",
      "\n",
      "fornitore:foggia rel:vince gara:c .\n",
      "\n",
      "pa:foggia a foaf:Person ;\n",
      "    rel:vince gara:c .\n",
      "\n",
      "tds:pino a foaf:Persona ;\n",
      "    rel:cf \"gigigig\" .\n",
      "\n",
      "'\n"
     ]
    }
   ],
   "source": [
    "s = graph.serialize(format='turtle')\n",
    "print(str(s).replace(\"\\\\n\", \"\\n\"))"
   ]
  }
 ],
 "metadata": {
  "kernelspec": {
   "display_name": "Python 3",
   "language": "python",
   "name": "python3"
  },
  "language_info": {
   "codemirror_mode": {
    "name": "ipython",
    "version": 3
   },
   "file_extension": ".py",
   "mimetype": "text/x-python",
   "name": "python",
   "nbconvert_exporter": "python",
   "pygments_lexer": "ipython3",
   "version": "3.5.4"
  }
 },
 "nbformat": 4,
 "nbformat_minor": 2
}
