{
 "cells": [
  {
   "cell_type": "code",
   "execution_count": 1,
   "metadata": {},
   "outputs": [],
   "source": [
    "import os\n",
    "import sys\n",
    "import json\n",
    "import pandas as pd\n",
    "from util.converter import *\n",
    "\n",
    "sys.path.append(os.path.abspath(\".\"))\n",
    "from rdflib import Graph, Literal, BNode, Namespace, RDF, URIRef, Namespace"
   ]
  },
  {
   "cell_type": "markdown",
   "metadata": {},
   "source": [
    "### Input Output file"
   ]
  },
  {
   "cell_type": "code",
   "execution_count": 2,
   "metadata": {},
   "outputs": [],
   "source": [
    "input_file  = \"/home/chris/Workspace/app/anacDATA/1M_anacDataset_postprocessed.tsv\"\n",
    "output_file = \"/home/chris/Workspace/app/anacDATA/triple/1M_output_py.ttl\""
   ]
  },
  {
   "cell_type": "code",
   "execution_count": 3,
   "metadata": {},
   "outputs": [
    {
     "name": "stdout",
     "output_type": "stream",
     "text": [
      "0\n",
      "100000\n",
      "200000\n",
      "300000\n",
      "400000\n",
      "500000\n",
      "600000\n",
      "700000\n",
      "800000\n",
      "900000\n",
      "1000000\n",
      "--- Triples generated ---\n",
      "CPU times: user 32min 30s, sys: 6.44 s, total: 32min 36s\n",
      "Wall time: 32min 39s\n"
     ]
    }
   ],
   "source": [
    "%%time\n",
    "rdf_conv = RDFConverter(input_file)\n",
    "rdf_conv.convert()"
   ]
  },
  {
   "cell_type": "code",
   "execution_count": 4,
   "metadata": {},
   "outputs": [],
   "source": [
    "rdf_conv.print_on_file(output_file)"
   ]
  },
  {
   "cell_type": "code",
   "execution_count": 9,
   "metadata": {},
   "outputs": [
    {
     "name": "stdout",
     "output_type": "stream",
     "text": [
      "Input file lines: 1000000\n",
      "Number of triples: 12425032\n",
      "\n",
      "Input file size 654590282\n",
      "Output file size 502817928\n"
     ]
    }
   ],
   "source": [
    "print(\"Input file lines:\",  1000000)\n",
    "print(\"Number of triples:\", len(rdf_conv.graph))\n",
    "print()\n",
    "print(\"Input file size\",  os.path.getsize(input_file))\n",
    "print(\"Output file size\", os.path.getsize(output_file))"
   ]
  }
 ],
 "metadata": {
  "kernelspec": {
   "display_name": "Python 3",
   "language": "python",
   "name": "python3"
  },
  "language_info": {
   "codemirror_mode": {
    "name": "ipython",
    "version": 3
   },
   "file_extension": ".py",
   "mimetype": "text/x-python",
   "name": "python",
   "nbconvert_exporter": "python",
   "pygments_lexer": "ipython3",
   "version": "3.5.4"
  }
 },
 "nbformat": 4,
 "nbformat_minor": 2
}
